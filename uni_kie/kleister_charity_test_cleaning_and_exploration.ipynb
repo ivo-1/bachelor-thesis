{
 "cells": [
  {
   "cell_type": "code",
   "execution_count": 1,
   "metadata": {
    "collapsed": false
   },
   "outputs": [],
   "source": [
    "import pandas as pd\n",
    "import numpy as np\n",
    "import matplotlib.pyplot as plt\n",
    "from transformers import GPT2TokenizerFast\n",
    "import seaborn as sns"
   ]
  },
  {
   "cell_type": "code",
   "execution_count": 2,
   "metadata": {},
   "outputs": [],
   "source": [
    "tokenizer = GPT2TokenizerFast.from_pretrained(\"gpt2\") # this is the same tokenizer that openai uses for their instructGPT model family"
   ]
  },
  {
   "cell_type": "code",
   "execution_count": 3,
   "metadata": {
    "collapsed": true
   },
   "outputs": [],
   "source": [
    "path_to_data = \"./datasets/kleister_charity/test-A/in.tsv\"\n",
    "path_to_headers = \"./datasets/kleister_charity/in-header.tsv\"\n",
    "\n",
    "data = pd.read_csv(path_to_data, sep=\"\\t\", header=None)\n",
    "headers = pd.read_csv(path_to_headers, sep=\"\\t\", header=None)\n",
    "data.columns = headers.iloc[0]\n",
    "data = data.drop(columns=[\"text_djvu\", \"text_tesseract\", \"text_textract\"])"
   ]
  },
  {
   "cell_type": "code",
   "execution_count": 4,
   "metadata": {
    "collapsed": false
   },
   "outputs": [
    {
     "data": {
      "text/html": [
       "<div>\n",
       "<style scoped>\n",
       "    .dataframe tbody tr th:only-of-type {\n",
       "        vertical-align: middle;\n",
       "    }\n",
       "\n",
       "    .dataframe tbody tr th {\n",
       "        vertical-align: top;\n",
       "    }\n",
       "\n",
       "    .dataframe thead th {\n",
       "        text-align: right;\n",
       "    }\n",
       "</style>\n",
       "<table border=\"1\" class=\"dataframe\">\n",
       "  <thead>\n",
       "    <tr style=\"text-align: right;\">\n",
       "      <th></th>\n",
       "      <th>filename</th>\n",
       "      <th>keys</th>\n",
       "      <th>text_best</th>\n",
       "    </tr>\n",
       "  </thead>\n",
       "  <tbody>\n",
       "    <tr>\n",
       "      <th>0</th>\n",
       "      <td>abbf98ed31e28068150dce58296302ee.pdf</td>\n",
       "      <td>address__post_town address__postcode address__...</td>\n",
       "      <td>PRAESTAT OPES SAPIENTIA\\nHAMPTON SCHOOL\\n(A Ch...</td>\n",
       "    </tr>\n",
       "    <tr>\n",
       "      <th>1</th>\n",
       "      <td>f3e363848aea2fa645814f2de0221a5a.pdf</td>\n",
       "      <td>address__post_town address__postcode address__...</td>\n",
       "      <td>28 November 2015\\nHPPC Financial Statements YE...</td>\n",
       "    </tr>\n",
       "    <tr>\n",
       "      <th>2</th>\n",
       "      <td>62acdd1bbd0dfeea27da2720eb795449.pdf</td>\n",
       "      <td>address__post_town address__postcode address__...</td>\n",
       "      <td>1\\nIER\\nMarch 2012\\nIndependent Examiner’s\\nRe...</td>\n",
       "    </tr>\n",
       "    <tr>\n",
       "      <th>3</th>\n",
       "      <td>e734bc7dfc9b37c5dd2c3a37693062e8.pdf</td>\n",
       "      <td>address__post_town address__postcode address__...</td>\n",
       "      <td>~e-SCh44\\nBreachwood Green PreSchool\\nRegister...</td>\n",
       "    </tr>\n",
       "    <tr>\n",
       "      <th>4</th>\n",
       "      <td>cb6b0949a2f9294750e436f7ea2f10ce.pdf</td>\n",
       "      <td>address__post_town address__postcode address__...</td>\n",
       "      <td>hahcrar alcrlfcrd haptat church\\nBishop's Stor...</td>\n",
       "    </tr>\n",
       "  </tbody>\n",
       "</table>\n",
       "</div>"
      ],
      "text/plain": [
       "0                              filename  \\\n",
       "0  abbf98ed31e28068150dce58296302ee.pdf   \n",
       "1  f3e363848aea2fa645814f2de0221a5a.pdf   \n",
       "2  62acdd1bbd0dfeea27da2720eb795449.pdf   \n",
       "3  e734bc7dfc9b37c5dd2c3a37693062e8.pdf   \n",
       "4  cb6b0949a2f9294750e436f7ea2f10ce.pdf   \n",
       "\n",
       "0                                               keys  \\\n",
       "0  address__post_town address__postcode address__...   \n",
       "1  address__post_town address__postcode address__...   \n",
       "2  address__post_town address__postcode address__...   \n",
       "3  address__post_town address__postcode address__...   \n",
       "4  address__post_town address__postcode address__...   \n",
       "\n",
       "0                                          text_best  \n",
       "0  PRAESTAT OPES SAPIENTIA\\nHAMPTON SCHOOL\\n(A Ch...  \n",
       "1  28 November 2015\\nHPPC Financial Statements YE...  \n",
       "2  1\\nIER\\nMarch 2012\\nIndependent Examiner’s\\nRe...  \n",
       "3  ~e-SCh44\\nBreachwood Green PreSchool\\nRegister...  \n",
       "4  hahcrar alcrlfcrd haptat church\\nBishop's Stor...  "
      ]
     },
     "execution_count": 4,
     "metadata": {},
     "output_type": "execute_result"
    }
   ],
   "source": [
    "data.head()"
   ]
  },
  {
   "cell_type": "code",
   "execution_count": 5,
   "metadata": {
    "collapsed": false
   },
   "outputs": [
    {
     "data": {
      "text/plain": [
       "609"
      ]
     },
     "execution_count": 5,
     "metadata": {},
     "output_type": "execute_result"
    }
   ],
   "source": [
    "len(data)"
   ]
  },
  {
   "cell_type": "markdown",
   "metadata": {},
   "source": [
    "Let's look at the gold keys that we should find in any given document. Although note that some documents don't contain answers to all of the keys, in which case it's correct to simply leave them out."
   ]
  },
  {
   "cell_type": "code",
   "execution_count": 6,
   "metadata": {},
   "outputs": [
    {
     "data": {
      "text/plain": [
       "'address__post_town address__postcode address__street_line charity_name charity_number income_annually_in_british_pounds report_date spending_annually_in_british_pounds'"
      ]
     },
     "execution_count": 6,
     "metadata": {},
     "output_type": "execute_result"
    }
   ],
   "source": [
    "data.iloc[0][\"keys\"]"
   ]
  },
  {
   "cell_type": "markdown",
   "metadata": {},
   "source": [
    "Let's look at how many tokens are in a given document and save it in the dataframe."
   ]
  },
  {
   "cell_type": "code",
   "execution_count": 7,
   "metadata": {},
   "outputs": [
    {
     "name": "stderr",
     "output_type": "stream",
     "text": [
      "Token indices sequence length is longer than the specified maximum sequence length for this model (30796 > 1024). Running this sequence through the model will result in indexing errors\n"
     ]
    }
   ],
   "source": [
    "data[\"text_best_number_of_tokens\"] = data[\"text_best\"].apply(lambda x: len(tokenizer(x)[\"input_ids\"]))"
   ]
  },
  {
   "cell_type": "code",
   "execution_count": 8,
   "metadata": {},
   "outputs": [
    {
     "data": {
      "text/html": [
       "<div>\n",
       "<style scoped>\n",
       "    .dataframe tbody tr th:only-of-type {\n",
       "        vertical-align: middle;\n",
       "    }\n",
       "\n",
       "    .dataframe tbody tr th {\n",
       "        vertical-align: top;\n",
       "    }\n",
       "\n",
       "    .dataframe thead th {\n",
       "        text-align: right;\n",
       "    }\n",
       "</style>\n",
       "<table border=\"1\" class=\"dataframe\">\n",
       "  <thead>\n",
       "    <tr style=\"text-align: right;\">\n",
       "      <th></th>\n",
       "      <th>filename</th>\n",
       "      <th>keys</th>\n",
       "      <th>text_best</th>\n",
       "      <th>text_best_number_of_tokens</th>\n",
       "    </tr>\n",
       "  </thead>\n",
       "  <tbody>\n",
       "    <tr>\n",
       "      <th>0</th>\n",
       "      <td>abbf98ed31e28068150dce58296302ee.pdf</td>\n",
       "      <td>address__post_town address__postcode address__...</td>\n",
       "      <td>PRAESTAT OPES SAPIENTIA\\nHAMPTON SCHOOL\\n(A Ch...</td>\n",
       "      <td>30796</td>\n",
       "    </tr>\n",
       "    <tr>\n",
       "      <th>1</th>\n",
       "      <td>f3e363848aea2fa645814f2de0221a5a.pdf</td>\n",
       "      <td>address__post_town address__postcode address__...</td>\n",
       "      <td>28 November 2015\\nHPPC Financial Statements YE...</td>\n",
       "      <td>29596</td>\n",
       "    </tr>\n",
       "    <tr>\n",
       "      <th>2</th>\n",
       "      <td>62acdd1bbd0dfeea27da2720eb795449.pdf</td>\n",
       "      <td>address__post_town address__postcode address__...</td>\n",
       "      <td>1\\nIER\\nMarch 2012\\nIndependent Examiner’s\\nRe...</td>\n",
       "      <td>4369</td>\n",
       "    </tr>\n",
       "    <tr>\n",
       "      <th>3</th>\n",
       "      <td>e734bc7dfc9b37c5dd2c3a37693062e8.pdf</td>\n",
       "      <td>address__post_town address__postcode address__...</td>\n",
       "      <td>~e-SCh44\\nBreachwood Green PreSchool\\nRegister...</td>\n",
       "      <td>3016</td>\n",
       "    </tr>\n",
       "    <tr>\n",
       "      <th>4</th>\n",
       "      <td>cb6b0949a2f9294750e436f7ea2f10ce.pdf</td>\n",
       "      <td>address__post_town address__postcode address__...</td>\n",
       "      <td>hahcrar alcrlfcrd haptat church\\nBishop's Stor...</td>\n",
       "      <td>13639</td>\n",
       "    </tr>\n",
       "  </tbody>\n",
       "</table>\n",
       "</div>"
      ],
      "text/plain": [
       "0                              filename  \\\n",
       "0  abbf98ed31e28068150dce58296302ee.pdf   \n",
       "1  f3e363848aea2fa645814f2de0221a5a.pdf   \n",
       "2  62acdd1bbd0dfeea27da2720eb795449.pdf   \n",
       "3  e734bc7dfc9b37c5dd2c3a37693062e8.pdf   \n",
       "4  cb6b0949a2f9294750e436f7ea2f10ce.pdf   \n",
       "\n",
       "0                                               keys  \\\n",
       "0  address__post_town address__postcode address__...   \n",
       "1  address__post_town address__postcode address__...   \n",
       "2  address__post_town address__postcode address__...   \n",
       "3  address__post_town address__postcode address__...   \n",
       "4  address__post_town address__postcode address__...   \n",
       "\n",
       "0                                          text_best  \\\n",
       "0  PRAESTAT OPES SAPIENTIA\\nHAMPTON SCHOOL\\n(A Ch...   \n",
       "1  28 November 2015\\nHPPC Financial Statements YE...   \n",
       "2  1\\nIER\\nMarch 2012\\nIndependent Examiner’s\\nRe...   \n",
       "3  ~e-SCh44\\nBreachwood Green PreSchool\\nRegister...   \n",
       "4  hahcrar alcrlfcrd haptat church\\nBishop's Stor...   \n",
       "\n",
       "0  text_best_number_of_tokens  \n",
       "0                       30796  \n",
       "1                       29596  \n",
       "2                        4369  \n",
       "3                        3016  \n",
       "4                       13639  "
      ]
     },
     "execution_count": 8,
     "metadata": {},
     "output_type": "execute_result"
    }
   ],
   "source": [
    "data.head()"
   ]
  },
  {
   "cell_type": "code",
   "execution_count": 9,
   "metadata": {},
   "outputs": [
    {
     "data": {
      "text/plain": [
       "count       609.000000\n",
       "mean      12746.845649\n",
       "std       19274.031890\n",
       "min         439.000000\n",
       "25%        4331.000000\n",
       "50%        7206.000000\n",
       "75%       16617.000000\n",
       "max      294640.000000\n",
       "Name: text_best_number_of_tokens, dtype: float64"
      ]
     },
     "execution_count": 9,
     "metadata": {},
     "output_type": "execute_result"
    }
   ],
   "source": [
    "data[\"text_best_number_of_tokens\"].describe()"
   ]
  },
  {
   "cell_type": "markdown",
   "metadata": {},
   "source": [
    "Let's look closer at the distribution of the number of tokens."
   ]
  },
  {
   "cell_type": "code",
   "execution_count": 27,
   "metadata": {},
   "outputs": [
    {
     "name": "stdout",
     "output_type": "stream",
     "text": [
      "294640\n"
     ]
    },
    {
     "data": {
      "image/png": "[encoded data removed]",
      "text/plain": [
       "<Figure size 1000x600 with 1 Axes>"
      ]
     },
     "metadata": {},
     "output_type": "display_data"
    }
   ],
   "source": [
    "sns.set_style(\"whitegrid\")\n",
    "sns.set_context(\"paper\", font_scale=1.5)\n",
    "sns.set_palette(\"colorblind\")\n",
    "\n",
    "fig, ax = plt.subplots(figsize=(10, 6))\n",
    "sns.histplot(data=data, x=data[\"text_best_number_of_tokens\"], kde=True, ax=ax, binwidth=1500)\n",
    "ax.set_title(\"Distribution of number of tokens in documents\")\n",
    "ax.set_xlabel(f\"Number of tokens (n_bins={len(ax.patches)})\")\n",
    "ax.set_ylabel(f\"Number of documents (n={len(data)})\")\n",
    "ax.axvline(data[\"text_best_number_of_tokens\"].mean(), color=\"red\", linestyle=\"--\", label=\"Mean\")\n",
    "ax.axvline(data[\"text_best_number_of_tokens\"].median(), color=\"green\", linestyle=\"--\", label=\"Median\")\n",
    "\n",
    "ax.legend()\n",
    "ax.set_xlim(0, 50000)\n",
    "\n",
    "print(max(data[\"text_best_number_of_tokens\"]))\n",
    "\n",
    "ax.set_ylim(0, 115)\n",
    "\n",
    "plt.show()\n",
    "fig.savefig(\"plots/token_distribution_zoom_test.png\", dpi=300, bbox_inches=\"tight\")"
   ]
  },
  {
   "cell_type": "markdown",
   "metadata": {},
   "source": [
    "Let's look at the shortest document to get a better idea of what the input text looks like."
   ]
  },
  {
   "cell_type": "code",
   "execution_count": 11,
   "metadata": {},
   "outputs": [
    {
     "data": {
      "text/plain": [
       "'SWALLOWNEST PLAYGROUP\\\\nCharity No 1042186\\\\nANNUAL REPORT 2015-16\\\\nThis year we have held our level of funds that has allowed\\\\nschool to continue to deliver a high level of Early Years child\\\\neducation.\\\\nThis year we maintained our Quality Mark status.\\\\nThe staff continued to attend various training courses in\\\\norder to maintain the high standard of teaching required.\\\\nThe staff and parent committee were able to secure the\\\\nfunds to decorate the classroom and the work has been\\\\ncompleted.\\\\nThe staff and parent committee continue to work together to\\\\nobtain funds for teaching and educational resources.\\\\nWith continued support from parents and the community we\\\\nwill continue to move forward.\\\\nIncome Statement for Period\\\\nEnded August 2015 to July 2016\\\\nInterest\\\\n8.86\\\\nFunding\\\\n41934.01\\\\nFees\\\\n23446.17\\\\nFees\\\\nTotal Receipts\\\\n65389.04\\\\nRedundancy Provision\\\\n1300.00\\\\nCO-OP\\\\n800.44\\\\nWages\\\\n49273.92\\\\nRoom Hire\\\\n5265.32\\\\nPlay Items\\\\n2651.34\\\\nPhoto Copying\\\\n216.00\\\\nPetty Cash\\\\n120.00\\\\nEquipment\\\\n349.00\\\\nPostage\\\\n1895.05\\\\nMisc\\\\n622.80\\\\nCleaning Materials\\\\nInsurance\\\\n359.10\\\\nBank Charges\\\\n330.00\\\\nTotal Expenditure\\\\n63182.97\\\\nSurplus for Year\\\\n2206.07\\\\nD P Markell\\\\n9 Helmsley Close\\\\nSwallownest\\\\nSheffield\\\\nS26 4NU\\\\n27 March 2017\\\\nI can confirm I have audited the accounts for Swallownest Play Group and also confirm the results\\\\nare true and accurate.\\\\nDavid Markell'"
      ]
     },
     "execution_count": 11,
     "metadata": {},
     "output_type": "execute_result"
    }
   ],
   "source": [
    "shortest = data[data[\"text_best\"].apply(lambda x: len(tokenizer(x)[\"input_ids\"])) == data[\"text_best_number_of_tokens\"].min()][\"text_best\"].values[0]\n",
    "shortest"
   ]
  },
  {
   "cell_type": "markdown",
   "metadata": {},
   "source": [
    "We can see that the text contains double escapes for the newline character, i.e. `\\\\n` instead of `\\n`. This also leads to the fact that the string is not represented correctly when printing it."
   ]
  },
  {
   "cell_type": "code",
   "execution_count": 12,
   "metadata": {},
   "outputs": [
    {
     "name": "stdout",
     "output_type": "stream",
     "text": [
      "SWALLOWNEST PLAYGROUP\n",
      "Charity No 1042186\n",
      "ANNUAL REPORT 2015-16\n",
      "This year we have held our level of funds that has allowed\n",
      "school to continue to deliver a high level of Early Years child\n",
      "education.\n",
      "This year we maintained our Quality Mark status.\n",
      "The staff continued to attend various training courses in\n",
      "order to maintain the high standard of teaching required.\n",
      "The staff and parent committee were able to secure the\n",
      "funds to decorate the classroom and the work has been\n",
      "completed.\n",
      "The staff and parent committee continue to work together to\n",
      "obtain funds for teaching and educational resources.\n",
      "With continued support from parents and the community we\n",
      "will continue to move forward.\n",
      "Income Statement for Period\n",
      "Ended August 2015 to July 2016\n",
      "Interest\n",
      "8.86\n",
      "Funding\n",
      "41934.01\n",
      "Fees\n",
      "23446.17\n",
      "Fees\n",
      "Total Receipts\n",
      "65389.04\n",
      "Redundancy Provision\n",
      "1300.00\n",
      "CO-OP\n",
      "800.44\n",
      "Wages\n",
      "49273.92\n",
      "Room Hire\n",
      "5265.32\n",
      "Play Items\n",
      "2651.34\n",
      "Photo Copying\n",
      "216.00\n",
      "Petty Cash\n",
      "120.00\n",
      "Equipment\n",
      "349.00\n",
      "Postage\n",
      "1895.05\n",
      "Misc\n",
      "622.80\n",
      "Cleaning Materials\n",
      "Insurance\n",
      "359.10\n",
      "Bank Charges\n",
      "330.00\n",
      "Total Expenditure\n",
      "63182.97\n",
      "Surplus for Year\n",
      "2206.07\n",
      "D P Markell\n",
      "9 Helmsley Close\n",
      "Swallownest\n",
      "Sheffield\n",
      "S26 4NU\n",
      "27 March 2017\n",
      "I can confirm I have audited the accounts for Swallownest Play Group and also confirm the results\n",
      "are true and accurate.\n",
      "David Markell\n"
     ]
    }
   ],
   "source": [
    "shortest = shortest.replace(\"\\\\n\", \"\\n\")\n",
    "print(shortest)"
   ]
  },
  {
   "cell_type": "markdown",
   "metadata": {},
   "source": [
    "This looks much better. Let's do it for all rows and also for other control characters. Let's also remove redundant spaces."
   ]
  },
  {
   "cell_type": "code",
   "execution_count": 13,
   "metadata": {},
   "outputs": [],
   "source": [
    "data[\"text_best_cleaned\"] = data[\"text_best\"].apply(lambda x: x.replace(\"\\\\n\", \"\\n\").replace(\"\\\\t\", \"\\t\").replace(\"\\\\r\", \"\\r\").replace(\"\\\\\", \"\").replace(\"  \", \" \"))"
   ]
  },
  {
   "cell_type": "markdown",
   "metadata": {},
   "source": [
    "Let's also save the number of tokens of the cleaned text."
   ]
  },
  {
   "cell_type": "code",
   "execution_count": 14,
   "metadata": {},
   "outputs": [],
   "source": [
    "data[\"text_best_cleaned_number_of_tokens\"] = data[\"text_best_cleaned\"].apply(lambda x: len(tokenizer(x)[\"input_ids\"]))"
   ]
  },
  {
   "cell_type": "code",
   "execution_count": 15,
   "metadata": {},
   "outputs": [
    {
     "data": {
      "text/html": [
       "<div>\n",
       "<style scoped>\n",
       "    .dataframe tbody tr th:only-of-type {\n",
       "        vertical-align: middle;\n",
       "    }\n",
       "\n",
       "    .dataframe tbody tr th {\n",
       "        vertical-align: top;\n",
       "    }\n",
       "\n",
       "    .dataframe thead th {\n",
       "        text-align: right;\n",
       "    }\n",
       "</style>\n",
       "<table border=\"1\" class=\"dataframe\">\n",
       "  <thead>\n",
       "    <tr style=\"text-align: right;\">\n",
       "      <th></th>\n",
       "      <th>filename</th>\n",
       "      <th>keys</th>\n",
       "      <th>text_best</th>\n",
       "      <th>text_best_number_of_tokens</th>\n",
       "      <th>text_best_cleaned</th>\n",
       "      <th>text_best_cleaned_number_of_tokens</th>\n",
       "    </tr>\n",
       "  </thead>\n",
       "  <tbody>\n",
       "    <tr>\n",
       "      <th>0</th>\n",
       "      <td>abbf98ed31e28068150dce58296302ee.pdf</td>\n",
       "      <td>address__post_town address__postcode address__...</td>\n",
       "      <td>PRAESTAT OPES SAPIENTIA\\nHAMPTON SCHOOL\\n(A Ch...</td>\n",
       "      <td>30796</td>\n",
       "      <td>PRAESTAT OPES SAPIENTIA\\nHAMPTON SCHOOL\\n(A Ch...</td>\n",
       "      <td>28003</td>\n",
       "    </tr>\n",
       "    <tr>\n",
       "      <th>1</th>\n",
       "      <td>f3e363848aea2fa645814f2de0221a5a.pdf</td>\n",
       "      <td>address__post_town address__postcode address__...</td>\n",
       "      <td>28 November 2015\\nHPPC Financial Statements YE...</td>\n",
       "      <td>29596</td>\n",
       "      <td>28 November 2015\\nHPPC Financial Statements YE...</td>\n",
       "      <td>27039</td>\n",
       "    </tr>\n",
       "    <tr>\n",
       "      <th>2</th>\n",
       "      <td>62acdd1bbd0dfeea27da2720eb795449.pdf</td>\n",
       "      <td>address__post_town address__postcode address__...</td>\n",
       "      <td>1\\nIER\\nMarch 2012\\nIndependent Examiner’s\\nRe...</td>\n",
       "      <td>4369</td>\n",
       "      <td>1\\nIER\\nMarch 2012\\nIndependent Examiner’s\\nRe...</td>\n",
       "      <td>3582</td>\n",
       "    </tr>\n",
       "    <tr>\n",
       "      <th>3</th>\n",
       "      <td>e734bc7dfc9b37c5dd2c3a37693062e8.pdf</td>\n",
       "      <td>address__post_town address__postcode address__...</td>\n",
       "      <td>~e-SCh44\\nBreachwood Green PreSchool\\nRegister...</td>\n",
       "      <td>3016</td>\n",
       "      <td>~e-SCh44\\nBreachwood Green PreSchool\\nRegister...</td>\n",
       "      <td>2720</td>\n",
       "    </tr>\n",
       "    <tr>\n",
       "      <th>4</th>\n",
       "      <td>cb6b0949a2f9294750e436f7ea2f10ce.pdf</td>\n",
       "      <td>address__post_town address__postcode address__...</td>\n",
       "      <td>hahcrar alcrlfcrd haptat church\\nBishop's Stor...</td>\n",
       "      <td>13639</td>\n",
       "      <td>hahcrar alcrlfcrd haptat church\\nBishop's Stor...</td>\n",
       "      <td>12218</td>\n",
       "    </tr>\n",
       "  </tbody>\n",
       "</table>\n",
       "</div>"
      ],
      "text/plain": [
       "0                              filename  \\\n",
       "0  abbf98ed31e28068150dce58296302ee.pdf   \n",
       "1  f3e363848aea2fa645814f2de0221a5a.pdf   \n",
       "2  62acdd1bbd0dfeea27da2720eb795449.pdf   \n",
       "3  e734bc7dfc9b37c5dd2c3a37693062e8.pdf   \n",
       "4  cb6b0949a2f9294750e436f7ea2f10ce.pdf   \n",
       "\n",
       "0                                               keys  \\\n",
       "0  address__post_town address__postcode address__...   \n",
       "1  address__post_town address__postcode address__...   \n",
       "2  address__post_town address__postcode address__...   \n",
       "3  address__post_town address__postcode address__...   \n",
       "4  address__post_town address__postcode address__...   \n",
       "\n",
       "0                                          text_best  \\\n",
       "0  PRAESTAT OPES SAPIENTIA\\nHAMPTON SCHOOL\\n(A Ch...   \n",
       "1  28 November 2015\\nHPPC Financial Statements YE...   \n",
       "2  1\\nIER\\nMarch 2012\\nIndependent Examiner’s\\nRe...   \n",
       "3  ~e-SCh44\\nBreachwood Green PreSchool\\nRegister...   \n",
       "4  hahcrar alcrlfcrd haptat church\\nBishop's Stor...   \n",
       "\n",
       "0  text_best_number_of_tokens  \\\n",
       "0                       30796   \n",
       "1                       29596   \n",
       "2                        4369   \n",
       "3                        3016   \n",
       "4                       13639   \n",
       "\n",
       "0                                  text_best_cleaned  \\\n",
       "0  PRAESTAT OPES SAPIENTIA\\nHAMPTON SCHOOL\\n(A Ch...   \n",
       "1  28 November 2015\\nHPPC Financial Statements YE...   \n",
       "2  1\\nIER\\nMarch 2012\\nIndependent Examiner’s\\nRe...   \n",
       "3  ~e-SCh44\\nBreachwood Green PreSchool\\nRegister...   \n",
       "4  hahcrar alcrlfcrd haptat church\\nBishop's Stor...   \n",
       "\n",
       "0  text_best_cleaned_number_of_tokens  \n",
       "0                               28003  \n",
       "1                               27039  \n",
       "2                                3582  \n",
       "3                                2720  \n",
       "4                               12218  "
      ]
     },
     "execution_count": 15,
     "metadata": {},
     "output_type": "execute_result"
    }
   ],
   "source": [
    "data.head()"
   ]
  },
  {
   "cell_type": "code",
   "execution_count": 16,
   "metadata": {},
   "outputs": [
    {
     "name": "stdout",
     "output_type": "stream",
     "text": [
      "Total number of tokens before cleaning: 7762829\n",
      "Total number of tokens after cleaning: 6991262\n",
      "Percent of tokens that were removed: 9.939250239828795\n"
     ]
    }
   ],
   "source": [
    "print(f\"Total number of tokens before cleaning: {data['text_best_number_of_tokens'].sum()}\")\n",
    "print(f\"Total number of tokens after cleaning: {data['text_best_cleaned_number_of_tokens'].sum()}\")\n",
    "\n",
    "print(f\"Percent of tokens that were removed: {100 - (data['text_best_cleaned_number_of_tokens'].sum() / data['text_best_number_of_tokens'].sum()) * 100}\")"
   ]
  },
  {
   "cell_type": "markdown",
   "metadata": {},
   "source": [
    "Let's see how many documents still have a length longer than 4000 tokens after cleaning, which is the maximum number of tokens that the Davinci model from OpenAI can handle as input. Note that there are 609 documents in total."
   ]
  },
  {
   "cell_type": "code",
   "execution_count": 17,
   "metadata": {},
   "outputs": [
    {
     "data": {
      "text/plain": [
       "444"
      ]
     },
     "execution_count": 17,
     "metadata": {},
     "output_type": "execute_result"
    }
   ],
   "source": [
    "len(data[data[\"text_best_cleaned_number_of_tokens\"] > 4000])"
   ]
  },
  {
   "cell_type": "markdown",
   "metadata": {},
   "source": [
    "The situation looks even more dire when considering the limitation of GPT-NeoX which has a context length of 2048, meaning the total number of tokens (prompt + generated text) cannot exceed 2048. Assuming we keep about 148 tokens for the output, let's find how many documents are longer than 1900 tokens."
   ]
  },
  {
   "cell_type": "code",
   "execution_count": 18,
   "metadata": {},
   "outputs": [
    {
     "data": {
      "text/plain": [
       "588"
      ]
     },
     "execution_count": 18,
     "metadata": {},
     "output_type": "execute_result"
    }
   ],
   "source": [
    "len(data[data[\"text_best_cleaned_number_of_tokens\"] > 1900])"
   ]
  },
  {
   "cell_type": "code",
   "execution_count": 19,
   "metadata": {},
   "outputs": [
    {
     "data": {
      "text/html": [
       "<div>\n",
       "<style scoped>\n",
       "    .dataframe tbody tr th:only-of-type {\n",
       "        vertical-align: middle;\n",
       "    }\n",
       "\n",
       "    .dataframe tbody tr th {\n",
       "        vertical-align: top;\n",
       "    }\n",
       "\n",
       "    .dataframe thead th {\n",
       "        text-align: right;\n",
       "    }\n",
       "</style>\n",
       "<table border=\"1\" class=\"dataframe\">\n",
       "  <thead>\n",
       "    <tr style=\"text-align: right;\">\n",
       "      <th></th>\n",
       "      <th>filename</th>\n",
       "      <th>keys</th>\n",
       "      <th>text_best</th>\n",
       "      <th>text_best_number_of_tokens</th>\n",
       "      <th>text_best_cleaned</th>\n",
       "      <th>text_best_cleaned_number_of_tokens</th>\n",
       "    </tr>\n",
       "  </thead>\n",
       "  <tbody>\n",
       "    <tr>\n",
       "      <th>0</th>\n",
       "      <td>abbf98ed31e28068150dce58296302ee.pdf</td>\n",
       "      <td>address__post_town address__postcode address__...</td>\n",
       "      <td>PRAESTAT OPES SAPIENTIA\\nHAMPTON SCHOOL\\n(A Ch...</td>\n",
       "      <td>30796</td>\n",
       "      <td>PRAESTAT OPES SAPIENTIA\\nHAMPTON SCHOOL\\n(A Ch...</td>\n",
       "      <td>28003</td>\n",
       "    </tr>\n",
       "    <tr>\n",
       "      <th>1</th>\n",
       "      <td>f3e363848aea2fa645814f2de0221a5a.pdf</td>\n",
       "      <td>address__post_town address__postcode address__...</td>\n",
       "      <td>28 November 2015\\nHPPC Financial Statements YE...</td>\n",
       "      <td>29596</td>\n",
       "      <td>28 November 2015\\nHPPC Financial Statements YE...</td>\n",
       "      <td>27039</td>\n",
       "    </tr>\n",
       "    <tr>\n",
       "      <th>2</th>\n",
       "      <td>62acdd1bbd0dfeea27da2720eb795449.pdf</td>\n",
       "      <td>address__post_town address__postcode address__...</td>\n",
       "      <td>1\\nIER\\nMarch 2012\\nIndependent Examiner’s\\nRe...</td>\n",
       "      <td>4369</td>\n",
       "      <td>1\\nIER\\nMarch 2012\\nIndependent Examiner’s\\nRe...</td>\n",
       "      <td>3582</td>\n",
       "    </tr>\n",
       "    <tr>\n",
       "      <th>3</th>\n",
       "      <td>e734bc7dfc9b37c5dd2c3a37693062e8.pdf</td>\n",
       "      <td>address__post_town address__postcode address__...</td>\n",
       "      <td>~e-SCh44\\nBreachwood Green PreSchool\\nRegister...</td>\n",
       "      <td>3016</td>\n",
       "      <td>~e-SCh44\\nBreachwood Green PreSchool\\nRegister...</td>\n",
       "      <td>2720</td>\n",
       "    </tr>\n",
       "    <tr>\n",
       "      <th>4</th>\n",
       "      <td>cb6b0949a2f9294750e436f7ea2f10ce.pdf</td>\n",
       "      <td>address__post_town address__postcode address__...</td>\n",
       "      <td>hahcrar alcrlfcrd haptat church\\nBishop's Stor...</td>\n",
       "      <td>13639</td>\n",
       "      <td>hahcrar alcrlfcrd haptat church\\nBishop's Stor...</td>\n",
       "      <td>12218</td>\n",
       "    </tr>\n",
       "  </tbody>\n",
       "</table>\n",
       "</div>"
      ],
      "text/plain": [
       "0                              filename  \\\n",
       "0  abbf98ed31e28068150dce58296302ee.pdf   \n",
       "1  f3e363848aea2fa645814f2de0221a5a.pdf   \n",
       "2  62acdd1bbd0dfeea27da2720eb795449.pdf   \n",
       "3  e734bc7dfc9b37c5dd2c3a37693062e8.pdf   \n",
       "4  cb6b0949a2f9294750e436f7ea2f10ce.pdf   \n",
       "\n",
       "0                                               keys  \\\n",
       "0  address__post_town address__postcode address__...   \n",
       "1  address__post_town address__postcode address__...   \n",
       "2  address__post_town address__postcode address__...   \n",
       "3  address__post_town address__postcode address__...   \n",
       "4  address__post_town address__postcode address__...   \n",
       "\n",
       "0                                          text_best  \\\n",
       "0  PRAESTAT OPES SAPIENTIA\\nHAMPTON SCHOOL\\n(A Ch...   \n",
       "1  28 November 2015\\nHPPC Financial Statements YE...   \n",
       "2  1\\nIER\\nMarch 2012\\nIndependent Examiner’s\\nRe...   \n",
       "3  ~e-SCh44\\nBreachwood Green PreSchool\\nRegister...   \n",
       "4  hahcrar alcrlfcrd haptat church\\nBishop's Stor...   \n",
       "\n",
       "0  text_best_number_of_tokens  \\\n",
       "0                       30796   \n",
       "1                       29596   \n",
       "2                        4369   \n",
       "3                        3016   \n",
       "4                       13639   \n",
       "\n",
       "0                                  text_best_cleaned  \\\n",
       "0  PRAESTAT OPES SAPIENTIA\\nHAMPTON SCHOOL\\n(A Ch...   \n",
       "1  28 November 2015\\nHPPC Financial Statements YE...   \n",
       "2  1\\nIER\\nMarch 2012\\nIndependent Examiner’s\\nRe...   \n",
       "3  ~e-SCh44\\nBreachwood Green PreSchool\\nRegister...   \n",
       "4  hahcrar alcrlfcrd haptat church\\nBishop's Stor...   \n",
       "\n",
       "0  text_best_cleaned_number_of_tokens  \n",
       "0                               28003  \n",
       "1                               27039  \n",
       "2                                3582  \n",
       "3                                2720  \n",
       "4                               12218  "
      ]
     },
     "execution_count": 19,
     "metadata": {},
     "output_type": "execute_result"
    }
   ],
   "source": [
    "data.head()"
   ]
  },
  {
   "cell_type": "code",
   "execution_count": 20,
   "metadata": {},
   "outputs": [],
   "source": [
    "data.to_csv(\"./datasets/kleister_charity/test-A/in_extended.tsv\", sep=\"\\t\", index=False)"
   ]
  },
  {
   "cell_type": "code",
   "execution_count": 21,
   "metadata": {},
   "outputs": [
    {
     "data": {
      "text/html": [
       "<div>\n",
       "<style scoped>\n",
       "    .dataframe tbody tr th:only-of-type {\n",
       "        vertical-align: middle;\n",
       "    }\n",
       "\n",
       "    .dataframe tbody tr th {\n",
       "        vertical-align: top;\n",
       "    }\n",
       "\n",
       "    .dataframe thead th {\n",
       "        text-align: right;\n",
       "    }\n",
       "</style>\n",
       "<table border=\"1\" class=\"dataframe\">\n",
       "  <thead>\n",
       "    <tr style=\"text-align: right;\">\n",
       "      <th></th>\n",
       "      <th>filename</th>\n",
       "      <th>keys</th>\n",
       "      <th>text_best</th>\n",
       "      <th>text_best_number_of_tokens</th>\n",
       "      <th>text_best_cleaned</th>\n",
       "      <th>text_best_cleaned_number_of_tokens</th>\n",
       "    </tr>\n",
       "  </thead>\n",
       "  <tbody>\n",
       "    <tr>\n",
       "      <th>390</th>\n",
       "      <td>b6b29176dc874f9d27e8746d51fcf8cb.pdf</td>\n",
       "      <td>address__post_town address__postcode address__...</td>\n",
       "      <td>SWALLOWNEST PLAYGROUP\\nCharity No 1042186\\nANN...</td>\n",
       "      <td>439</td>\n",
       "      <td>SWALLOWNEST PLAYGROUP\\nCharity No 1042186\\nANN...</td>\n",
       "      <td>375</td>\n",
       "    </tr>\n",
       "    <tr>\n",
       "      <th>260</th>\n",
       "      <td>6f6455ca99e1b5fa504f57b211b6fd1e.pdf</td>\n",
       "      <td>address__post_town address__postcode address__...</td>\n",
       "      <td>Swallownest Pre School (Playgroup)\\nAnnual Rep...</td>\n",
       "      <td>500</td>\n",
       "      <td>Swallownest Pre School (Playgroup)\\nAnnual Rep...</td>\n",
       "      <td>437</td>\n",
       "    </tr>\n",
       "    <tr>\n",
       "      <th>317</th>\n",
       "      <td>2a794c6d00c8b73f86a1ae30854f1452.pdf</td>\n",
       "      <td>address__post_town address__postcode address__...</td>\n",
       "      <td>Ghousia Mehra Trust of Harlow\\nCharity number:...</td>\n",
       "      <td>1050</td>\n",
       "      <td>Ghousia Mehra Trust of Harlow\\nCharity number:...</td>\n",
       "      <td>949</td>\n",
       "    </tr>\n",
       "    <tr>\n",
       "      <th>311</th>\n",
       "      <td>2674cf593545bd61ab2bc4aeca8a5021.pdf</td>\n",
       "      <td>address__post_town address__postcode address__...</td>\n",
       "      <td>£\\n£\\nFee Income\\n53,751 .89\\nSalaries\\n32,290...</td>\n",
       "      <td>1194</td>\n",
       "      <td>£\\n£\\nFee Income\\n53,751 .89\\nSalaries\\n32,290...</td>\n",
       "      <td>1068</td>\n",
       "    </tr>\n",
       "    <tr>\n",
       "      <th>209</th>\n",
       "      <td>371ca8f29a40f220bd84326dec803b9f.pdf</td>\n",
       "      <td>address__post_town address__postcode address__...</td>\n",
       "      <td>WILD ACRE RESCUE\\nRegistered Charity No 115331...</td>\n",
       "      <td>1248</td>\n",
       "      <td>WILD ACRE RESCUE\\nRegistered Charity No 115331...</td>\n",
       "      <td>1122</td>\n",
       "    </tr>\n",
       "  </tbody>\n",
       "</table>\n",
       "</div>"
      ],
      "text/plain": [
       "0                                filename  \\\n",
       "390  b6b29176dc874f9d27e8746d51fcf8cb.pdf   \n",
       "260  6f6455ca99e1b5fa504f57b211b6fd1e.pdf   \n",
       "317  2a794c6d00c8b73f86a1ae30854f1452.pdf   \n",
       "311  2674cf593545bd61ab2bc4aeca8a5021.pdf   \n",
       "209  371ca8f29a40f220bd84326dec803b9f.pdf   \n",
       "\n",
       "0                                                 keys  \\\n",
       "390  address__post_town address__postcode address__...   \n",
       "260  address__post_town address__postcode address__...   \n",
       "317  address__post_town address__postcode address__...   \n",
       "311  address__post_town address__postcode address__...   \n",
       "209  address__post_town address__postcode address__...   \n",
       "\n",
       "0                                            text_best  \\\n",
       "390  SWALLOWNEST PLAYGROUP\\nCharity No 1042186\\nANN...   \n",
       "260  Swallownest Pre School (Playgroup)\\nAnnual Rep...   \n",
       "317  Ghousia Mehra Trust of Harlow\\nCharity number:...   \n",
       "311  £\\n£\\nFee Income\\n53,751 .89\\nSalaries\\n32,290...   \n",
       "209  WILD ACRE RESCUE\\nRegistered Charity No 115331...   \n",
       "\n",
       "0    text_best_number_of_tokens  \\\n",
       "390                         439   \n",
       "260                         500   \n",
       "317                        1050   \n",
       "311                        1194   \n",
       "209                        1248   \n",
       "\n",
       "0                                    text_best_cleaned  \\\n",
       "390  SWALLOWNEST PLAYGROUP\\nCharity No 1042186\\nANN...   \n",
       "260  Swallownest Pre School (Playgroup)\\nAnnual Rep...   \n",
       "317  Ghousia Mehra Trust of Harlow\\nCharity number:...   \n",
       "311  £\\n£\\nFee Income\\n53,751 .89\\nSalaries\\n32,290...   \n",
       "209  WILD ACRE RESCUE\\nRegistered Charity No 115331...   \n",
       "\n",
       "0    text_best_cleaned_number_of_tokens  \n",
       "390                                 375  \n",
       "260                                 437  \n",
       "317                                 949  \n",
       "311                                1068  \n",
       "209                                1122  "
      ]
     },
     "execution_count": 21,
     "metadata": {},
     "output_type": "execute_result"
    }
   ],
   "source": [
    "# sort data by text_best_cleaned_number_of_tokens (ascending)\n",
    "data = data.sort_values(by=\"text_best_cleaned_number_of_tokens\", ascending=True)\n",
    "data.head()"
   ]
  },
  {
   "cell_type": "code",
   "execution_count": 22,
   "metadata": {},
   "outputs": [
    {
     "name": "stdout",
     "output_type": "stream",
     "text": [
      "SWALLOWNEST PLAYGROUP\n",
      "Charity No 1042186\n",
      "ANNUAL REPORT 2015-16\n",
      "This year we have held our level of funds that has allowed\n",
      "school to continue to deliver a high level of Early Years child\n",
      "education.\n",
      "This year we maintained our Quality Mark status.\n",
      "The staff continued to attend various training courses in\n",
      "order to maintain the high standard of teaching required.\n",
      "The staff and parent committee were able to secure the\n",
      "funds to decorate the classroom and the work has been\n",
      "completed.\n",
      "The staff and parent committee continue to work together to\n",
      "obtain funds for teaching and educational resources.\n",
      "With continued support from parents and the community we\n",
      "will continue to move forward.\n",
      "Income Statement for Period\n",
      "Ended August 2015 to July 2016\n",
      "Interest\n",
      "8.86\n",
      "Funding\n",
      "41934.01\n",
      "Fees\n",
      "23446.17\n",
      "Fees\n",
      "Total Receipts\n",
      "65389.04\n",
      "Redundancy Provision\n",
      "1300.00\n",
      "CO-OP\n",
      "800.44\n",
      "Wages\n",
      "49273.92\n",
      "Room Hire\n",
      "5265.32\n",
      "Play Items\n",
      "2651.34\n",
      "Photo Copying\n",
      "216.00\n",
      "Petty Cash\n",
      "120.00\n",
      "Equipment\n",
      "349.00\n",
      "Postage\n",
      "1895.05\n",
      "Misc\n",
      "622.80\n",
      "Cleaning Materials\n",
      "Insurance\n",
      "359.10\n",
      "Bank Charges\n",
      "330.00\n",
      "Total Expenditure\n",
      "63182.97\n",
      "Surplus for Year\n",
      "2206.07\n",
      "D P Markell\n",
      "9 Helmsley Close\n",
      "Swallownest\n",
      "Sheffield\n",
      "S26 4NU\n",
      "27 March 2017\n",
      "I can confirm I have audited the accounts for Swallownest Play Group and also confirm the results\n",
      "are true and accurate.\n",
      "David Markell\n"
     ]
    }
   ],
   "source": [
    "# get text_best_cleaned of the shortest document (without gold annotation errors)\n",
    "shortest = data.iloc[0][\"text_best_cleaned\"]\n",
    "print(shortest)"
   ]
  }
 ],
 "metadata": {
  "kernelspec": {
   "display_name": "Python 3.8.5 ('uni-kie-JrmAaldC-py3.8')",
   "language": "python",
   "name": "python3"
  },
  "language_info": {
   "codemirror_mode": {
    "name": "ipython",
    "version": 3
   },
   "file_extension": ".py",
   "mimetype": "text/x-python",
   "name": "python",
   "nbconvert_exporter": "python",
   "pygments_lexer": "ipython3",
   "version": "3.8.5"
  },
  "vscode": {
   "interpreter": {
    "hash": "cec8707b55c29234c829cd46c92f0adfa2b741d49905cfffb1cd22fea1c1c224"
   }
  }
 },
 "nbformat": 4,
 "nbformat_minor": 0
}
