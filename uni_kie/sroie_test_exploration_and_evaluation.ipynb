{
 "cells": [
  {
   "attachments": {},
   "cell_type": "markdown",
   "metadata": {},
   "source": [
    "# SET DESIRED EVALUATION RUNS HERE"
   ]
  },
  {
   "cell_type": "code",
   "execution_count": 136,
   "metadata": {},
   "outputs": [],
   "source": [
    "MODEL = 'davinci' # 'flan-t5', 'neox' or 'davinci' (temperature is set to whatever is optimal for each model)\n",
    "SHOTS = 2 # 0, 1, or 2"
   ]
  },
  {
   "cell_type": "code",
   "execution_count": 4,
   "metadata": {
    "collapsed": false
   },
   "outputs": [],
   "source": [
    "import pandas as pd\n",
    "import numpy as np\n",
    "import matplotlib.pyplot as plt\n",
    "from transformers import GPT2TokenizerFast\n",
    "import seaborn as sns\n",
    "from uni_kie.pdf_to_text.pdf_to_text import SroieWrapperOwnOCR, SroieWrapper\n",
    "import os\n",
    "import json"
   ]
  },
  {
   "cell_type": "code",
   "execution_count": 5,
   "metadata": {},
   "outputs": [],
   "source": [
    "tokenizer = GPT2TokenizerFast.from_pretrained(\"gpt2\") # this is the same tokenizer that openai uses for their instructGPT model family"
   ]
  },
  {
   "cell_type": "code",
   "execution_count": 6,
   "metadata": {},
   "outputs": [],
   "source": [
    "data = pd.DataFrame(columns=[\"filename\", \"text_own_ocr\", \"num_tokens_own_ocr\", \"text_sroie_ocr\", \"num_tokens_sroie_ocr\"])"
   ]
  },
  {
   "attachments": {},
   "cell_type": "markdown",
   "metadata": {},
   "source": [
    "## Extracting text with own OCR (PyMuPDF)"
   ]
  },
  {
   "cell_type": "code",
   "execution_count": 7,
   "metadata": {},
   "outputs": [
    {
     "name": "stdout",
     "output_type": "stream",
     "text": [
      ">>>>>>>>>>>>>> LOADING test SET\n"
     ]
    },
    {
     "name": "stderr",
     "output_type": "stream",
     "text": [
      "Error in pixScaleAreaMap: pixd too small\n",
      "Error in pixClone: pixs not defined\n",
      "Error in pixCopyText: pixd not defined\n",
      "Error in pixCopyInputFormat: pixd not defined\n",
      "Scaling pix of size 8, 1596 by factor 0.0225564 made null pix!!\n",
      "Bad pix from ImageData!\n",
      "Line cannot be recognized!!\n",
      "Image too small to scale!! (1x36 vs min width of 3)\n",
      "Line cannot be recognized!!\n",
      "Image too small to scale!! (2x36 vs min width of 3)\n",
      "Line cannot be recognized!!\n"
     ]
    },
    {
     "ename": "KeyboardInterrupt",
     "evalue": "",
     "output_type": "error",
     "traceback": [
      "\u001b[0;31m---------------------------------------------------------------------------\u001b[0m",
      "\u001b[0;31mKeyboardInterrupt\u001b[0m                         Traceback (most recent call last)",
      "Cell \u001b[0;32mIn [7], line 5\u001b[0m\n\u001b[1;32m      3\u001b[0m \u001b[39mfor\u001b[39;00m i \u001b[39min\u001b[39;00m \u001b[39mrange\u001b[39m(\u001b[39mlen\u001b[39m(sroie_wrapper_own_ocr\u001b[39m.\u001b[39mdata)):\n\u001b[1;32m      4\u001b[0m     filename \u001b[39m=\u001b[39m sroie_wrapper_own_ocr\u001b[39m.\u001b[39mdata[i]\n\u001b[0;32m----> 5\u001b[0m     text_own_ocr \u001b[39m=\u001b[39m sroie_wrapper_own_ocr\u001b[39m.\u001b[39;49mget_text(filename)\n\u001b[1;32m      6\u001b[0m     num_tokens_own_ocr \u001b[39m=\u001b[39m \u001b[39mlen\u001b[39m(tokenizer(text_own_ocr)[\u001b[39m'\u001b[39m\u001b[39minput_ids\u001b[39m\u001b[39m'\u001b[39m])\n\u001b[1;32m      7\u001b[0m     data \u001b[39m=\u001b[39m pd\u001b[39m.\u001b[39mconcat([data, pd\u001b[39m.\u001b[39mDataFrame({\u001b[39m'\u001b[39m\u001b[39mfilename\u001b[39m\u001b[39m'\u001b[39m: [filename], \u001b[39m'\u001b[39m\u001b[39mtext_own_ocr\u001b[39m\u001b[39m'\u001b[39m: [text_own_ocr], \u001b[39m'\u001b[39m\u001b[39mnum_tokens_own_ocr\u001b[39m\u001b[39m'\u001b[39m: [num_tokens_own_ocr]})], ignore_index\u001b[39m=\u001b[39m\u001b[39mTrue\u001b[39;00m)\n",
      "File \u001b[0;32m~/PycharmProjects/Levity/unimodal-kie/uni_kie/pdf_to_text/pdf_to_text.py:155\u001b[0m, in \u001b[0;36mSroieWrapperOwnOCR.get_text\u001b[0;34m(self, file_path)\u001b[0m\n\u001b[1;32m    154\u001b[0m \u001b[39mdef\u001b[39;00m \u001b[39mget_text\u001b[39m(\u001b[39mself\u001b[39m, file_path: Union[Path, \u001b[39mstr\u001b[39m]) \u001b[39m-\u001b[39m\u001b[39m>\u001b[39m \u001b[39mstr\u001b[39m:\n\u001b[0;32m--> 155\u001b[0m     text \u001b[39m=\u001b[39m \u001b[39msuper\u001b[39;49m()\u001b[39m.\u001b[39;49mget_text(file_path, filetype\u001b[39m=\u001b[39;49m\u001b[39m\"\u001b[39;49m\u001b[39mjpg\u001b[39;49m\u001b[39m\"\u001b[39;49m)\n\u001b[1;32m    156\u001b[0m     \u001b[39mreturn\u001b[39;00m text\n",
      "File \u001b[0;32m~/PycharmProjects/Levity/unimodal-kie/uni_kie/pdf_to_text/pdf_to_text.py:50\u001b[0m, in \u001b[0;36mPyMuPDFWrapper.get_text\u001b[0;34m(self, file_path, filetype)\u001b[0m\n\u001b[1;32m     48\u001b[0m     text \u001b[39m=\u001b[39m \u001b[39m\"\u001b[39m\u001b[39m\"\u001b[39m\n\u001b[1;32m     49\u001b[0m     \u001b[39mfor\u001b[39;00m page \u001b[39min\u001b[39;00m doc:\n\u001b[0;32m---> 50\u001b[0m         partial_tp \u001b[39m=\u001b[39m page\u001b[39m.\u001b[39;49mget_textpage_ocr(flags\u001b[39m=\u001b[39;49m\u001b[39m0\u001b[39;49m, full\u001b[39m=\u001b[39;49m\u001b[39mFalse\u001b[39;49;00m)\n\u001b[1;32m     51\u001b[0m         text \u001b[39m+\u001b[39m\u001b[39m=\u001b[39m page\u001b[39m.\u001b[39mget_text(textpage\u001b[39m=\u001b[39mpartial_tp, sort\u001b[39m=\u001b[39m\u001b[39mTrue\u001b[39;00m) \u001b[39m+\u001b[39m \u001b[39m\"\u001b[39m\u001b[39m\\n\u001b[39;00m\u001b[39m\"\u001b[39m\n\u001b[1;32m     52\u001b[0m \u001b[39mreturn\u001b[39;00m text\n",
      "File \u001b[0;32m~/Library/Caches/pypoetry/virtualenvs/uni-kie-JrmAaldC-py3.8/lib/python3.8/site-packages/fitz/utils.py:606\u001b[0m, in \u001b[0;36mget_textpage_ocr\u001b[0;34m(page, flags, language, dpi, full)\u001b[0m\n\u001b[1;32m    603\u001b[0m \u001b[39mif\u001b[39;00m pix\u001b[39m.\u001b[39malpha:  \u001b[39m# must remove alpha channel\u001b[39;00m\n\u001b[1;32m    604\u001b[0m     pix \u001b[39m=\u001b[39m Pixmap(pix, \u001b[39m0\u001b[39m)\n\u001b[1;32m    605\u001b[0m imgdoc \u001b[39m=\u001b[39m Document(\n\u001b[0;32m--> 606\u001b[0m     \u001b[39m\"\u001b[39m\u001b[39mpdf\u001b[39m\u001b[39m\"\u001b[39m, pix\u001b[39m.\u001b[39;49mpdfocr_tobytes(language\u001b[39m=\u001b[39;49mlanguage)\n\u001b[1;32m    607\u001b[0m )  \u001b[39m# pdf with OCRed page\u001b[39;00m\n\u001b[1;32m    608\u001b[0m imgpage \u001b[39m=\u001b[39m imgdoc\u001b[39m.\u001b[39mload_page(\u001b[39m0\u001b[39m)  \u001b[39m# read image as a page\u001b[39;00m\n\u001b[1;32m    609\u001b[0m pix \u001b[39m=\u001b[39m \u001b[39mNone\u001b[39;00m\n",
      "File \u001b[0;32m~/Library/Caches/pypoetry/virtualenvs/uni-kie-JrmAaldC-py3.8/lib/python3.8/site-packages/fitz/fitz.py:6937\u001b[0m, in \u001b[0;36mPixmap.pdfocr_tobytes\u001b[0;34m(self, compress, language)\u001b[0m\n\u001b[1;32m   6935\u001b[0m \u001b[39mfrom\u001b[39;00m \u001b[39mio\u001b[39;00m \u001b[39mimport\u001b[39;00m BytesIO\n\u001b[1;32m   6936\u001b[0m bio \u001b[39m=\u001b[39m BytesIO()\n\u001b[0;32m-> 6937\u001b[0m \u001b[39mself\u001b[39;49m\u001b[39m.\u001b[39;49mpdfocr_save(bio, compress\u001b[39m=\u001b[39;49mcompress, language\u001b[39m=\u001b[39;49mlanguage)\n\u001b[1;32m   6938\u001b[0m \u001b[39mreturn\u001b[39;00m bio\u001b[39m.\u001b[39mgetvalue()\n",
      "File \u001b[0;32m~/Library/Caches/pypoetry/virtualenvs/uni-kie-JrmAaldC-py3.8/lib/python3.8/site-packages/fitz/fitz.py:6917\u001b[0m, in \u001b[0;36mPixmap.pdfocr_save\u001b[0;34m(self, filename, compress, language)\u001b[0m\n\u001b[1;32m   6913\u001b[0m \u001b[39mdef\u001b[39;00m \u001b[39mpdfocr_save\u001b[39m(\u001b[39mself\u001b[39m, filename, compress\u001b[39m=\u001b[39m\u001b[39m1\u001b[39m, language\u001b[39m=\u001b[39m\u001b[39mNone\u001b[39;00m):\n\u001b[1;32m   6915\u001b[0m     EnsureOwnership(\u001b[39mself\u001b[39m)\n\u001b[0;32m-> 6917\u001b[0m     \u001b[39mreturn\u001b[39;00m _fitz\u001b[39m.\u001b[39;49mPixmap_pdfocr_save(\u001b[39mself\u001b[39;49m, filename, compress, language)\n",
      "\u001b[0;31mKeyboardInterrupt\u001b[0m: "
     ]
    }
   ],
   "source": [
    "sroie_wrapper_own_ocr = SroieWrapperOwnOCR()\n",
    "\n",
    "for i in range(len(sroie_wrapper_own_ocr.data)):\n",
    "    filename = sroie_wrapper_own_ocr.data[i]\n",
    "    text_own_ocr = sroie_wrapper_own_ocr.get_text(filename)\n",
    "    num_tokens_own_ocr = len(tokenizer(text_own_ocr)['input_ids'])\n",
    "    data = pd.concat([data, pd.DataFrame({'filename': [filename], 'text_own_ocr': [text_own_ocr], 'num_tokens_own_ocr': [num_tokens_own_ocr]})], ignore_index=True)"
   ]
  },
  {
   "attachments": {},
   "cell_type": "markdown",
   "metadata": {},
   "source": [
    "We can see that there are a lot of warnings which suggest that the OCR'd output may have issues. Let's look at an example:"
   ]
  },
  {
   "cell_type": "code",
   "execution_count": null,
   "metadata": {},
   "outputs": [
    {
     "data": {
      "text/plain": [
       "PosixPath('/Users/ivo/PycharmProjects/Levity/unimodal-kie/uni_kie/datasets/sroie/test/input/X51006619842.jpg')"
      ]
     },
     "execution_count": 5,
     "metadata": {},
     "output_type": "execute_result"
    }
   ],
   "source": [
    "data.iloc[1][\"filename\"]"
   ]
  },
  {
   "attachments": {},
   "cell_type": "markdown",
   "metadata": {},
   "source": [
    "<img src=\"/Users/ivo/PycharmProjects/Levity/unimodal-kie/uni_kie/datasets/sroie/test/input/X51006619842.jpg\" width=250>"
   ]
  },
  {
   "attachments": {},
   "cell_type": "markdown",
   "metadata": {},
   "source": [
    "The extracted text for this receipt is:"
   ]
  },
  {
   "cell_type": "code",
   "execution_count": null,
   "metadata": {},
   "outputs": [
    {
     "name": "stdout",
     "output_type": "stream",
     "text": [
      "ae.\n",
      "ee\n",
      "ee\n",
      "Sy\n",
      "i\n",
      "ee te Se i\n",
      "rn\n",
      "pe Ae\n",
      "\n",
      "\n"
     ]
    }
   ],
   "source": [
    "print(data.iloc[1]['text_own_ocr'])"
   ]
  },
  {
   "cell_type": "code",
   "execution_count": null,
   "metadata": {
    "collapsed": false
   },
   "outputs": [
    {
     "data": {
      "text/html": [
       "<div>\n",
       "<style scoped>\n",
       "    .dataframe tbody tr th:only-of-type {\n",
       "        vertical-align: middle;\n",
       "    }\n",
       "\n",
       "    .dataframe tbody tr th {\n",
       "        vertical-align: top;\n",
       "    }\n",
       "\n",
       "    .dataframe thead th {\n",
       "        text-align: right;\n",
       "    }\n",
       "</style>\n",
       "<table border=\"1\" class=\"dataframe\">\n",
       "  <thead>\n",
       "    <tr style=\"text-align: right;\">\n",
       "      <th></th>\n",
       "      <th>filename</th>\n",
       "      <th>text_own_ocr</th>\n",
       "      <th>num_tokens_own_ocr</th>\n",
       "      <th>text_sroie_ocr</th>\n",
       "      <th>num_tokens_sroie_ocr</th>\n",
       "    </tr>\n",
       "  </thead>\n",
       "  <tbody>\n",
       "    <tr>\n",
       "      <th>0</th>\n",
       "      <td>/Users/ivo/PycharmProjects/Levity/unimodal-kie...</td>\n",
       "      <td>3 \\@ 02\\nO14,\\nLIM SENG THO HARDWARE TRADING\\n...</td>\n",
       "      <td>274</td>\n",
       "      <td>NaN</td>\n",
       "      <td>NaN</td>\n",
       "    </tr>\n",
       "    <tr>\n",
       "      <th>1</th>\n",
       "      <td>/Users/ivo/PycharmProjects/Levity/unimodal-kie...</td>\n",
       "      <td>ae.\\nee\\nee\\nSy\\ni\\nee te Se i\\nrn\\npe Ae\\n\\n</td>\n",
       "      <td>21</td>\n",
       "      <td>NaN</td>\n",
       "      <td>NaN</td>\n",
       "    </tr>\n",
       "    <tr>\n",
       "      <th>2</th>\n",
       "      <td>/Users/ivo/PycharmProjects/Levity/unimodal-kie...</td>\n",
       "      <td>(481500-M)\\nCW KHOO HARDWARE SDN BHD\\nNO.50 , ...</td>\n",
       "      <td>330</td>\n",
       "      <td>NaN</td>\n",
       "      <td>NaN</td>\n",
       "    </tr>\n",
       "    <tr>\n",
       "      <th>3</th>\n",
       "      <td>/Users/ivo/PycharmProjects/Levity/unimodal-kie...</td>\n",
       "      <td>oe\\nAEON CU.\\n(M) BHD (126926-H)\\n+\\n3RD FLR, ...</td>\n",
       "      <td>268</td>\n",
       "      <td>NaN</td>\n",
       "      <td>NaN</td>\n",
       "    </tr>\n",
       "    <tr>\n",
       "      <th>4</th>\n",
       "      <td>/Users/ivo/PycharmProjects/Levity/unimodal-kie...</td>\n",
       "      <td>SANYO STATIONERY SHOP\\nNO. 31G8&amp;33G, JALAN SET...</td>\n",
       "      <td>357</td>\n",
       "      <td>NaN</td>\n",
       "      <td>NaN</td>\n",
       "    </tr>\n",
       "  </tbody>\n",
       "</table>\n",
       "</div>"
      ],
      "text/plain": [
       "                                            filename  \\\n",
       "0  /Users/ivo/PycharmProjects/Levity/unimodal-kie...   \n",
       "1  /Users/ivo/PycharmProjects/Levity/unimodal-kie...   \n",
       "2  /Users/ivo/PycharmProjects/Levity/unimodal-kie...   \n",
       "3  /Users/ivo/PycharmProjects/Levity/unimodal-kie...   \n",
       "4  /Users/ivo/PycharmProjects/Levity/unimodal-kie...   \n",
       "\n",
       "                                        text_own_ocr num_tokens_own_ocr  \\\n",
       "0  3 \\@ 02\\nO14,\\nLIM SENG THO HARDWARE TRADING\\n...                274   \n",
       "1      ae.\\nee\\nee\\nSy\\ni\\nee te Se i\\nrn\\npe Ae\\n\\n                 21   \n",
       "2  (481500-M)\\nCW KHOO HARDWARE SDN BHD\\nNO.50 , ...                330   \n",
       "3  oe\\nAEON CU.\\n(M) BHD (126926-H)\\n+\\n3RD FLR, ...                268   \n",
       "4  SANYO STATIONERY SHOP\\nNO. 31G8&33G, JALAN SET...                357   \n",
       "\n",
       "  text_sroie_ocr num_tokens_sroie_ocr  \n",
       "0            NaN                  NaN  \n",
       "1            NaN                  NaN  \n",
       "2            NaN                  NaN  \n",
       "3            NaN                  NaN  \n",
       "4            NaN                  NaN  "
      ]
     },
     "execution_count": 7,
     "metadata": {},
     "output_type": "execute_result"
    }
   ],
   "source": [
    "data.head()"
   ]
  },
  {
   "cell_type": "code",
   "execution_count": null,
   "metadata": {},
   "outputs": [
    {
     "name": "stdout",
     "output_type": "stream",
     "text": [
      "mean: 342, median: 335, std: 115, min: 1, max: 785\n",
      "number of documents with less than 100 tokens: 12\n"
     ]
    }
   ],
   "source": [
    "mean = int(np.mean(data['num_tokens_own_ocr']))\n",
    "median = int(np.median(data['num_tokens_own_ocr']))\n",
    "std = int(np.std(data['num_tokens_own_ocr']))\n",
    "min = int(np.min(data['num_tokens_own_ocr']))\n",
    "max = int(np.max(data['num_tokens_own_ocr']))\n",
    "\n",
    "print(f\"mean: {mean}, median: {median}, std: {std}, min: {min}, max: {max}\")\n",
    "\n",
    "print(f\"number of documents with less than 100 tokens: {len(data[data['num_tokens_own_ocr'] < 100])}\")"
   ]
  },
  {
   "cell_type": "markdown",
   "metadata": {},
   "source": [
    "Let's look closer at the distribution of the number of tokens."
   ]
  },
  {
   "cell_type": "code",
   "execution_count": null,
   "metadata": {},
   "outputs": [
    {
     "data": {
      "image/png": "[encoded data removed]",
      "text/plain": [
       "<Figure size 1000x600 with 1 Axes>"
      ]
     },
     "metadata": {},
     "output_type": "display_data"
    }
   ],
   "source": [
    "sns.set_style(\"whitegrid\")\n",
    "sns.set_context(\"paper\", font_scale=1.5)\n",
    "sns.set_palette(\"colorblind\")\n",
    "\n",
    "fig, ax = plt.subplots(figsize=(10, 6))\n",
    "sns.histplot(data=data, x=data[\"num_tokens_own_ocr\"], ax=ax, bins=50)\n",
    "ax.set_title(\"Distribution of number of tokens in documents (with own OCR)\")\n",
    "ax.set_xlabel(f\"Number of tokens (n_bins={len(ax.patches)})\")\n",
    "ax.set_ylabel(f\"Number of documents (n={len(data)})\")\n",
    "ax.axvline(data[\"num_tokens_own_ocr\"].mean(), color=\"red\", linestyle=\"--\", label=\"Mean\")\n",
    "ax.axvline(data[\"num_tokens_own_ocr\"].median(), color=\"green\", linestyle=\"--\", label=\"Median\")\n",
    "\n",
    "ax.set_xlim(0, 810)\n",
    "ax.set_xticks(np.arange(0, 810, 100))\n",
    "\n",
    "ax.set_ylim(0, 34)\n",
    "ax.set_yticks(np.arange(0, 34, 5))\n",
    "\n",
    "ax.legend()\n",
    "\n",
    "plt.show()\n",
    "fig.savefig(\"plots/sroie/token_distribution_own_ocr.png\", dpi=300, bbox_inches=\"tight\")"
   ]
  },
  {
   "cell_type": "markdown",
   "metadata": {},
   "source": [
    "Let's look at the shortest document to get a better idea of what the input text looks like."
   ]
  },
  {
   "cell_type": "code",
   "execution_count": null,
   "metadata": {},
   "outputs": [
    {
     "name": "stdout",
     "output_type": "stream",
     "text": [
      "\n",
      "\n"
     ]
    }
   ],
   "source": [
    "# find the shortest document\n",
    "data[data['num_tokens_own_ocr'] == data['num_tokens_own_ocr'].min()]\n",
    "\n",
    "# print the text of the shortest document\n",
    "print(data[data['num_tokens_own_ocr'] == data['num_tokens_own_ocr'].min()]['text_own_ocr'].values[0])"
   ]
  },
  {
   "attachments": {},
   "cell_type": "markdown",
   "metadata": {},
   "source": [
    "We don't even have any text for this particular receipt."
   ]
  },
  {
   "attachments": {},
   "cell_type": "markdown",
   "metadata": {},
   "source": [
    "Let's check if the text of the receipts fits in our models"
   ]
  },
  {
   "cell_type": "code",
   "execution_count": null,
   "metadata": {},
   "outputs": [
    {
     "name": "stdout",
     "output_type": "stream",
     "text": [
      "The longest document has 785 tokens\n"
     ]
    }
   ],
   "source": [
    "print(f\"The longest document has {data['num_tokens_own_ocr'].max()} tokens\")"
   ]
  },
  {
   "attachments": {},
   "cell_type": "markdown",
   "metadata": {},
   "source": [
    "Great news, even the longest doc will easily fit into our smaller GPT-NeoX and Flan-T5 models (limit 1792)."
   ]
  },
  {
   "attachments": {},
   "cell_type": "markdown",
   "metadata": {},
   "source": [
    "Nonetheless, 12 out of the 347 documents basically don't have any extracted text. Motivated by this and the fact that potential future work should be comparable to ours, we will use the provided OCR by the data set."
   ]
  },
  {
   "attachments": {},
   "cell_type": "markdown",
   "metadata": {},
   "source": [
    "## Using provided OCR"
   ]
  },
  {
   "cell_type": "code",
   "execution_count": 8,
   "metadata": {},
   "outputs": [
    {
     "name": "stdout",
     "output_type": "stream",
     "text": [
      ">>>>>>>>>>>>>> LOADING test SET\n"
     ]
    }
   ],
   "source": [
    "sroie_wrapper = SroieWrapper()\n",
    "\n",
    "for i in range(len(sroie_wrapper.data)):\n",
    "    filename = sroie_wrapper.data.iloc[i]['filename']\n",
    "    text_sroie_ocr = sroie_wrapper.get_text(filename)\n",
    "    num_tokens_sroie_ocr = len(tokenizer(text_sroie_ocr)['input_ids'])\n",
    "\n",
    "    data.loc[data['filename'] == filename, 'text_sroie_ocr'] = text_sroie_ocr\n",
    "    data.loc[data['filename'] == filename, 'num_tokens_sroie_ocr'] = num_tokens_sroie_ocr"
   ]
  },
  {
   "cell_type": "code",
   "execution_count": 9,
   "metadata": {},
   "outputs": [
    {
     "data": {
      "text/html": [
       "<div>\n",
       "<style scoped>\n",
       "    .dataframe tbody tr th:only-of-type {\n",
       "        vertical-align: middle;\n",
       "    }\n",
       "\n",
       "    .dataframe tbody tr th {\n",
       "        vertical-align: top;\n",
       "    }\n",
       "\n",
       "    .dataframe thead th {\n",
       "        text-align: right;\n",
       "    }\n",
       "</style>\n",
       "<table border=\"1\" class=\"dataframe\">\n",
       "  <thead>\n",
       "    <tr style=\"text-align: right;\">\n",
       "      <th></th>\n",
       "      <th>filename</th>\n",
       "      <th>text_own_ocr</th>\n",
       "      <th>num_tokens_own_ocr</th>\n",
       "      <th>text_sroie_ocr</th>\n",
       "      <th>num_tokens_sroie_ocr</th>\n",
       "    </tr>\n",
       "  </thead>\n",
       "  <tbody>\n",
       "    <tr>\n",
       "      <th>0</th>\n",
       "      <td>/Users/ivo/PycharmProjects/Levity/unimodal-kie...</td>\n",
       "      <td>3 \\@ 02\\nO14,\\nLIM SENG THO HARDWARE TRADING\\n...</td>\n",
       "      <td>274</td>\n",
       "      <td>LIM SENG THO HARDWARE TRADING\\nNO 7. SIMPANG O...</td>\n",
       "      <td>267</td>\n",
       "    </tr>\n",
       "    <tr>\n",
       "      <th>1</th>\n",
       "      <td>/Users/ivo/PycharmProjects/Levity/unimodal-kie...</td>\n",
       "      <td>ae.\\nee\\nee\\nSy\\ni\\nee te Se i\\nrn\\npe Ae\\n\\n</td>\n",
       "      <td>21</td>\n",
       "      <td>YIN MA (M) SDN.BHD.(974306-T)\\nNO.2, JALAN UDA...</td>\n",
       "      <td>285</td>\n",
       "    </tr>\n",
       "    <tr>\n",
       "      <th>2</th>\n",
       "      <td>/Users/ivo/PycharmProjects/Levity/unimodal-kie...</td>\n",
       "      <td>(481500-M)\\nCW KHOO HARDWARE SDN BHD\\nNO.50 , ...</td>\n",
       "      <td>330</td>\n",
       "      <td>(481500-M)\\nC W KHOO HARDWARE SDN BHD\\nNO.50 ,...</td>\n",
       "      <td>333</td>\n",
       "    </tr>\n",
       "    <tr>\n",
       "      <th>3</th>\n",
       "      <td>/Users/ivo/PycharmProjects/Levity/unimodal-kie...</td>\n",
       "      <td>oe\\nAEON CU.\\n(M) BHD (126926-H)\\n+\\n3RD FLR, ...</td>\n",
       "      <td>268</td>\n",
       "      <td>AEON CO. (M) BHD (126926-H)\\n3RD FLR, AEON TAM...</td>\n",
       "      <td>272</td>\n",
       "    </tr>\n",
       "  </tbody>\n",
       "</table>\n",
       "</div>"
      ],
      "text/plain": [
       "                                            filename  \\\n",
       "0  /Users/ivo/PycharmProjects/Levity/unimodal-kie...   \n",
       "1  /Users/ivo/PycharmProjects/Levity/unimodal-kie...   \n",
       "2  /Users/ivo/PycharmProjects/Levity/unimodal-kie...   \n",
       "3  /Users/ivo/PycharmProjects/Levity/unimodal-kie...   \n",
       "\n",
       "                                        text_own_ocr num_tokens_own_ocr  \\\n",
       "0  3 \\@ 02\\nO14,\\nLIM SENG THO HARDWARE TRADING\\n...                274   \n",
       "1      ae.\\nee\\nee\\nSy\\ni\\nee te Se i\\nrn\\npe Ae\\n\\n                 21   \n",
       "2  (481500-M)\\nCW KHOO HARDWARE SDN BHD\\nNO.50 , ...                330   \n",
       "3  oe\\nAEON CU.\\n(M) BHD (126926-H)\\n+\\n3RD FLR, ...                268   \n",
       "\n",
       "                                      text_sroie_ocr num_tokens_sroie_ocr  \n",
       "0  LIM SENG THO HARDWARE TRADING\\nNO 7. SIMPANG O...                  267  \n",
       "1  YIN MA (M) SDN.BHD.(974306-T)\\nNO.2, JALAN UDA...                  285  \n",
       "2  (481500-M)\\nC W KHOO HARDWARE SDN BHD\\nNO.50 ,...                  333  \n",
       "3  AEON CO. (M) BHD (126926-H)\\n3RD FLR, AEON TAM...                  272  "
      ]
     },
     "execution_count": 9,
     "metadata": {},
     "output_type": "execute_result"
    }
   ],
   "source": [
    "data.head()"
   ]
  },
  {
   "cell_type": "code",
   "execution_count": 10,
   "metadata": {},
   "outputs": [
    {
     "name": "stdout",
     "output_type": "stream",
     "text": [
      "mean: 289, median: 278, std: 26, min: 267, max: 333\n",
      "number of documents with less than 100 tokens: 0\n"
     ]
    }
   ],
   "source": [
    "mean = int(np.mean(data['num_tokens_sroie_ocr']))\n",
    "median = int(np.median(data['num_tokens_sroie_ocr']))\n",
    "std = int(np.std(data['num_tokens_sroie_ocr']))\n",
    "min = int(np.min(data['num_tokens_sroie_ocr']))\n",
    "max = int(np.max(data['num_tokens_sroie_ocr']))\n",
    "\n",
    "print(f\"mean: {mean}, median: {median}, std: {std}, min: {min}, max: {max}\")\n",
    "\n",
    "print(f\"number of documents with less than 100 tokens: {len(data[data['num_tokens_sroie_ocr'] < 100])}\")"
   ]
  },
  {
   "cell_type": "code",
   "execution_count": 11,
   "metadata": {},
   "outputs": [
    {
     "data": {
      "image/png": "[encoded data removed]",
      "text/plain": [
       "<Figure size 1000x600 with 1 Axes>"
      ]
     },
     "metadata": {},
     "output_type": "display_data"
    }
   ],
   "source": [
    "sns.set_style(\"whitegrid\")\n",
    "sns.set_context(\"paper\", font_scale=1.5)\n",
    "sns.set_palette(\"colorblind\")\n",
    "\n",
    "fig, ax = plt.subplots(figsize=(10, 6))\n",
    "sns.histplot(data=data, x=data[\"num_tokens_sroie_ocr\"], ax=ax, bins=50)\n",
    "ax.set_title(\"Distribution of number of tokens in documents (with provided OCR)\")\n",
    "ax.set_xlabel(f\"Number of tokens (n_bins={len(ax.patches)})\")\n",
    "ax.set_ylabel(f\"Number of documents (n={len(data)})\")\n",
    "ax.axvline(data[\"num_tokens_sroie_ocr\"].mean(), color=\"red\", linestyle=\"--\", label=\"Mean\")\n",
    "ax.axvline(data[\"num_tokens_sroie_ocr\"].median(), color=\"green\", linestyle=\"--\", label=\"Median\")\n",
    "\n",
    "ax.set_xlim(0, 810)\n",
    "ax.set_xticks(np.arange(0, 810, 100))\n",
    "\n",
    "ax.set_ylim(0, 34)\n",
    "ax.set_yticks(np.arange(0, 34, 5))\n",
    "\n",
    "ax.legend()\n",
    "\n",
    "plt.show()\n",
    "fig.savefig(\"plots/sroie/token_distribution_sroie_ocr.png\", dpi=300, bbox_inches=\"tight\")"
   ]
  },
  {
   "cell_type": "code",
   "execution_count": 12,
   "metadata": {},
   "outputs": [
    {
     "name": "stdout",
     "output_type": "stream",
     "text": [
      "LIM SENG THO HARDWARE TRADING\n",
      "NO 7. SIMPANG OFF BATU VILLAGE,\n",
      "JALAN IPOH BATU 5, 51200 KUATA LUMPUR\n",
      "MALAYSIA\n",
      "TEL & FAX NO: 03-6258 7191\n",
      "03-6258 7191\n",
      "COMPAN, REG NO. (002231061-T)\n",
      "GST REG NO. 001269075968\n",
      "TAX INVOICE\n",
      "INVOICE NO\n",
      "CS 24146\n",
      "DATE:\n",
      "02/02/2018 10:06\n",
      "CASMER #\n",
      "LST\n",
      "RM\n",
      "CODE\n",
      "BEG GUNI\n",
      "10.00 NOS\n",
      "X\n",
      "0.70\n",
      "7.00\n",
      "SR\n",
      "SUBTOTAL:\n",
      "7.00\n",
      "TOTAL INCL. OF GST\n",
      "7.00\n",
      "PAYMENT:\n",
      "7.00\n",
      "CHANGE DUE:\n",
      "0.00\n",
      "TOTAL ITEM(S): 10\n",
      "GST SUMMARY\n",
      "AMOUNT(RM)\n",
      "TAX(RM)\n",
      "SR\n",
      "@ 6%\n",
      "6.60\n",
      "0.40\n",
      "THANK YOU\n",
      "PLEASE COME AGAIN\n",
      "*GOODS SOLD ARE NOT RETURNABLE*\n"
     ]
    }
   ],
   "source": [
    "# let's look at the text of the shortest document\n",
    "print(data[data['num_tokens_sroie_ocr'] == data['num_tokens_sroie_ocr'].min()]['text_sroie_ocr'].values[0])"
   ]
  },
  {
   "cell_type": "code",
   "execution_count": 13,
   "metadata": {},
   "outputs": [
    {
     "name": "stdout",
     "output_type": "stream",
     "text": [
      "The longest document has 333 tokens\n"
     ]
    }
   ],
   "source": [
    "print(f\"The longest document has {data['num_tokens_sroie_ocr'].max()} tokens\")"
   ]
  },
  {
   "attachments": {},
   "cell_type": "markdown",
   "metadata": {},
   "source": [
    "## Exploring whether all keys are given in the gold standard (Loading Gold)"
   ]
  },
  {
   "cell_type": "code",
   "execution_count": 14,
   "metadata": {},
   "outputs": [],
   "source": [
    "path_to_sroie = \"./datasets/sroie/test/\""
   ]
  },
  {
   "cell_type": "code",
   "execution_count": 15,
   "metadata": {},
   "outputs": [],
   "source": [
    "path_to_gold_standard = path_to_sroie + \"gold/\"\n",
    "\n",
    "keys = [\"company\", \"date\", \"address\", \"total\"]\n",
    "\n",
    "gold_standard = {}\n",
    "for filename in os.listdir(path_to_gold_standard):\n",
    "    with open(os.path.join(path_to_gold_standard, filename), 'r') as f:\n",
    "        gold_standard[filename] = json.load(f)\n",
    "\n",
    "for filename, file in gold_standard.items():\n",
    "    for key in keys:\n",
    "        if key not in file:\n",
    "            print(f\"{key} is not in {filename}\")\n",
    "        elif file[key] == \"\":\n",
    "            print(f\"{key} in {filename} is an empty string\")"
   ]
  },
  {
   "cell_type": "code",
   "execution_count": 23,
   "metadata": {},
   "outputs": [],
   "source": [
    "# load into a dataframe\n",
    "gold_standard_df = pd.DataFrame.from_dict(gold_standard, orient='index')"
   ]
  },
  {
   "cell_type": "code",
   "execution_count": 137,
   "metadata": {},
   "outputs": [],
   "source": [
    "\n",
    "if MODEL == 'flan-t5':\n",
    "    if SHOTS == 0:\n",
    "        PREDICTION_RUNS_PATHS = [\n",
    "            path_to_sroie + 'predictions/flan-t5/2023-01-25T21-26-54_LLMPipeline(prompt_variant=NeutralPrompt, model=Flan_T5(max_input_tokens=1792, temperature=0, top_p=0.9, top_k=40), parser=DictParser, shots=False)',\n",
    "            path_to_sroie + 'predictions/flan-t5/2023-01-25T21-26-56_LLMPipeline(prompt_variant=NeutralPrompt, model=Flan_T5(max_input_tokens=1792, temperature=0, top_p=0.9, top_k=40), parser=DictParser, shots=False)',\n",
    "            path_to_sroie + 'predictions/flan-t5/2023-01-25T21-29-59_LLMPipeline(prompt_variant=NeutralPrompt, model=Flan_T5(max_input_tokens=1792, temperature=0, top_p=0.9, top_k=40), parser=DictParser, shots=False)',\n",
    "        ]\n",
    "\n",
    "    elif SHOTS == 1:\n",
    "        PREDICTION_RUNS_PATHS = [\n",
    "            path_to_sroie + 'predictions/flan-t5/2023-01-25T21-33-13_LLMPipeline(prompt_variant=NeutralPrompt, model=Flan_T5(max_input_tokens=1792, temperature=0, top_p=0.9, top_k=40), parser=DictParser, shots=True)',\n",
    "            path_to_sroie + 'predictions/flan-t5/2023-01-25T21-33-17_LLMPipeline(prompt_variant=NeutralPrompt, model=Flan_T5(max_input_tokens=1792, temperature=0, top_p=0.9, top_k=40), parser=DictParser, shots=True)',\n",
    "            path_to_sroie + 'predictions/flan-t5/2023-01-25T21-35-11_LLMPipeline(prompt_variant=NeutralPrompt, model=Flan_T5(max_input_tokens=1792, temperature=0, top_p=0.9, top_k=40), parser=DictParser, shots=True)',\n",
    "        ]\n",
    "\n",
    "    elif SHOTS == 2:\n",
    "        PREDICTION_RUNS_PATHS = [\n",
    "            path_to_sroie + 'predictions/flan-t5/2023-01-25T22-00-26_LLMPipeline(prompt_variant=NeutralPrompt, model=Flan_T5(max_input_tokens=1792, temperature=0, top_p=0.9, top_k=40), parser=DictParser, shots=TWOSHOT)',\n",
    "            path_to_sroie + 'predictions/flan-t5/2023-01-25T22-00-28_LLMPipeline(prompt_variant=NeutralPrompt, model=Flan_T5(max_input_tokens=1792, temperature=0, top_p=0.9, top_k=40), parser=DictParser, shots=TWOSHOT)',\n",
    "            path_to_sroie + 'predictions/flan-t5/2023-01-25T22-00-33_LLMPipeline(prompt_variant=NeutralPrompt, model=Flan_T5(max_input_tokens=1792, temperature=0, top_p=0.9, top_k=40), parser=DictParser, shots=TWOSHOT)',\n",
    "        ]\n",
    "\n",
    "elif MODEL == 'neox':\n",
    "    if SHOTS == 0:\n",
    "        PREDICTION_RUNS_PATHS = [\n",
    "            path_to_sroie + 'predictions/neox/2023-01-25T19-27-04_LLMPipeline(prompt_variant=NeutralPrompt, model=GPT_NeoX(max_input_tokens=1792, temperature=1, top_p=0.9, top_k=40, presence_penalty=0, frequency_penalty=0), parser=DictParser, shots=False)',\n",
    "            path_to_sroie + 'predictions/neox/2023-01-25T19-28-11_LLMPipeline(prompt_variant=NeutralPrompt, model=GPT_NeoX(max_input_tokens=1792, temperature=1, top_p=0.9, top_k=40, presence_penalty=0, frequency_penalty=0), parser=DictParser, shots=False)',\n",
    "            path_to_sroie + 'predictions/neox/2023-01-25T19-28-15_LLMPipeline(prompt_variant=NeutralPrompt, model=GPT_NeoX(max_input_tokens=1792, temperature=1, top_p=0.9, top_k=40, presence_penalty=0, frequency_penalty=0), parser=DictParser, shots=False)',\n",
    "        ]\n",
    "\n",
    "    elif SHOTS == 1:\n",
    "        PREDICTION_RUNS_PATHS = [\n",
    "            path_to_sroie + 'predictions/neox/2023-01-25T22-17-14_LLMPipeline(prompt_variant=NeutralPrompt, model=GPT_NeoX(max_input_tokens=1792, temperature=1, top_p=0.9, top_k=40, presence_penalty=0, frequency_penalty=0), parser=DictParser, shots=True)',\n",
    "            path_to_sroie + 'predictions/neox/2023-01-25T22-17-15_LLMPipeline(prompt_variant=NeutralPrompt, model=GPT_NeoX(max_input_tokens=1792, temperature=1, top_p=0.9, top_k=40, presence_penalty=0, frequency_penalty=0), parser=DictParser, shots=True)',\n",
    "            path_to_sroie + 'predictions/neox/2023-01-25T22-17-18_LLMPipeline(prompt_variant=NeutralPrompt, model=GPT_NeoX(max_input_tokens=1792, temperature=1, top_p=0.9, top_k=40, presence_penalty=0, frequency_penalty=0), parser=DictParser, shots=True)',\n",
    "        ]\n",
    "\n",
    "    elif SHOTS == 2:\n",
    "        PREDICTION_RUNS_PATHS = [\n",
    "            path_to_sroie + 'predictions/neox/2023-01-25T22-18-33_LLMPipeline(prompt_variant=NeutralPrompt, model=GPT_NeoX(max_input_tokens=1792, temperature=1, top_p=0.9, top_k=40, presence_penalty=0, frequency_penalty=0), parser=DictParser, shots=TWOSHOT)',\n",
    "            path_to_sroie + 'predictions/neox/2023-01-25T22-18-36_LLMPipeline(prompt_variant=NeutralPrompt, model=GPT_NeoX(max_input_tokens=1792, temperature=1, top_p=0.9, top_k=40, presence_penalty=0, frequency_penalty=0), parser=DictParser, shots=TWOSHOT)',\n",
    "            path_to_sroie + 'predictions/neox/2023-01-25T22-18-39_LLMPipeline(prompt_variant=NeutralPrompt, model=GPT_NeoX(max_input_tokens=1792, temperature=1, top_p=0.9, top_k=40, presence_penalty=0, frequency_penalty=0), parser=DictParser, shots=TWOSHOT)',\n",
    "        ]\n",
    "\n",
    "elif MODEL == 'davinci':\n",
    "    if SHOTS == 0:\n",
    "        PREDICTION_RUNS_PATHS = [\n",
    "            path_to_sroie + 'predictions/davinci/2023-01-26T18-29-10_LLMPipeline(prompt_variant=NeutralPrompt, model=GPT3_Davinci(max_input_tokens=3840, temperature=0.1, top_p=0.9, presence_penalty=0, frequency_penalty=0), parser=DictParser, shots=False)',\n",
    "            path_to_sroie + 'predictions/davinci/2023-01-26T19-02-22_LLMPipeline(prompt_variant=NeutralPrompt, model=GPT3_Davinci(max_input_tokens=3840, temperature=0.1, top_p=0.9, presence_penalty=0, frequency_penalty=0), parser=DictParser, shots=False)',\n",
    "            path_to_sroie + 'predictions/davinci/2023-01-27T12-22-26_LLMPipeline(prompt_variant=NeutralPrompt, model=GPT3_Davinci(max_input_tokens=3840, temperature=0.1, top_p=0.9, presence_penalty=0, frequency_penalty=0), parser=DictParser, shots=False)',\n",
    "        ]\n",
    "\n",
    "    elif SHOTS == 1:\n",
    "        PREDICTION_RUNS_PATHS = [\n",
    "            path_to_sroie + 'predictions/davinci/2023-01-27T12-22-44_LLMPipeline(prompt_variant=NeutralPrompt, model=GPT3_Davinci(max_input_tokens=3840, temperature=0.1, top_p=0.9, presence_penalty=0, frequency_penalty=0), parser=DictParser, shots=True)',\n",
    "            path_to_sroie + 'predictions/davinci/2023-01-27T12-22-46_LLMPipeline(prompt_variant=NeutralPrompt, model=GPT3_Davinci(max_input_tokens=3840, temperature=0.1, top_p=0.9, presence_penalty=0, frequency_penalty=0), parser=DictParser, shots=True)',\n",
    "            path_to_sroie + 'predictions/davinci/2023-01-27T12-22-48_LLMPipeline(prompt_variant=NeutralPrompt, model=GPT3_Davinci(max_input_tokens=3840, temperature=0.1, top_p=0.9, presence_penalty=0, frequency_penalty=0), parser=DictParser, shots=True)',\n",
    "        ]\n",
    "\n",
    "    elif SHOTS == 2:\n",
    "        PREDICTION_RUNS_PATHS = [\n",
    "            path_to_sroie + 'predictions/davinci/2023-01-27T12-23-09_LLMPipeline(prompt_variant=NeutralPrompt, model=GPT3_Davinci(max_input_tokens=3840, temperature=0.1, top_p=0.9, presence_penalty=0, frequency_penalty=0), parser=DictParser, shots=TWOSHOT)',\n",
    "            path_to_sroie + 'predictions/davinci/2023-01-27T12-23-11_LLMPipeline(prompt_variant=NeutralPrompt, model=GPT3_Davinci(max_input_tokens=3840, temperature=0.1, top_p=0.9, presence_penalty=0, frequency_penalty=0), parser=DictParser, shots=TWOSHOT)',\n",
    "            path_to_sroie + 'predictions/davinci/2023-01-27T12-23-13_LLMPipeline(prompt_variant=NeutralPrompt, model=GPT3_Davinci(max_input_tokens=3840, temperature=0.1, top_p=0.9, presence_penalty=0, frequency_penalty=0), parser=DictParser, shots=TWOSHOT)',\n",
    "        ]\n"
   ]
  },
  {
   "cell_type": "code",
   "execution_count": 138,
   "metadata": {},
   "outputs": [],
   "source": [
    "predictions_runs_dfs = []\n",
    "for path in PREDICTION_RUNS_PATHS:\n",
    "    predictions_run = {}\n",
    "    for filename in os.listdir(path):\n",
    "        with open(os.path.join(path, filename), 'r') as f:\n",
    "            predictions_run[filename] = json.load(f)\n",
    "\n",
    "\n",
    "    predictions_run_df = pd.DataFrame.from_dict(predictions_run, orient='index')\n",
    "    predictions_run_df = predictions_run_df.reindex(columns=gold_standard_df.columns, fill_value=np.nan)\n",
    "    predictions_runs_dfs.append(predictions_run_df)\n"
   ]
  },
  {
   "cell_type": "code",
   "execution_count": 139,
   "metadata": {},
   "outputs": [
    {
     "data": {
      "text/html": [
       "<div>\n",
       "<style scoped>\n",
       "    .dataframe tbody tr th:only-of-type {\n",
       "        vertical-align: middle;\n",
       "    }\n",
       "\n",
       "    .dataframe tbody tr th {\n",
       "        vertical-align: top;\n",
       "    }\n",
       "\n",
       "    .dataframe thead th {\n",
       "        text-align: right;\n",
       "    }\n",
       "</style>\n",
       "<table border=\"1\" class=\"dataframe\">\n",
       "  <thead>\n",
       "    <tr style=\"text-align: right;\">\n",
       "      <th></th>\n",
       "      <th>company</th>\n",
       "      <th>date</th>\n",
       "      <th>address</th>\n",
       "      <th>total</th>\n",
       "    </tr>\n",
       "  </thead>\n",
       "  <tbody>\n",
       "    <tr>\n",
       "      <th>X51005675104.txt</th>\n",
       "      <td>SYARIKAT PERNIAGAAN GIN KEE</td>\n",
       "      <td>25/01/2018</td>\n",
       "      <td>NO 290, JALAN AIR PANAS, SETAPAK, 53200, KUALA...</td>\n",
       "      <td>190.80</td>\n",
       "    </tr>\n",
       "    <tr>\n",
       "      <th>X51005568890.txt</th>\n",
       "      <td>HON HWA HARDWARE TRADING</td>\n",
       "      <td>05/01/2017</td>\n",
       "      <td>NO 37, JALAN MANIS 7, TAMAN SEGAR, 56100 CHERA...</td>\n",
       "      <td>5.00</td>\n",
       "    </tr>\n",
       "    <tr>\n",
       "      <th>X00016469670.txt</th>\n",
       "      <td>OJC MARKETING SDN BHD</td>\n",
       "      <td>15/01/2019</td>\n",
       "      <td>NO 2 &amp; 4, JALAN BAYU 4, BANDAR SERI ALAM, 8175...</td>\n",
       "      <td>193.00</td>\n",
       "    </tr>\n",
       "    <tr>\n",
       "      <th>X51006557507.txt</th>\n",
       "      <td>GARDENIA BAKERIES (KL) SDN BHD</td>\n",
       "      <td>27/10/2017</td>\n",
       "      <td>LOT 3, JALAN PELABUR 23/1, 40300 SHAH ALAM, SE...</td>\n",
       "      <td>35.88</td>\n",
       "    </tr>\n",
       "    <tr>\n",
       "      <th>X51007846396.txt</th>\n",
       "      <td>GERBANG ALAF RESTAURANTS SDN BHD</td>\n",
       "      <td>24/06/2018</td>\n",
       "      <td>LEVEL 6, BANGUNAN TH, DAMANSARA UPTOWN3, NO.3,...</td>\n",
       "      <td>7.35</td>\n",
       "    </tr>\n",
       "  </tbody>\n",
       "</table>\n",
       "</div>"
      ],
      "text/plain": [
       "                                           company        date  \\\n",
       "X51005675104.txt       SYARIKAT PERNIAGAAN GIN KEE  25/01/2018   \n",
       "X51005568890.txt          HON HWA HARDWARE TRADING  05/01/2017   \n",
       "X00016469670.txt             OJC MARKETING SDN BHD  15/01/2019   \n",
       "X51006557507.txt    GARDENIA BAKERIES (KL) SDN BHD  27/10/2017   \n",
       "X51007846396.txt  GERBANG ALAF RESTAURANTS SDN BHD  24/06/2018   \n",
       "\n",
       "                                                            address   total  \n",
       "X51005675104.txt  NO 290, JALAN AIR PANAS, SETAPAK, 53200, KUALA...  190.80  \n",
       "X51005568890.txt  NO 37, JALAN MANIS 7, TAMAN SEGAR, 56100 CHERA...    5.00  \n",
       "X00016469670.txt  NO 2 & 4, JALAN BAYU 4, BANDAR SERI ALAM, 8175...  193.00  \n",
       "X51006557507.txt  LOT 3, JALAN PELABUR 23/1, 40300 SHAH ALAM, SE...   35.88  \n",
       "X51007846396.txt  LEVEL 6, BANGUNAN TH, DAMANSARA UPTOWN3, NO.3,...    7.35  "
      ]
     },
     "execution_count": 139,
     "metadata": {},
     "output_type": "execute_result"
    }
   ],
   "source": [
    "predictions_runs_dfs[0].head()"
   ]
  },
  {
   "cell_type": "code",
   "execution_count": 140,
   "metadata": {},
   "outputs": [],
   "source": [
    "# create evaluation dataframe per run\n",
    "eval_dfs = []\n",
    "for predictions_run_df in predictions_runs_dfs:\n",
    "    eval_df = pd.DataFrame()\n",
    "    # iterate over the rows (the documents) of the predictions dataframe\n",
    "    for index, row in predictions_run_df.iterrows():\n",
    "        # check for each column (the keys) if the prediction is correct\n",
    "        for key in keys:\n",
    "            # if the prediction is correct, the value is 1\n",
    "            if row[key] == gold_standard_df.loc[index][key]:\n",
    "                eval_df.loc[index, key] = 1\n",
    "            # if the prediction is incorrect, the value is 0\n",
    "            else:\n",
    "                eval_df.loc[index, key] = 0\n",
    "\n",
    "    # as we only check the documents for which we have predicted at least one key, we need to add the documents for which we have not predicted any key as 0 for all keys\n",
    "    for index, row in gold_standard_df.iterrows():\n",
    "        if index not in eval_df.index:\n",
    "            eval_df.loc[index] = 0\n",
    "\n",
    "    eval_dfs.append(eval_df)"
   ]
  },
  {
   "cell_type": "code",
   "execution_count": 141,
   "metadata": {},
   "outputs": [
    {
     "name": "stdout",
     "output_type": "stream",
     "text": [
      "Accuracy for company: 0.9212295869356387 (min: 0.9193083573487032, max: 0.9221902017291066)\n",
      "Accuracy for date: 0.9058597502401536 (min: 0.9020172910662824, max: 0.9106628242074928)\n",
      "Accuracy for address: 0.5513928914505284 (min: 0.5446685878962536, max: 0.5590778097982709)\n",
      "Accuracy for total: 0.7406340057636888 (min: 0.7406340057636888, max: 0.7406340057636888)\n",
      "Overall accuracy: 0.7797790585975024 (min: 0.7788184438040345, max: 0.7809798270893372)\n"
     ]
    }
   ],
   "source": [
    "# what is the overall accuracy of the model (averaged over the runs with min max and mean)\n",
    "accuracy_by_key = []\n",
    "overall_accuracy = []\n",
    "for eval_df in eval_dfs:\n",
    "    accuracy_by_key.append(eval_df.mean())\n",
    "    overall_accuracy.append(eval_df.mean().mean())\n",
    "\n",
    "# print the accuracy per key\n",
    "for key in keys:\n",
    "    print(f\"Accuracy for {key}: {np.mean([accuracy_by_key[i][key] for i in range(len(accuracy_by_key))])} (min: {np.min([accuracy_by_key[i][key] for i in range(len(accuracy_by_key))])}, max: {np.max([accuracy_by_key[i][key] for i in range(len(accuracy_by_key))])})\")\n",
    "print(f\"Overall accuracy: {np.mean(overall_accuracy)} (min: {np.min(overall_accuracy)}, max: {np.max(overall_accuracy)})\")\n"
   ]
  }
 ],
 "metadata": {
  "kernelspec": {
   "display_name": "Python 3.8.5 ('uni-kie-JrmAaldC-py3.8')",
   "language": "python",
   "name": "python3"
  },
  "language_info": {
   "codemirror_mode": {
    "name": "ipython",
    "version": 3
   },
   "file_extension": ".py",
   "mimetype": "text/x-python",
   "name": "python",
   "nbconvert_exporter": "python",
   "pygments_lexer": "ipython3",
   "version": "3.8.5"
  },
  "vscode": {
   "interpreter": {
    "hash": "cec8707b55c29234c829cd46c92f0adfa2b741d49905cfffb1cd22fea1c1c224"
   }
  }
 },
 "nbformat": 4,
 "nbformat_minor": 0
}
