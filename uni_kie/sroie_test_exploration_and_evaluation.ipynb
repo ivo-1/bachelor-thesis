{
 "cells": [
  {
   "attachments": {},
   "cell_type": "markdown",
   "metadata": {},
   "source": [
    "# SET DESIRED EVALUATION RUNS HERE"
   ]
  },
  {
   "cell_type": "code",
   "execution_count": 1,
   "metadata": {},
   "outputs": [],
   "source": [
    "MODEL = 'davinci' # 'flan-t5', 'neox' or 'davinci' (temperature is set to whatever is optimal for each model)\n",
    "SHOTS = 0 # 0, 1, or 2"
   ]
  },
  {
   "cell_type": "code",
   "execution_count": 2,
   "metadata": {
    "collapsed": false
   },
   "outputs": [],
   "source": [
    "import pandas as pd\n",
    "import numpy as np\n",
    "import matplotlib.pyplot as plt\n",
    "from transformers import GPT2TokenizerFast\n",
    "import seaborn as sns\n",
    "from uni_kie.pdf_to_text.pdf_to_text import SroieWrapperOwnOCR, SroieWrapper\n",
    "import os\n",
    "import json"
   ]
  },
  {
   "cell_type": "code",
   "execution_count": 3,
   "metadata": {},
   "outputs": [],
   "source": [
    "tokenizer = GPT2TokenizerFast.from_pretrained(\"gpt2\") # this is the same tokenizer that openai uses for their instructGPT model family"
   ]
  },
  {
   "cell_type": "code",
   "execution_count": 4,
   "metadata": {},
   "outputs": [],
   "source": [
    "data = pd.DataFrame(columns=[\"filename\", \"text_own_ocr\", \"num_tokens_own_ocr\", \"text_sroie_ocr\", \"num_tokens_sroie_ocr\"])"
   ]
  },
  {
   "attachments": {},
   "cell_type": "markdown",
   "metadata": {},
   "source": [
    "## Extracting text with own OCR (PyMuPDF)"
   ]
  },
  {
   "cell_type": "code",
   "execution_count": 5,
   "metadata": {},
   "outputs": [
    {
     "name": "stdout",
     "output_type": "stream",
     "text": [
      ">>>>>>>>>>>>>> LOADING test SET\n"
     ]
    },
    {
     "name": "stderr",
     "output_type": "stream",
     "text": [
      "Error in pixScaleAreaMap: pixd too small\n",
      "Error in pixClone: pixs not defined\n",
      "Error in pixCopyText: pixd not defined\n",
      "Error in pixCopyInputFormat: pixd not defined\n",
      "Scaling pix of size 8, 1596 by factor 0.0225564 made null pix!!\n",
      "Bad pix from ImageData!\n",
      "Line cannot be recognized!!\n",
      "Image too small to scale!! (1x36 vs min width of 3)\n",
      "Line cannot be recognized!!\n",
      "Image too small to scale!! (2x36 vs min width of 3)\n",
      "Line cannot be recognized!!\n",
      "Image too small to scale!! (2x36 vs min width of 3)\n",
      "Line cannot be recognized!!\n",
      "Image too small to scale!! (2x36 vs min width of 3)\n",
      "Line cannot be recognized!!\n",
      "Image too small to scale!! (1x36 vs min width of 3)\n",
      "Line cannot be recognized!!\n",
      "Image too small to scale!! (2x36 vs min width of 3)\n",
      "Line cannot be recognized!!\n",
      "Image too small to scale!! (2x36 vs min width of 3)\n",
      "Line cannot be recognized!!\n",
      "Error in pixScaleAreaMap: pixd too small\n",
      "Error in pixClone: pixs not defined\n",
      "Error in pixCopyText: pixd not defined\n",
      "Error in pixCopyInputFormat: pixd not defined\n",
      "Scaling pix of size 8, 1573 by factor 0.0228862 made null pix!!\n",
      "Bad pix from ImageData!\n",
      "Line cannot be recognized!!\n",
      "Image too small to scale!! (2x36 vs min width of 3)\n",
      "Line cannot be recognized!!\n",
      "Image too small to scale!! (2x36 vs min width of 3)\n",
      "Line cannot be recognized!!\n",
      "Image too small to scale!! (2x36 vs min width of 3)\n",
      "Line cannot be recognized!!\n",
      "Image too small to scale!! (2x36 vs min width of 3)\n",
      "Line cannot be recognized!!\n",
      "Image too small to scale!! (2x36 vs min width of 3)\n",
      "Line cannot be recognized!!\n",
      "Image too small to scale!! (2x36 vs min width of 3)\n",
      "Line cannot be recognized!!\n",
      "Image too small to scale!! (2x36 vs min width of 3)\n",
      "Line cannot be recognized!!\n",
      "Image too small to scale!! (2x36 vs min width of 3)\n",
      "Line cannot be recognized!!\n",
      "Image too small to scale!! (2x36 vs min width of 3)\n",
      "Line cannot be recognized!!\n",
      "Image too small to scale!! (2x36 vs min width of 3)\n",
      "Line cannot be recognized!!\n",
      "Image too small to scale!! (2x36 vs min width of 3)\n",
      "Line cannot be recognized!!\n",
      "Image too small to scale!! (2x36 vs min width of 3)\n",
      "Line cannot be recognized!!\n",
      "Image too small to scale!! (2x36 vs min width of 3)\n",
      "Line cannot be recognized!!\n",
      "Image too small to scale!! (2x36 vs min width of 3)\n",
      "Line cannot be recognized!!\n",
      "Image too small to scale!! (2x36 vs min width of 3)\n",
      "Line cannot be recognized!!\n",
      "Image too small to scale!! (2x36 vs min width of 3)\n",
      "Line cannot be recognized!!\n",
      "Image too small to scale!! (2x36 vs min width of 3)\n",
      "Line cannot be recognized!!\n",
      "Image too small to scale!! (2x36 vs min width of 3)\n",
      "Line cannot be recognized!!\n",
      "Image too small to scale!! (2x36 vs min width of 3)\n",
      "Line cannot be recognized!!\n",
      "Image too small to scale!! (2x36 vs min width of 3)\n",
      "Line cannot be recognized!!\n",
      "Image too small to scale!! (2x36 vs min width of 3)\n",
      "Line cannot be recognized!!\n",
      "Image too small to scale!! (2x36 vs min width of 3)\n",
      "Line cannot be recognized!!\n",
      "Image too small to scale!! (2x36 vs min width of 3)\n",
      "Line cannot be recognized!!\n",
      "Image too small to scale!! (2x36 vs min width of 3)\n",
      "Line cannot be recognized!!\n",
      "Image too small to scale!! (2x36 vs min width of 3)\n",
      "Line cannot be recognized!!\n",
      "Image too small to scale!! (2x36 vs min width of 3)\n",
      "Line cannot be recognized!!\n",
      "Image too small to scale!! (2x36 vs min width of 3)\n",
      "Line cannot be recognized!!\n",
      "Image too small to scale!! (2x36 vs min width of 3)\n",
      "Line cannot be recognized!!\n",
      "Image too small to scale!! (2x36 vs min width of 3)\n",
      "Line cannot be recognized!!\n",
      "Image too small to scale!! (2x36 vs min width of 3)\n",
      "Line cannot be recognized!!\n",
      "Image too small to scale!! (2x36 vs min width of 3)\n",
      "Line cannot be recognized!!\n",
      "Image too small to scale!! (2x36 vs min width of 3)\n",
      "Line cannot be recognized!!\n",
      "Image too small to scale!! (2x36 vs min width of 3)\n",
      "Line cannot be recognized!!\n",
      "Image too small to scale!! (2x36 vs min width of 3)\n",
      "Line cannot be recognized!!\n",
      "Image too small to scale!! (2x36 vs min width of 3)\n",
      "Line cannot be recognized!!\n",
      "Image too small to scale!! (2x36 vs min width of 3)\n",
      "Line cannot be recognized!!\n",
      "Image too small to scale!! (2x36 vs min width of 3)\n",
      "Line cannot be recognized!!\n",
      "Image too small to scale!! (2x36 vs min width of 3)\n",
      "Line cannot be recognized!!\n",
      "Image too small to scale!! (2x36 vs min width of 3)\n",
      "Line cannot be recognized!!\n",
      "Image too small to scale!! (1x36 vs min width of 3)\n",
      "Line cannot be recognized!!\n",
      "Image too small to scale!! (2x36 vs min width of 3)\n",
      "Line cannot be recognized!!\n",
      "Image too small to scale!! (2x36 vs min width of 3)\n",
      "Line cannot be recognized!!\n",
      "Image too small to scale!! (2x36 vs min width of 3)\n",
      "Line cannot be recognized!!\n",
      "Image too small to scale!! (2x36 vs min width of 3)\n",
      "Line cannot be recognized!!\n",
      "Image too small to scale!! (2x36 vs min width of 3)\n",
      "Line cannot be recognized!!\n",
      "Image too small to scale!! (2x36 vs min width of 3)\n",
      "Line cannot be recognized!!\n",
      "Image too small to scale!! (2x36 vs min width of 3)\n",
      "Line cannot be recognized!!\n",
      "Image too small to scale!! (2x36 vs min width of 3)\n",
      "Line cannot be recognized!!\n",
      "Image too small to scale!! (2x36 vs min width of 3)\n",
      "Line cannot be recognized!!\n",
      "Image too small to scale!! (2x36 vs min width of 3)\n",
      "Line cannot be recognized!!\n",
      "Image too small to scale!! (2x36 vs min width of 3)\n",
      "Line cannot be recognized!!\n",
      "Image too small to scale!! (2x36 vs min width of 3)\n",
      "Line cannot be recognized!!\n",
      "Image too small to scale!! (2x36 vs min width of 3)\n",
      "Line cannot be recognized!!\n",
      "Image too small to scale!! (2x36 vs min width of 3)\n",
      "Line cannot be recognized!!\n",
      "Image too small to scale!! (2x36 vs min width of 3)\n",
      "Line cannot be recognized!!\n",
      "Image too small to scale!! (2x36 vs min width of 3)\n",
      "Line cannot be recognized!!\n",
      "Image too small to scale!! (2x36 vs min width of 3)\n",
      "Line cannot be recognized!!\n",
      "Image too small to scale!! (1x36 vs min width of 3)\n",
      "Line cannot be recognized!!\n",
      "Image too small to scale!! (2x36 vs min width of 3)\n",
      "Line cannot be recognized!!\n",
      "Image too small to scale!! (2x36 vs min width of 3)\n",
      "Line cannot be recognized!!\n",
      "Image too small to scale!! (2x36 vs min width of 3)\n",
      "Line cannot be recognized!!\n",
      "Image too small to scale!! (2x36 vs min width of 3)\n",
      "Line cannot be recognized!!\n",
      "Image too small to scale!! (2x36 vs min width of 3)\n",
      "Line cannot be recognized!!\n",
      "Image too small to scale!! (2x36 vs min width of 3)\n",
      "Line cannot be recognized!!\n",
      "Image too small to scale!! (2x36 vs min width of 3)\n",
      "Line cannot be recognized!!\n",
      "Image too small to scale!! (2x36 vs min width of 3)\n",
      "Line cannot be recognized!!\n",
      "Image too small to scale!! (2x36 vs min width of 3)\n",
      "Line cannot be recognized!!\n",
      "Image too small to scale!! (2x36 vs min width of 3)\n",
      "Line cannot be recognized!!\n",
      "Image too small to scale!! (2x36 vs min width of 3)\n",
      "Line cannot be recognized!!\n"
     ]
    }
   ],
   "source": [
    "sroie_wrapper_own_ocr = SroieWrapperOwnOCR()\n",
    "\n",
    "for i in range(len(sroie_wrapper_own_ocr.data)):\n",
    "    filename = sroie_wrapper_own_ocr.data[i]\n",
    "    text_own_ocr = sroie_wrapper_own_ocr.get_text(filename)\n",
    "    num_tokens_own_ocr = len(tokenizer(text_own_ocr)['input_ids'])\n",
    "    data = pd.concat([data, pd.DataFrame({'filename': [filename], 'text_own_ocr': [text_own_ocr], 'num_tokens_own_ocr': [num_tokens_own_ocr]})], ignore_index=True)"
   ]
  },
  {
   "attachments": {},
   "cell_type": "markdown",
   "metadata": {},
   "source": [
    "We can see that there are a lot of warnings which suggest that the OCR'd output may have issues. Let's look at an example:"
   ]
  },
  {
   "cell_type": "code",
   "execution_count": 6,
   "metadata": {},
   "outputs": [
    {
     "data": {
      "text/plain": [
       "PosixPath('/Users/ivo/PycharmProjects/Levity/unimodal-kie/uni_kie/datasets/sroie/test/input/X51006619842.jpg')"
      ]
     },
     "execution_count": 6,
     "metadata": {},
     "output_type": "execute_result"
    }
   ],
   "source": [
    "data.iloc[1][\"filename\"]"
   ]
  },
  {
   "attachments": {},
   "cell_type": "markdown",
   "metadata": {},
   "source": [
    "<img src=\"/Users/ivo/PycharmProjects/Levity/unimodal-kie/uni_kie/datasets/sroie/test/input/X51006619842.jpg\" width=250>"
   ]
  },
  {
   "attachments": {},
   "cell_type": "markdown",
   "metadata": {},
   "source": [
    "The extracted text for this receipt is:"
   ]
  },
  {
   "cell_type": "code",
   "execution_count": 7,
   "metadata": {},
   "outputs": [
    {
     "name": "stdout",
     "output_type": "stream",
     "text": [
      "ae.\n",
      "ee\n",
      "ee\n",
      "Sy\n",
      "i\n",
      "ee te Se i\n",
      "rn\n",
      "pe Ae\n",
      "\n",
      "\n"
     ]
    }
   ],
   "source": [
    "print(data.iloc[1]['text_own_ocr'])"
   ]
  },
  {
   "cell_type": "code",
   "execution_count": 8,
   "metadata": {
    "collapsed": false
   },
   "outputs": [
    {
     "data": {
      "text/html": [
       "<div>\n",
       "<style scoped>\n",
       "    .dataframe tbody tr th:only-of-type {\n",
       "        vertical-align: middle;\n",
       "    }\n",
       "\n",
       "    .dataframe tbody tr th {\n",
       "        vertical-align: top;\n",
       "    }\n",
       "\n",
       "    .dataframe thead th {\n",
       "        text-align: right;\n",
       "    }\n",
       "</style>\n",
       "<table border=\"1\" class=\"dataframe\">\n",
       "  <thead>\n",
       "    <tr style=\"text-align: right;\">\n",
       "      <th></th>\n",
       "      <th>filename</th>\n",
       "      <th>text_own_ocr</th>\n",
       "      <th>num_tokens_own_ocr</th>\n",
       "      <th>text_sroie_ocr</th>\n",
       "      <th>num_tokens_sroie_ocr</th>\n",
       "    </tr>\n",
       "  </thead>\n",
       "  <tbody>\n",
       "    <tr>\n",
       "      <th>0</th>\n",
       "      <td>/Users/ivo/PycharmProjects/Levity/unimodal-kie...</td>\n",
       "      <td>3 \\@ 02\\nO14,\\nLIM SENG THO HARDWARE TRADING\\n...</td>\n",
       "      <td>274</td>\n",
       "      <td>NaN</td>\n",
       "      <td>NaN</td>\n",
       "    </tr>\n",
       "    <tr>\n",
       "      <th>1</th>\n",
       "      <td>/Users/ivo/PycharmProjects/Levity/unimodal-kie...</td>\n",
       "      <td>ae.\\nee\\nee\\nSy\\ni\\nee te Se i\\nrn\\npe Ae\\n\\n</td>\n",
       "      <td>21</td>\n",
       "      <td>NaN</td>\n",
       "      <td>NaN</td>\n",
       "    </tr>\n",
       "    <tr>\n",
       "      <th>2</th>\n",
       "      <td>/Users/ivo/PycharmProjects/Levity/unimodal-kie...</td>\n",
       "      <td>(481500-M)\\nCW KHOO HARDWARE SDN BHD\\nNO.50 , ...</td>\n",
       "      <td>330</td>\n",
       "      <td>NaN</td>\n",
       "      <td>NaN</td>\n",
       "    </tr>\n",
       "    <tr>\n",
       "      <th>3</th>\n",
       "      <td>/Users/ivo/PycharmProjects/Levity/unimodal-kie...</td>\n",
       "      <td>oe\\nAEON CU.\\n(M) BHD (126926-H)\\n+\\n3RD FLR, ...</td>\n",
       "      <td>268</td>\n",
       "      <td>NaN</td>\n",
       "      <td>NaN</td>\n",
       "    </tr>\n",
       "    <tr>\n",
       "      <th>4</th>\n",
       "      <td>/Users/ivo/PycharmProjects/Levity/unimodal-kie...</td>\n",
       "      <td>SANYO STATIONERY SHOP\\nNO. 31G8&amp;33G, JALAN SET...</td>\n",
       "      <td>357</td>\n",
       "      <td>NaN</td>\n",
       "      <td>NaN</td>\n",
       "    </tr>\n",
       "  </tbody>\n",
       "</table>\n",
       "</div>"
      ],
      "text/plain": [
       "                                            filename  \\\n",
       "0  /Users/ivo/PycharmProjects/Levity/unimodal-kie...   \n",
       "1  /Users/ivo/PycharmProjects/Levity/unimodal-kie...   \n",
       "2  /Users/ivo/PycharmProjects/Levity/unimodal-kie...   \n",
       "3  /Users/ivo/PycharmProjects/Levity/unimodal-kie...   \n",
       "4  /Users/ivo/PycharmProjects/Levity/unimodal-kie...   \n",
       "\n",
       "                                        text_own_ocr num_tokens_own_ocr  \\\n",
       "0  3 \\@ 02\\nO14,\\nLIM SENG THO HARDWARE TRADING\\n...                274   \n",
       "1      ae.\\nee\\nee\\nSy\\ni\\nee te Se i\\nrn\\npe Ae\\n\\n                 21   \n",
       "2  (481500-M)\\nCW KHOO HARDWARE SDN BHD\\nNO.50 , ...                330   \n",
       "3  oe\\nAEON CU.\\n(M) BHD (126926-H)\\n+\\n3RD FLR, ...                268   \n",
       "4  SANYO STATIONERY SHOP\\nNO. 31G8&33G, JALAN SET...                357   \n",
       "\n",
       "  text_sroie_ocr num_tokens_sroie_ocr  \n",
       "0            NaN                  NaN  \n",
       "1            NaN                  NaN  \n",
       "2            NaN                  NaN  \n",
       "3            NaN                  NaN  \n",
       "4            NaN                  NaN  "
      ]
     },
     "execution_count": 8,
     "metadata": {},
     "output_type": "execute_result"
    }
   ],
   "source": [
    "data.head()"
   ]
  },
  {
   "cell_type": "code",
   "execution_count": 9,
   "metadata": {},
   "outputs": [
    {
     "name": "stdout",
     "output_type": "stream",
     "text": [
      "mean: 342, median: 335, std: 115, min: 1, max: 785\n",
      "number of documents with less than 100 tokens: 12\n"
     ]
    }
   ],
   "source": [
    "mean = int(np.mean(data['num_tokens_own_ocr']))\n",
    "median = int(np.median(data['num_tokens_own_ocr']))\n",
    "std = int(np.std(data['num_tokens_own_ocr']))\n",
    "min = int(np.min(data['num_tokens_own_ocr']))\n",
    "max = int(np.max(data['num_tokens_own_ocr']))\n",
    "\n",
    "print(f\"mean: {mean}, median: {median}, std: {std}, min: {min}, max: {max}\")\n",
    "\n",
    "print(f\"number of documents with less than 100 tokens: {len(data[data['num_tokens_own_ocr'] < 100])}\")"
   ]
  },
  {
   "cell_type": "markdown",
   "metadata": {},
   "source": [
    "Let's look closer at the distribution of the number of tokens."
   ]
  },
  {
   "cell_type": "code",
   "execution_count": 10,
   "metadata": {},
   "outputs": [
    {
     "data": {
      "image/png": "[encoded data removed]",
      "text/plain": [
       "<Figure size 1000x600 with 1 Axes>"
      ]
     },
     "metadata": {},
     "output_type": "display_data"
    }
   ],
   "source": [
    "sns.set_style(\"whitegrid\")\n",
    "sns.set_context(\"paper\", font_scale=1.5)\n",
    "sns.set_palette(\"colorblind\")\n",
    "\n",
    "fig, ax = plt.subplots(figsize=(10, 6))\n",
    "sns.histplot(data=data, x=data[\"num_tokens_own_ocr\"], ax=ax, bins=50)\n",
    "ax.set_title(\"Distribution of number of tokens in documents (with own OCR)\")\n",
    "ax.set_xlabel(f\"Number of tokens (n_bins={len(ax.patches)})\")\n",
    "ax.set_ylabel(f\"Number of documents (n={len(data)})\")\n",
    "ax.axvline(data[\"num_tokens_own_ocr\"].mean(), color=\"red\", linestyle=\"--\", label=\"Mean\")\n",
    "ax.axvline(data[\"num_tokens_own_ocr\"].median(), color=\"green\", linestyle=\"--\", label=\"Median\")\n",
    "\n",
    "ax.set_xlim(0, 810)\n",
    "ax.set_xticks(np.arange(0, 810, 100))\n",
    "\n",
    "ax.set_ylim(0, 34)\n",
    "ax.set_yticks(np.arange(0, 34, 5))\n",
    "\n",
    "ax.legend()\n",
    "\n",
    "plt.show()\n",
    "fig.savefig(\"plots/sroie/token_distribution_own_ocr.png\", dpi=300, bbox_inches=\"tight\")"
   ]
  },
  {
   "cell_type": "markdown",
   "metadata": {},
   "source": [
    "Let's look at the shortest document to get a better idea of what the input text looks like."
   ]
  },
  {
   "cell_type": "code",
   "execution_count": 11,
   "metadata": {},
   "outputs": [
    {
     "name": "stdout",
     "output_type": "stream",
     "text": [
      "\n",
      "\n"
     ]
    }
   ],
   "source": [
    "# find the shortest document\n",
    "data[data['num_tokens_own_ocr'] == data['num_tokens_own_ocr'].min()]\n",
    "\n",
    "# print the text of the shortest document\n",
    "print(data[data['num_tokens_own_ocr'] == data['num_tokens_own_ocr'].min()]['text_own_ocr'].values[0])"
   ]
  },
  {
   "attachments": {},
   "cell_type": "markdown",
   "metadata": {},
   "source": [
    "We don't even have any text for this particular receipt."
   ]
  },
  {
   "attachments": {},
   "cell_type": "markdown",
   "metadata": {},
   "source": [
    "Let's check if the text of the receipts fits in our models"
   ]
  },
  {
   "cell_type": "code",
   "execution_count": 12,
   "metadata": {},
   "outputs": [
    {
     "name": "stdout",
     "output_type": "stream",
     "text": [
      "The longest document has 785 tokens\n"
     ]
    }
   ],
   "source": [
    "print(f\"The longest document has {data['num_tokens_own_ocr'].max()} tokens\")"
   ]
  },
  {
   "attachments": {},
   "cell_type": "markdown",
   "metadata": {},
   "source": [
    "Great news, even the longest doc will easily fit into our smaller GPT-NeoX and Flan-T5 models (limit 1792)."
   ]
  },
  {
   "attachments": {},
   "cell_type": "markdown",
   "metadata": {},
   "source": [
    "Nonetheless, 12 out of the 347 documents basically don't have any extracted text. Motivated by this and the fact that potential future work should be comparable to ours, we will use the provided OCR by the data set."
   ]
  },
  {
   "attachments": {},
   "cell_type": "markdown",
   "metadata": {},
   "source": [
    "## Using provided OCR"
   ]
  },
  {
   "cell_type": "code",
   "execution_count": 13,
   "metadata": {},
   "outputs": [
    {
     "name": "stdout",
     "output_type": "stream",
     "text": [
      ">>>>>>>>>>>>>> LOADING test SET\n"
     ]
    }
   ],
   "source": [
    "sroie_wrapper = SroieWrapper()\n",
    "\n",
    "for i in range(len(sroie_wrapper.data)):\n",
    "    filename = sroie_wrapper.data.iloc[i]['filename']\n",
    "    text_sroie_ocr = sroie_wrapper.get_text(filename)\n",
    "    num_tokens_sroie_ocr = len(tokenizer(text_sroie_ocr)['input_ids'])\n",
    "\n",
    "    data.loc[data['filename'] == filename, 'text_sroie_ocr'] = text_sroie_ocr\n",
    "    data.loc[data['filename'] == filename, 'num_tokens_sroie_ocr'] = num_tokens_sroie_ocr"
   ]
  },
  {
   "cell_type": "code",
   "execution_count": 14,
   "metadata": {},
   "outputs": [
    {
     "data": {
      "text/html": [
       "<div>\n",
       "<style scoped>\n",
       "    .dataframe tbody tr th:only-of-type {\n",
       "        vertical-align: middle;\n",
       "    }\n",
       "\n",
       "    .dataframe tbody tr th {\n",
       "        vertical-align: top;\n",
       "    }\n",
       "\n",
       "    .dataframe thead th {\n",
       "        text-align: right;\n",
       "    }\n",
       "</style>\n",
       "<table border=\"1\" class=\"dataframe\">\n",
       "  <thead>\n",
       "    <tr style=\"text-align: right;\">\n",
       "      <th></th>\n",
       "      <th>filename</th>\n",
       "      <th>text_own_ocr</th>\n",
       "      <th>num_tokens_own_ocr</th>\n",
       "      <th>text_sroie_ocr</th>\n",
       "      <th>num_tokens_sroie_ocr</th>\n",
       "    </tr>\n",
       "  </thead>\n",
       "  <tbody>\n",
       "    <tr>\n",
       "      <th>0</th>\n",
       "      <td>/Users/ivo/PycharmProjects/Levity/unimodal-kie...</td>\n",
       "      <td>3 \\@ 02\\nO14,\\nLIM SENG THO HARDWARE TRADING\\n...</td>\n",
       "      <td>274</td>\n",
       "      <td>LIM SENG THO HARDWARE TRADING\\nNO 7. SIMPANG O...</td>\n",
       "      <td>267</td>\n",
       "    </tr>\n",
       "    <tr>\n",
       "      <th>1</th>\n",
       "      <td>/Users/ivo/PycharmProjects/Levity/unimodal-kie...</td>\n",
       "      <td>ae.\\nee\\nee\\nSy\\ni\\nee te Se i\\nrn\\npe Ae\\n\\n</td>\n",
       "      <td>21</td>\n",
       "      <td>YIN MA (M) SDN.BHD.(974306-T)\\nNO.2, JALAN UDA...</td>\n",
       "      <td>285</td>\n",
       "    </tr>\n",
       "    <tr>\n",
       "      <th>2</th>\n",
       "      <td>/Users/ivo/PycharmProjects/Levity/unimodal-kie...</td>\n",
       "      <td>(481500-M)\\nCW KHOO HARDWARE SDN BHD\\nNO.50 , ...</td>\n",
       "      <td>330</td>\n",
       "      <td>(481500-M)\\nC W KHOO HARDWARE SDN BHD\\nNO.50 ,...</td>\n",
       "      <td>333</td>\n",
       "    </tr>\n",
       "    <tr>\n",
       "      <th>3</th>\n",
       "      <td>/Users/ivo/PycharmProjects/Levity/unimodal-kie...</td>\n",
       "      <td>oe\\nAEON CU.\\n(M) BHD (126926-H)\\n+\\n3RD FLR, ...</td>\n",
       "      <td>268</td>\n",
       "      <td>AEON CO. (M) BHD (126926-H)\\n3RD FLR, AEON TAM...</td>\n",
       "      <td>272</td>\n",
       "    </tr>\n",
       "    <tr>\n",
       "      <th>4</th>\n",
       "      <td>/Users/ivo/PycharmProjects/Levity/unimodal-kie...</td>\n",
       "      <td>SANYO STATIONERY SHOP\\nNO. 31G8&amp;33G, JALAN SET...</td>\n",
       "      <td>357</td>\n",
       "      <td>SANYU STATIONERY SHOP\\nNO. 31G&amp;33G, JALAN SETI...</td>\n",
       "      <td>365</td>\n",
       "    </tr>\n",
       "  </tbody>\n",
       "</table>\n",
       "</div>"
      ],
      "text/plain": [
       "                                            filename  \\\n",
       "0  /Users/ivo/PycharmProjects/Levity/unimodal-kie...   \n",
       "1  /Users/ivo/PycharmProjects/Levity/unimodal-kie...   \n",
       "2  /Users/ivo/PycharmProjects/Levity/unimodal-kie...   \n",
       "3  /Users/ivo/PycharmProjects/Levity/unimodal-kie...   \n",
       "4  /Users/ivo/PycharmProjects/Levity/unimodal-kie...   \n",
       "\n",
       "                                        text_own_ocr num_tokens_own_ocr  \\\n",
       "0  3 \\@ 02\\nO14,\\nLIM SENG THO HARDWARE TRADING\\n...                274   \n",
       "1      ae.\\nee\\nee\\nSy\\ni\\nee te Se i\\nrn\\npe Ae\\n\\n                 21   \n",
       "2  (481500-M)\\nCW KHOO HARDWARE SDN BHD\\nNO.50 , ...                330   \n",
       "3  oe\\nAEON CU.\\n(M) BHD (126926-H)\\n+\\n3RD FLR, ...                268   \n",
       "4  SANYO STATIONERY SHOP\\nNO. 31G8&33G, JALAN SET...                357   \n",
       "\n",
       "                                      text_sroie_ocr num_tokens_sroie_ocr  \n",
       "0  LIM SENG THO HARDWARE TRADING\\nNO 7. SIMPANG O...                  267  \n",
       "1  YIN MA (M) SDN.BHD.(974306-T)\\nNO.2, JALAN UDA...                  285  \n",
       "2  (481500-M)\\nC W KHOO HARDWARE SDN BHD\\nNO.50 ,...                  333  \n",
       "3  AEON CO. (M) BHD (126926-H)\\n3RD FLR, AEON TAM...                  272  \n",
       "4  SANYU STATIONERY SHOP\\nNO. 31G&33G, JALAN SETI...                  365  "
      ]
     },
     "execution_count": 14,
     "metadata": {},
     "output_type": "execute_result"
    }
   ],
   "source": [
    "data.head()"
   ]
  },
  {
   "cell_type": "code",
   "execution_count": 15,
   "metadata": {},
   "outputs": [
    {
     "name": "stdout",
     "output_type": "stream",
     "text": [
      "mean: 346, median: 324, std: 93, min: 160, max: 675\n",
      "number of documents with less than 100 tokens: 0\n"
     ]
    }
   ],
   "source": [
    "mean = int(np.mean(data['num_tokens_sroie_ocr']))\n",
    "median = int(np.median(data['num_tokens_sroie_ocr']))\n",
    "std = int(np.std(data['num_tokens_sroie_ocr']))\n",
    "min = int(np.min(data['num_tokens_sroie_ocr']))\n",
    "max = int(np.max(data['num_tokens_sroie_ocr']))\n",
    "\n",
    "print(f\"mean: {mean}, median: {median}, std: {std}, min: {min}, max: {max}\")\n",
    "\n",
    "print(f\"number of documents with less than 100 tokens: {len(data[data['num_tokens_sroie_ocr'] < 100])}\")"
   ]
  },
  {
   "cell_type": "code",
   "execution_count": 16,
   "metadata": {},
   "outputs": [
    {
     "data": {
      "image/png": "[encoded data removed]",
      "text/plain": [
       "<Figure size 1000x600 with 1 Axes>"
      ]
     },
     "metadata": {},
     "output_type": "display_data"
    }
   ],
   "source": [
    "sns.set_style(\"whitegrid\")\n",
    "sns.set_context(\"paper\", font_scale=1.5)\n",
    "sns.set_palette(\"colorblind\")\n",
    "\n",
    "fig, ax = plt.subplots(figsize=(10, 6))\n",
    "sns.histplot(data=data, x=data[\"num_tokens_sroie_ocr\"], ax=ax, bins=50)\n",
    "ax.set_title(\"Distribution of number of tokens in documents (with provided OCR)\")\n",
    "ax.set_xlabel(f\"Number of tokens (n_bins={len(ax.patches)})\")\n",
    "ax.set_ylabel(f\"Number of documents (n={len(data)})\")\n",
    "ax.axvline(data[\"num_tokens_sroie_ocr\"].mean(), color=\"red\", linestyle=\"--\", label=\"Mean\")\n",
    "ax.axvline(data[\"num_tokens_sroie_ocr\"].median(), color=\"green\", linestyle=\"--\", label=\"Median\")\n",
    "\n",
    "ax.set_xlim(0, 810)\n",
    "ax.set_xticks(np.arange(0, 810, 100))\n",
    "\n",
    "ax.set_ylim(0, 34)\n",
    "ax.set_yticks(np.arange(0, 34, 5))\n",
    "\n",
    "ax.legend()\n",
    "\n",
    "plt.show()\n",
    "fig.savefig(\"plots/sroie/token_distribution_sroie_ocr.png\", dpi=300, bbox_inches=\"tight\")"
   ]
  },
  {
   "cell_type": "code",
   "execution_count": 17,
   "metadata": {},
   "outputs": [
    {
     "name": "stdout",
     "output_type": "stream",
     "text": [
      "CONTENTO (JM0761170-K)\n",
      "15, JALAN PERMAS 10/7, PERMAS\n",
      "81750 MASAI JOHOR\n",
      "20/03/18 17:19\n",
      "000000#001429\n",
      "2X 5.90\n",
      "RM\n",
      "11.80\n",
      "BUBBLE M T\n",
      "1X 4.90\n",
      "RM\n",
      "4.90\n",
      "YAM M T\n",
      "1X 1.00\n",
      "RM\n",
      "1.00\n",
      "ADD ON\n",
      "1X 3.90\n",
      "RM\n",
      "3.90\n",
      "W.CHO\n",
      "ITEMS 50\n",
      "***TOTAL\n",
      "RM\n",
      "21.60\n",
      "CASH\n",
      "RM\n",
      "30.00\n",
      "CHANGE\n",
      "RM\n",
      "8.40\n",
      "THANK YOU\n",
      "FORWARD TO YOUR NEXT VISIT\n"
     ]
    }
   ],
   "source": [
    "# let's look at the text of the shortest document\n",
    "print(data[data['num_tokens_sroie_ocr'] == data['num_tokens_sroie_ocr'].min()]['text_sroie_ocr'].values[0])"
   ]
  },
  {
   "cell_type": "code",
   "execution_count": 18,
   "metadata": {},
   "outputs": [
    {
     "name": "stdout",
     "output_type": "stream",
     "text": [
      "The longest document has 675 tokens\n"
     ]
    }
   ],
   "source": [
    "print(f\"The longest document has {data['num_tokens_sroie_ocr'].max()} tokens\")"
   ]
  },
  {
   "attachments": {},
   "cell_type": "markdown",
   "metadata": {},
   "source": [
    "## Exploring whether all keys are given in the gold standard (Loading Gold)"
   ]
  },
  {
   "cell_type": "code",
   "execution_count": 19,
   "metadata": {},
   "outputs": [],
   "source": [
    "path_to_sroie = \"./datasets/sroie/test/\""
   ]
  },
  {
   "cell_type": "code",
   "execution_count": 20,
   "metadata": {},
   "outputs": [],
   "source": [
    "path_to_gold_standard = path_to_sroie + \"gold/\"\n",
    "\n",
    "keys = [\"company\", \"date\", \"address\", \"total\"]\n",
    "\n",
    "gold_standard = {}\n",
    "for filename in os.listdir(path_to_gold_standard):\n",
    "    with open(os.path.join(path_to_gold_standard, filename), 'r') as f:\n",
    "        gold_standard[filename] = json.load(f)\n",
    "\n",
    "for filename, file in gold_standard.items():\n",
    "    for key in keys:\n",
    "        if key not in file:\n",
    "            print(f\"{key} is not in {filename}\")\n",
    "        elif file[key] == \"\":\n",
    "            print(f\"{key} in {filename} is an empty string\")"
   ]
  },
  {
   "cell_type": "code",
   "execution_count": 21,
   "metadata": {},
   "outputs": [],
   "source": [
    "gold_standard_df = pd.DataFrame.from_dict(gold_standard, orient='index')"
   ]
  },
  {
   "cell_type": "code",
   "execution_count": 22,
   "metadata": {},
   "outputs": [],
   "source": [
    "\n",
    "if MODEL == 'flan-t5':\n",
    "    if SHOTS == 0:\n",
    "        PREDICTION_RUNS_PATHS = [\n",
    "            path_to_sroie + 'predictions/flan-t5/2023-01-25T21-26-54_LLMPipeline(prompt_variant=NeutralPrompt, model=Flan_T5(max_input_tokens=1792, temperature=0, top_p=0.9, top_k=40), parser=DictParser, shots=False)',\n",
    "            path_to_sroie + 'predictions/flan-t5/2023-01-25T21-26-56_LLMPipeline(prompt_variant=NeutralPrompt, model=Flan_T5(max_input_tokens=1792, temperature=0, top_p=0.9, top_k=40), parser=DictParser, shots=False)',\n",
    "            path_to_sroie + 'predictions/flan-t5/2023-01-25T21-29-59_LLMPipeline(prompt_variant=NeutralPrompt, model=Flan_T5(max_input_tokens=1792, temperature=0, top_p=0.9, top_k=40), parser=DictParser, shots=False)',\n",
    "        ]\n",
    "\n",
    "    elif SHOTS == 1:\n",
    "        PREDICTION_RUNS_PATHS = [\n",
    "            path_to_sroie + 'predictions/flan-t5/2023-01-25T21-33-13_LLMPipeline(prompt_variant=NeutralPrompt, model=Flan_T5(max_input_tokens=1792, temperature=0, top_p=0.9, top_k=40), parser=DictParser, shots=True)',\n",
    "            path_to_sroie + 'predictions/flan-t5/2023-01-25T21-33-17_LLMPipeline(prompt_variant=NeutralPrompt, model=Flan_T5(max_input_tokens=1792, temperature=0, top_p=0.9, top_k=40), parser=DictParser, shots=True)',\n",
    "            path_to_sroie + 'predictions/flan-t5/2023-01-25T21-35-11_LLMPipeline(prompt_variant=NeutralPrompt, model=Flan_T5(max_input_tokens=1792, temperature=0, top_p=0.9, top_k=40), parser=DictParser, shots=True)',\n",
    "        ]\n",
    "\n",
    "    elif SHOTS == 2:\n",
    "        PREDICTION_RUNS_PATHS = [\n",
    "            path_to_sroie + 'predictions/flan-t5/2023-01-25T22-00-26_LLMPipeline(prompt_variant=NeutralPrompt, model=Flan_T5(max_input_tokens=1792, temperature=0, top_p=0.9, top_k=40), parser=DictParser, shots=TWOSHOT)',\n",
    "            path_to_sroie + 'predictions/flan-t5/2023-01-25T22-00-28_LLMPipeline(prompt_variant=NeutralPrompt, model=Flan_T5(max_input_tokens=1792, temperature=0, top_p=0.9, top_k=40), parser=DictParser, shots=TWOSHOT)',\n",
    "            path_to_sroie + 'predictions/flan-t5/2023-01-25T22-00-33_LLMPipeline(prompt_variant=NeutralPrompt, model=Flan_T5(max_input_tokens=1792, temperature=0, top_p=0.9, top_k=40), parser=DictParser, shots=TWOSHOT)',\n",
    "        ]\n",
    "\n",
    "elif MODEL == 'neox':\n",
    "    if SHOTS == 0:\n",
    "        PREDICTION_RUNS_PATHS = [\n",
    "            path_to_sroie + 'predictions/neox/2023-01-25T19-27-04_LLMPipeline(prompt_variant=NeutralPrompt, model=GPT_NeoX(max_input_tokens=1792, temperature=1, top_p=0.9, top_k=40, presence_penalty=0, frequency_penalty=0), parser=DictParser, shots=False)',\n",
    "            path_to_sroie + 'predictions/neox/2023-01-25T19-28-11_LLMPipeline(prompt_variant=NeutralPrompt, model=GPT_NeoX(max_input_tokens=1792, temperature=1, top_p=0.9, top_k=40, presence_penalty=0, frequency_penalty=0), parser=DictParser, shots=False)',\n",
    "            path_to_sroie + 'predictions/neox/2023-01-25T19-28-15_LLMPipeline(prompt_variant=NeutralPrompt, model=GPT_NeoX(max_input_tokens=1792, temperature=1, top_p=0.9, top_k=40, presence_penalty=0, frequency_penalty=0), parser=DictParser, shots=False)',\n",
    "        ]\n",
    "\n",
    "    elif SHOTS == 1:\n",
    "        PREDICTION_RUNS_PATHS = [\n",
    "            path_to_sroie + 'predictions/neox/2023-01-25T22-17-14_LLMPipeline(prompt_variant=NeutralPrompt, model=GPT_NeoX(max_input_tokens=1792, temperature=1, top_p=0.9, top_k=40, presence_penalty=0, frequency_penalty=0), parser=DictParser, shots=True)',\n",
    "            path_to_sroie + 'predictions/neox/2023-01-25T22-17-15_LLMPipeline(prompt_variant=NeutralPrompt, model=GPT_NeoX(max_input_tokens=1792, temperature=1, top_p=0.9, top_k=40, presence_penalty=0, frequency_penalty=0), parser=DictParser, shots=True)',\n",
    "            path_to_sroie + 'predictions/neox/2023-01-25T22-17-18_LLMPipeline(prompt_variant=NeutralPrompt, model=GPT_NeoX(max_input_tokens=1792, temperature=1, top_p=0.9, top_k=40, presence_penalty=0, frequency_penalty=0), parser=DictParser, shots=True)',\n",
    "        ]\n",
    "\n",
    "    elif SHOTS == 2:\n",
    "        PREDICTION_RUNS_PATHS = [\n",
    "            path_to_sroie + 'predictions/neox/2023-01-25T22-18-33_LLMPipeline(prompt_variant=NeutralPrompt, model=GPT_NeoX(max_input_tokens=1792, temperature=1, top_p=0.9, top_k=40, presence_penalty=0, frequency_penalty=0), parser=DictParser, shots=TWOSHOT)',\n",
    "            path_to_sroie + 'predictions/neox/2023-01-25T22-18-36_LLMPipeline(prompt_variant=NeutralPrompt, model=GPT_NeoX(max_input_tokens=1792, temperature=1, top_p=0.9, top_k=40, presence_penalty=0, frequency_penalty=0), parser=DictParser, shots=TWOSHOT)',\n",
    "            path_to_sroie + 'predictions/neox/2023-01-25T22-18-39_LLMPipeline(prompt_variant=NeutralPrompt, model=GPT_NeoX(max_input_tokens=1792, temperature=1, top_p=0.9, top_k=40, presence_penalty=0, frequency_penalty=0), parser=DictParser, shots=TWOSHOT)',\n",
    "        ]\n",
    "\n",
    "elif MODEL == 'davinci':\n",
    "    if SHOTS == 0:\n",
    "        PREDICTION_RUNS_PATHS = [\n",
    "            path_to_sroie + 'predictions/davinci/2023-01-26T18-29-10_LLMPipeline(prompt_variant=NeutralPrompt, model=GPT3_Davinci(max_input_tokens=3840, temperature=0.1, top_p=0.9, presence_penalty=0, frequency_penalty=0), parser=DictParser, shots=False)',\n",
    "            path_to_sroie + 'predictions/davinci/2023-01-26T19-02-22_LLMPipeline(prompt_variant=NeutralPrompt, model=GPT3_Davinci(max_input_tokens=3840, temperature=0.1, top_p=0.9, presence_penalty=0, frequency_penalty=0), parser=DictParser, shots=False)',\n",
    "            path_to_sroie + 'predictions/davinci/2023-01-27T12-22-26_LLMPipeline(prompt_variant=NeutralPrompt, model=GPT3_Davinci(max_input_tokens=3840, temperature=0.1, top_p=0.9, presence_penalty=0, frequency_penalty=0), parser=DictParser, shots=False)',\n",
    "        ]\n",
    "\n",
    "    elif SHOTS == 1:\n",
    "        PREDICTION_RUNS_PATHS = [\n",
    "            path_to_sroie + 'predictions/davinci/2023-01-27T12-22-44_LLMPipeline(prompt_variant=NeutralPrompt, model=GPT3_Davinci(max_input_tokens=3840, temperature=0.1, top_p=0.9, presence_penalty=0, frequency_penalty=0), parser=DictParser, shots=True)',\n",
    "            path_to_sroie + 'predictions/davinci/2023-01-27T12-22-46_LLMPipeline(prompt_variant=NeutralPrompt, model=GPT3_Davinci(max_input_tokens=3840, temperature=0.1, top_p=0.9, presence_penalty=0, frequency_penalty=0), parser=DictParser, shots=True)',\n",
    "            path_to_sroie + 'predictions/davinci/2023-01-27T12-22-48_LLMPipeline(prompt_variant=NeutralPrompt, model=GPT3_Davinci(max_input_tokens=3840, temperature=0.1, top_p=0.9, presence_penalty=0, frequency_penalty=0), parser=DictParser, shots=True)',\n",
    "        ]\n",
    "\n",
    "    elif SHOTS == 2:\n",
    "        PREDICTION_RUNS_PATHS = [\n",
    "            path_to_sroie + 'predictions/davinci/2023-01-27T12-23-09_LLMPipeline(prompt_variant=NeutralPrompt, model=GPT3_Davinci(max_input_tokens=3840, temperature=0.1, top_p=0.9, presence_penalty=0, frequency_penalty=0), parser=DictParser, shots=TWOSHOT)',\n",
    "            path_to_sroie + 'predictions/davinci/2023-01-27T12-23-11_LLMPipeline(prompt_variant=NeutralPrompt, model=GPT3_Davinci(max_input_tokens=3840, temperature=0.1, top_p=0.9, presence_penalty=0, frequency_penalty=0), parser=DictParser, shots=TWOSHOT)',\n",
    "            path_to_sroie + 'predictions/davinci/2023-01-27T12-23-13_LLMPipeline(prompt_variant=NeutralPrompt, model=GPT3_Davinci(max_input_tokens=3840, temperature=0.1, top_p=0.9, presence_penalty=0, frequency_penalty=0), parser=DictParser, shots=TWOSHOT)',\n",
    "        ]\n"
   ]
  },
  {
   "cell_type": "code",
   "execution_count": 23,
   "metadata": {},
   "outputs": [],
   "source": [
    "predictions_runs_dfs = []\n",
    "for path in PREDICTION_RUNS_PATHS:\n",
    "    predictions_run = {}\n",
    "    for filename in os.listdir(path):\n",
    "        with open(os.path.join(path, filename), 'r') as f:\n",
    "            predictions_run[filename] = json.load(f)\n",
    "\n",
    "\n",
    "    predictions_run_df = pd.DataFrame.from_dict(predictions_run, orient='index')\n",
    "    predictions_run_df = predictions_run_df.reindex(columns=gold_standard_df.columns, fill_value=np.nan)\n",
    "    predictions_runs_dfs.append(predictions_run_df)\n"
   ]
  },
  {
   "cell_type": "code",
   "execution_count": 24,
   "metadata": {},
   "outputs": [
    {
     "data": {
      "text/html": [
       "<div>\n",
       "<style scoped>\n",
       "    .dataframe tbody tr th:only-of-type {\n",
       "        vertical-align: middle;\n",
       "    }\n",
       "\n",
       "    .dataframe tbody tr th {\n",
       "        vertical-align: top;\n",
       "    }\n",
       "\n",
       "    .dataframe thead th {\n",
       "        text-align: right;\n",
       "    }\n",
       "</style>\n",
       "<table border=\"1\" class=\"dataframe\">\n",
       "  <thead>\n",
       "    <tr style=\"text-align: right;\">\n",
       "      <th></th>\n",
       "      <th>company</th>\n",
       "      <th>date</th>\n",
       "      <th>address</th>\n",
       "      <th>total</th>\n",
       "    </tr>\n",
       "  </thead>\n",
       "  <tbody>\n",
       "    <tr>\n",
       "      <th>X51005675104.txt</th>\n",
       "      <td>SYARIKAT PERNIAGAAN GIN KEE</td>\n",
       "      <td>25/01/2018</td>\n",
       "      <td>NO 290, JALAN AIR PANAS, SETAPAK, 53200, KUALA...</td>\n",
       "      <td>190.80</td>\n",
       "    </tr>\n",
       "    <tr>\n",
       "      <th>X51005568890.txt</th>\n",
       "      <td>HON HWA HARDWARE TRADING</td>\n",
       "      <td>05/01/2017</td>\n",
       "      <td>NO 37, JALAN MANIS 7, TAMAN SEGAR, 56100 CHERA...</td>\n",
       "      <td>5.00</td>\n",
       "    </tr>\n",
       "    <tr>\n",
       "      <th>X00016469670.txt</th>\n",
       "      <td>OJC MARKETING SDN BHD</td>\n",
       "      <td>15/01/2019 11:05:16 AM</td>\n",
       "      <td>NO 2 &amp; 4, JALAN BAYU 4, BANDAR SERI ALAM, 8175...</td>\n",
       "      <td>193.00</td>\n",
       "    </tr>\n",
       "    <tr>\n",
       "      <th>X51006557507.txt</th>\n",
       "      <td>Makassar Fresh Market Sdn Bhd</td>\n",
       "      <td>27/10/2017</td>\n",
       "      <td>Ground Floor, No. 4 &amp; 6, Jalan SS 15/4B, 47500...</td>\n",
       "      <td>35.88</td>\n",
       "    </tr>\n",
       "    <tr>\n",
       "      <th>X51007846396.txt</th>\n",
       "      <td>GERBANG ALAF RESTAURANTS SDN BHD</td>\n",
       "      <td>24/06/2018 22:40:45</td>\n",
       "      <td>LEVEL 6, BANGUNAN TH, DAMANSARA UPTOWN3, NO.3,...</td>\n",
       "      <td>7.35</td>\n",
       "    </tr>\n",
       "  </tbody>\n",
       "</table>\n",
       "</div>"
      ],
      "text/plain": [
       "                                           company                    date  \\\n",
       "X51005675104.txt       SYARIKAT PERNIAGAAN GIN KEE              25/01/2018   \n",
       "X51005568890.txt          HON HWA HARDWARE TRADING              05/01/2017   \n",
       "X00016469670.txt             OJC MARKETING SDN BHD  15/01/2019 11:05:16 AM   \n",
       "X51006557507.txt     Makassar Fresh Market Sdn Bhd              27/10/2017   \n",
       "X51007846396.txt  GERBANG ALAF RESTAURANTS SDN BHD     24/06/2018 22:40:45   \n",
       "\n",
       "                                                            address   total  \n",
       "X51005675104.txt  NO 290, JALAN AIR PANAS, SETAPAK, 53200, KUALA...  190.80  \n",
       "X51005568890.txt  NO 37, JALAN MANIS 7, TAMAN SEGAR, 56100 CHERA...    5.00  \n",
       "X00016469670.txt  NO 2 & 4, JALAN BAYU 4, BANDAR SERI ALAM, 8175...  193.00  \n",
       "X51006557507.txt  Ground Floor, No. 4 & 6, Jalan SS 15/4B, 47500...   35.88  \n",
       "X51007846396.txt  LEVEL 6, BANGUNAN TH, DAMANSARA UPTOWN3, NO.3,...    7.35  "
      ]
     },
     "execution_count": 24,
     "metadata": {},
     "output_type": "execute_result"
    }
   ],
   "source": [
    "predictions_runs_dfs[0].head()"
   ]
  },
  {
   "cell_type": "code",
   "execution_count": 25,
   "metadata": {},
   "outputs": [
    {
     "data": {
      "text/plain": [
       "company    347\n",
       "date       347\n",
       "address    347\n",
       "total      347\n",
       "dtype: int64"
      ]
     },
     "execution_count": 25,
     "metadata": {},
     "output_type": "execute_result"
    }
   ],
   "source": [
    "# how often was a given key predicted?\n",
    "predictions_runs_dfs[0].count()"
   ]
  },
  {
   "cell_type": "code",
   "execution_count": 26,
   "metadata": {},
   "outputs": [],
   "source": [
    "eval_dfs = []\n",
    "for predictions_run_df in predictions_runs_dfs:\n",
    "    eval_df = pd.DataFrame()\n",
    "    for index, row in predictions_run_df.iterrows():\n",
    "        for key in keys:\n",
    "            if row[key] == gold_standard_df.loc[index][key]:\n",
    "                eval_df.loc[index, key] = 1\n",
    "            else:\n",
    "                eval_df.loc[index, key] = 0\n",
    "\n",
    "    for index, row in gold_standard_df.iterrows():\n",
    "        if index not in eval_df.index:\n",
    "            eval_df.loc[index] = 0\n",
    "\n",
    "    eval_dfs.append(eval_df)"
   ]
  },
  {
   "cell_type": "code",
   "execution_count": 27,
   "metadata": {},
   "outputs": [
    {
     "name": "stdout",
     "output_type": "stream",
     "text": [
      "Accuracy for company: 0.479±0.006\n",
      "Accuracy for date: 0.584±0.002\n",
      "Accuracy for address: 0.333±0.01\n",
      "Accuracy for total: 0.845±0.006\n",
      "Overall accuracy: 0.561±0.005\n"
     ]
    }
   ],
   "source": [
    "# overall accuracy of the model\n",
    "# i.e. the fraction of gold values which are predicted correctly\n",
    "accuracy_by_key = []\n",
    "overall_accuracy = []\n",
    "for eval_df in eval_dfs:\n",
    "    accuracy_by_key.append(eval_df.mean())\n",
    "    overall_accuracy.append(eval_df.mean().mean())\n",
    "\n",
    "for key in keys:\n",
    "    print(f\"Accuracy for {key}: {round(np.mean([accuracy_by_key[i][key] for i in range(len(accuracy_by_key))]), 3)}±{round(np.std([accuracy_by_key[i][key] for i in range(len(accuracy_by_key))], ddof=1), 3)}\")\n",
    "print(f\"Overall accuracy: {round(np.mean(overall_accuracy), 3)}±{round(np.std(overall_accuracy, ddof=1), 3)}\")\n"
   ]
  },
  {
   "cell_type": "code",
   "execution_count": 28,
   "metadata": {},
   "outputs": [
    {
     "data": {
      "image/png": "[encoded data removed]",
      "text/plain": [
       "<Figure size 1000x600 with 1 Axes>"
      ]
     },
     "metadata": {},
     "output_type": "display_data"
    }
   ],
   "source": [
    "sns.set_theme(style=\"whitegrid\")\n",
    "sns.set_context(\"paper\", font_scale=1.5)\n",
    "sns.set_palette(\"colorblind\")\n",
    "\n",
    "# shots \n",
    "x = [0, 1, 2]\n",
    "\n",
    "# overall accuracy\n",
    "y_flan_t5 = [0.006, 0.085, 0.042]\n",
    "y_neox = [0.033, 0.421, 0.424]\n",
    "y_davinci = [0.561, 0.689, 0.780]\n",
    "\n",
    "# plot\n",
    "fig, ax = plt.subplots(figsize=(10, 6))\n",
    "\n",
    "ax.plot(x, y_flan_t5, label='Flan-T5')\n",
    "ax.plot(x, y_neox, label='GPT-NeoX')\n",
    "ax.plot(x, y_davinci, label='InstructGPT')\n",
    "\n",
    "\n",
    "\n",
    "# set ticks\n",
    "ax.set_xticks(x)\n",
    "ax.set_xlim(0, 2)\n",
    "\n",
    "ax.set_ylim(0, 1)\n",
    "\n",
    "ax.set(xlabel=\"Number of shots\", ylabel=\"Average accuracy\", title=\"Average Accuracy vs. Number of Shots\")\n",
    "ax.legend(loc='upper left')\n",
    "\n",
    "plt.show()\n",
    "fig.savefig(f\"plots/sroie/accuracy_vs_shots.png\", dpi=300, bbox_inches='tight')\n"
   ]
  }
 ],
 "metadata": {
  "kernelspec": {
   "display_name": "Python 3.8.5 ('uni-kie-JrmAaldC-py3.8')",
   "language": "python",
   "name": "python3"
  },
  "language_info": {
   "codemirror_mode": {
    "name": "ipython",
    "version": 3
   },
   "file_extension": ".py",
   "mimetype": "text/x-python",
   "name": "python",
   "nbconvert_exporter": "python",
   "pygments_lexer": "ipython3",
   "version": "3.8.5"
  },
  "vscode": {
   "interpreter": {
    "hash": "cec8707b55c29234c829cd46c92f0adfa2b741d49905cfffb1cd22fea1c1c224"
   }
  }
 },
 "nbformat": 4,
 "nbformat_minor": 0
}
