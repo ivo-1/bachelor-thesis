{
 "cells": [
  {
   "cell_type": "code",
   "execution_count": 1,
   "metadata": {
    "collapsed": false
   },
   "outputs": [],
   "source": [
    "import pandas as pd\n",
    "import numpy as np\n",
    "import matplotlib.pyplot as plt\n",
    "from transformers import GPT2TokenizerFast\n",
    "import seaborn as sns"
   ]
  },
  {
   "cell_type": "code",
   "execution_count": 2,
   "metadata": {},
   "outputs": [],
   "source": [
    "tokenizer = GPT2TokenizerFast.from_pretrained(\"gpt2\") # this is the same tokenizer that openai uses for their instructGPT model family"
   ]
  },
  {
   "cell_type": "code",
   "execution_count": 3,
   "metadata": {
    "collapsed": true
   },
   "outputs": [
    {
     "data": {
      "text/plain": [
       "'Trustees’ annual report (including Directors’ report) for the period\\\\nFrom: 1st August 2017 Period start date To: 31st July 2018 Period end date\\\\nCharity name: Wormington Village Society\\\\nCharity registration number: 1155074\\\\nCompany number:\\\\nObjectives and activities\\\\nSORP reference\\\\nSummary of the purposes of\\\\nthe charity as set out in its\\\\ngoverning document\\\\nPara 1.17\\\\nThe Village Society provides amenities and\\\\narranges functions for residents within\\\\nWormington and surrounding villages. It\\\\naims to encourage young and old to\\\\ncontinue their education, offering art,\\\\nexercise, it and language classes.\\\\nSummary of the main\\\\nactivities in relation to those\\\\npurposes for the public\\\\nbenefit, in particular, the\\\\nactivities, projects or services\\\\nidentified in the accounts.\\\\nPara 1.17 and\\\\n1.19\\\\nCurrently the main activity is fundraising for\\\\nWormington Village Hall. In December 2017\\\\nplanning permission for the Village hall was\\\\ngranted by Tewkesbury Borough Council.\\\\nMeanwhile village lunches, quizzes, Call my\\\\nBluff, musical, boules and table tennis\\\\nevenings have taken place.\\\\nStatement confirming\\\\nwhether the trustees have\\\\nhad regard to the guidance\\\\nissued by the Charity\\\\nCommission on public\\\\nbenefit\\\\nPara 1.18\\\\nThe Trustees confirm they have read the\\\\nguidance issued and continue to comply with\\\\nits requirements.\\\\nAdditional information (optional)\\\\nYou may choose to include further statements where relevant about:\\\\nSORP reference\\\\nPolicy on grant making\\\\nPara 1.38\\\\nPolicy on social investment\\\\nincluding program related\\\\ninvestment\\\\nPara 1.38\\\\nContribution made by\\\\nPara 1.38\\\\nvolunteers\\\\nOther\\\\nAchievements and performance\\\\nSummary of the main\\\\nachievements of the charity,\\\\nidentifying the difference the\\\\ncharity’s work has made to\\\\nthe circumstances of its\\\\nbeneficiaries and any wider\\\\nbenefits to society as a\\\\nwhole.\\\\nPara 1.20\\\\nPlanning permission for Wormington Village\\\\nHall was granted by Tewkesbury Borough\\\\nCouncil in December 2017.\\\\nEquipment bought with previous grants has\\\\ncontinued to enable activities and events\\\\nthat would not previously have taken place.\\\\nThe Community is continually consulted with\\\\nregard to the Hall and the nature of events\\\\nand activities held.\\\\nAdditional information (optional)\\\\nYou may choose to include further statements where relevant about:\\\\nAchievements against\\\\nobjectives set\\\\nPara 1.41\\\\nPerformance of fundraising\\\\nactivities against objectives\\\\nset\\\\nPara 1.41\\\\nInvestment performance\\\\nagainst objectives\\\\nPara 1.41\\\\nOther\\\\nFinancial review\\\\nReview of the charity’s\\\\nfinancial position at the end\\\\nof the period\\\\nPara 1.21\\\\nCash at Bank: £22,171\\\\nStatement explaining the\\\\npolicy for holding reserves\\\\nstating why they are held\\\\nPara 1.22\\\\nReserves are being held for the construction\\\\nof the new village hall.\\\\nAmount of reserves held\\\\nPara 1.22\\\\n£19,465\\\\nReasons for holding zero\\\\nreserves\\\\nPara 1.22\\\\nN/A\\\\nDetails of fund materially in\\\\ndeficit\\\\nPara 1.24\\\\nN/A\\\\nExplanation of any\\\\nuncertainties about the\\\\ncharity continuing as a going\\\\nconcern\\\\nPara 1.23\\\\nN/A\\\\nAdditional information (optional)\\\\nYou may choose to include further statements where relevant about:\\\\nThe charity’s principal\\\\nsources of funds (including\\\\nany fundraising)\\\\nPara 1.47\\\\nInvestment policy and\\\\nobjectives including any\\\\nsocial investment policy\\\\nadopted\\\\nPara 1.46\\\\nA description of the principal\\\\nrisks facing the charity\\\\nPara 1.46\\\\nOther\\\\nStructure, governance and management\\\\nDescription of charity’s\\\\ntrusts:\\\\nType of governing document:\\\\nfor example, trust deed,\\\\nmemorandum and articles of\\\\nassociation etc\\\\nPara 1.25\\\\nConstitution\\\\nHow is the charity\\\\nconstituted?\\\\nfor example limited company,\\\\nunincorporated association,\\\\nCIO\\\\nPara 1.25\\\\nCIO\\\\nTrustee selection methods\\\\nincluding details of any\\\\nconstitutional provisions e.g .\\\\nelection to post or name of\\\\nany person or body entitled\\\\nto appoint one or more\\\\ntrustees\\\\nPara 1.25\\\\nBy committee\\\\nAdditional information (optional)\\\\nYou may choose to include further statements where relevant about:\\\\nPolicies and procedures\\\\nadopted for the induction and\\\\ntraining of trustees\\\\nPara 1.51\\\\nThe charity’s organisational\\\\nstructure and any wider\\\\nnetwork with which the\\\\ncharity works\\\\nPara 1.51\\\\nRelationship with any related\\\\nparties\\\\nPara 1.51\\\\nOther\\\\nReference and administrative details\\\\nCharity name\\\\nWormington Village Society\\\\nOther name the charity uses N/A\\\\nRegistered charity number\\\\n1155074\\\\nCharity’s principal address\\\\nDairymead\\\\nWormington\\\\nBroadway\\\\nWR12 7NL\\\\nNames of the charity trustees who manage the charity\\\\nTrustee name\\\\nOffice (if any)\\\\nDates acted if not for whole\\\\nyear\\\\nName of person (or body) entitled\\\\nto appoint trustee (if any)\\\\n1 Mark Warren\\\\nChairman\\\\n2 Duncan Macdonald\\\\n3 Jim Campbell\\\\n4\\\\n5\\\\n6\\\\n7\\\\n8\\\\n9\\\\n10\\\\n11\\\\n12\\\\n13\\\\n14\\\\n15\\\\n16\\\\n17\\\\n18\\\\n19\\\\n20\\\\nCorporate trustees – names of the directors at the date the report was approved\\\\nDirector name\\\\nName of trustees holding title to property belonging to the charity\\\\nTrustee name\\\\nDates acted if not for whole year\\\\nFunds held as custodian trustees on behalf of others\\\\nDescription of the assets\\\\nheld in this capacity\\\\nN/A\\\\nName and objects of the\\\\ncharity on whose behalf the\\\\nassets are held and how this\\\\nfalls within the custodian\\\\ncharity’s objects\\\\nN/A\\\\nDetails of arrangements for\\\\nsafe custody and\\\\nsegregation of such assets\\\\nfrom the charity’s own assets\\\\nN/A\\\\nAdditional information (optional)\\\\nNames and addresses of advisers (optional information)\\\\nType of\\\\nadviser\\\\nName\\\\nAddress\\\\nName of chief executive or names of senior staff members (optional information)\\\\nExemptions from disclosure\\\\nReason for non-disclosure of key personnel details\\\\nOther optional information\\\\nDeclarations\\\\nThe company has taken advantage of the small companies’ exemption in preparing the\\\\nreport above.\\\\nThe trustees declare that they have approved the trustees’ report (including directors’\\\\nreport) above.\\\\nSigned on behalf of the charity’s trustees/directors\\\\nSignature(s)\\\\nFull name(s) Margaret A Campbell\\\\nPosition (for example\\\\nSecretary, Chair, etc)\\\\nFundraiser\\\\nDate\\\\n20th\\\\nMay 2019'"
      ]
     },
     "execution_count": 3,
     "metadata": {},
     "output_type": "execute_result"
    }
   ],
   "source": [
    "path_to_data = \"./datasets/kleister_charity/dev-0/in.tsv\"\n",
    "path_to_headers = \"./datasets/kleister_charity/in-header.tsv\"\n",
    "\n",
    "data = pd.read_csv(path_to_data, sep=\"\\t\", header=None)\n",
    "headers = pd.read_csv(path_to_headers, sep=\"\\t\", header=None)\n",
    "data.columns = headers.iloc[0]\n",
    "data = data.drop(columns=[\"text_djvu\", \"text_tesseract\", \"text_textract\"])\n",
    "data.iloc[0][\"text_best\"]"
   ]
  },
  {
   "cell_type": "code",
   "execution_count": 4,
   "metadata": {
    "collapsed": false
   },
   "outputs": [
    {
     "data": {
      "text/html": [
       "<div>\n",
       "<style scoped>\n",
       "    .dataframe tbody tr th:only-of-type {\n",
       "        vertical-align: middle;\n",
       "    }\n",
       "\n",
       "    .dataframe tbody tr th {\n",
       "        vertical-align: top;\n",
       "    }\n",
       "\n",
       "    .dataframe thead th {\n",
       "        text-align: right;\n",
       "    }\n",
       "</style>\n",
       "<table border=\"1\" class=\"dataframe\">\n",
       "  <thead>\n",
       "    <tr style=\"text-align: right;\">\n",
       "      <th></th>\n",
       "      <th>filename</th>\n",
       "      <th>keys</th>\n",
       "      <th>text_best</th>\n",
       "    </tr>\n",
       "  </thead>\n",
       "  <tbody>\n",
       "    <tr>\n",
       "      <th>0</th>\n",
       "      <td>1ada336f29e8247f9f55a8d7e1b1c0da.pdf</td>\n",
       "      <td>address__post_town address__postcode address__...</td>\n",
       "      <td>Trustees’ annual report (including Directors’ ...</td>\n",
       "    </tr>\n",
       "    <tr>\n",
       "      <th>1</th>\n",
       "      <td>87ff1046fb88668ed4e0476d66abd733.pdf</td>\n",
       "      <td>address__post_town address__postcode address__...</td>\n",
       "      <td>Havens\\nHospices\\nCompany number: 2805007\\nCha...</td>\n",
       "    </tr>\n",
       "    <tr>\n",
       "      <th>2</th>\n",
       "      <td>365a65c22610022110ca8610ecfe4034.pdf</td>\n",
       "      <td>address__post_town address__postcode address__...</td>\n",
       "      <td>ANNUAL REPORT AND\\nFINANCIAL STATEMENTS\\nFOR T...</td>\n",
       "    </tr>\n",
       "    <tr>\n",
       "      <th>3</th>\n",
       "      <td>d07c46323bb61186b6175bad9a274225.pdf</td>\n",
       "      <td>address__post_town address__postcode address__...</td>\n",
       "      <td>THE SANATA CHARITABLE TRUST\\nCompany Registrat...</td>\n",
       "    </tr>\n",
       "    <tr>\n",
       "      <th>4</th>\n",
       "      <td>a84c1c7a3e570a716f6c61de557b5ff1.pdf</td>\n",
       "      <td>address__post_town address__postcode address__...</td>\n",
       "      <td>Cantate Youth Choir Trustees’ report for 2014\\...</td>\n",
       "    </tr>\n",
       "  </tbody>\n",
       "</table>\n",
       "</div>"
      ],
      "text/plain": [
       "0                              filename  \\\n",
       "0  1ada336f29e8247f9f55a8d7e1b1c0da.pdf   \n",
       "1  87ff1046fb88668ed4e0476d66abd733.pdf   \n",
       "2  365a65c22610022110ca8610ecfe4034.pdf   \n",
       "3  d07c46323bb61186b6175bad9a274225.pdf   \n",
       "4  a84c1c7a3e570a716f6c61de557b5ff1.pdf   \n",
       "\n",
       "0                                               keys  \\\n",
       "0  address__post_town address__postcode address__...   \n",
       "1  address__post_town address__postcode address__...   \n",
       "2  address__post_town address__postcode address__...   \n",
       "3  address__post_town address__postcode address__...   \n",
       "4  address__post_town address__postcode address__...   \n",
       "\n",
       "0                                          text_best  \n",
       "0  Trustees’ annual report (including Directors’ ...  \n",
       "1  Havens\\nHospices\\nCompany number: 2805007\\nCha...  \n",
       "2  ANNUAL REPORT AND\\nFINANCIAL STATEMENTS\\nFOR T...  \n",
       "3  THE SANATA CHARITABLE TRUST\\nCompany Registrat...  \n",
       "4  Cantate Youth Choir Trustees’ report for 2014\\...  "
      ]
     },
     "execution_count": 4,
     "metadata": {},
     "output_type": "execute_result"
    }
   ],
   "source": [
    "data.head()"
   ]
  },
  {
   "cell_type": "code",
   "execution_count": 5,
   "metadata": {
    "collapsed": false
   },
   "outputs": [
    {
     "data": {
      "text/plain": [
       "440"
      ]
     },
     "execution_count": 5,
     "metadata": {},
     "output_type": "execute_result"
    }
   ],
   "source": [
    "len(data)"
   ]
  },
  {
   "cell_type": "markdown",
   "metadata": {},
   "source": [
    "Let's look at the gold keys that we should find in any given document. Although note that some documents don't contain answers to all of the keys, in which case it's correct to simply leave them out."
   ]
  },
  {
   "cell_type": "code",
   "execution_count": 6,
   "metadata": {},
   "outputs": [
    {
     "data": {
      "text/plain": [
       "'address__post_town address__postcode address__street_line charity_name charity_number income_annually_in_british_pounds report_date spending_annually_in_british_pounds'"
      ]
     },
     "execution_count": 6,
     "metadata": {},
     "output_type": "execute_result"
    }
   ],
   "source": [
    "data.iloc[0][\"keys\"]"
   ]
  },
  {
   "cell_type": "markdown",
   "metadata": {},
   "source": [
    "Let's look at how many tokens are in a given document and save it in the dataframe."
   ]
  },
  {
   "cell_type": "code",
   "execution_count": 7,
   "metadata": {},
   "outputs": [
    {
     "name": "stderr",
     "output_type": "stream",
     "text": [
      "Token indices sequence length is longer than the specified maximum sequence length for this model (1728 > 1024). Running this sequence through the model will result in indexing errors\n"
     ]
    }
   ],
   "source": [
    "data[\"text_best_number_of_tokens\"] = data[\"text_best\"].apply(lambda x: len(tokenizer(x)[\"input_ids\"]))"
   ]
  },
  {
   "cell_type": "code",
   "execution_count": 8,
   "metadata": {},
   "outputs": [
    {
     "data": {
      "text/html": [
       "<div>\n",
       "<style scoped>\n",
       "    .dataframe tbody tr th:only-of-type {\n",
       "        vertical-align: middle;\n",
       "    }\n",
       "\n",
       "    .dataframe tbody tr th {\n",
       "        vertical-align: top;\n",
       "    }\n",
       "\n",
       "    .dataframe thead th {\n",
       "        text-align: right;\n",
       "    }\n",
       "</style>\n",
       "<table border=\"1\" class=\"dataframe\">\n",
       "  <thead>\n",
       "    <tr style=\"text-align: right;\">\n",
       "      <th></th>\n",
       "      <th>filename</th>\n",
       "      <th>keys</th>\n",
       "      <th>text_best</th>\n",
       "      <th>text_best_number_of_tokens</th>\n",
       "    </tr>\n",
       "  </thead>\n",
       "  <tbody>\n",
       "    <tr>\n",
       "      <th>0</th>\n",
       "      <td>1ada336f29e8247f9f55a8d7e1b1c0da.pdf</td>\n",
       "      <td>address__post_town address__postcode address__...</td>\n",
       "      <td>Trustees’ annual report (including Directors’ ...</td>\n",
       "      <td>1728</td>\n",
       "    </tr>\n",
       "    <tr>\n",
       "      <th>1</th>\n",
       "      <td>87ff1046fb88668ed4e0476d66abd733.pdf</td>\n",
       "      <td>address__post_town address__postcode address__...</td>\n",
       "      <td>Havens\\nHospices\\nCompany number: 2805007\\nCha...</td>\n",
       "      <td>32898</td>\n",
       "    </tr>\n",
       "    <tr>\n",
       "      <th>2</th>\n",
       "      <td>365a65c22610022110ca8610ecfe4034.pdf</td>\n",
       "      <td>address__post_town address__postcode address__...</td>\n",
       "      <td>ANNUAL REPORT AND\\nFINANCIAL STATEMENTS\\nFOR T...</td>\n",
       "      <td>32864</td>\n",
       "    </tr>\n",
       "    <tr>\n",
       "      <th>3</th>\n",
       "      <td>d07c46323bb61186b6175bad9a274225.pdf</td>\n",
       "      <td>address__post_town address__postcode address__...</td>\n",
       "      <td>THE SANATA CHARITABLE TRUST\\nCompany Registrat...</td>\n",
       "      <td>4799</td>\n",
       "    </tr>\n",
       "    <tr>\n",
       "      <th>4</th>\n",
       "      <td>a84c1c7a3e570a716f6c61de557b5ff1.pdf</td>\n",
       "      <td>address__post_town address__postcode address__...</td>\n",
       "      <td>Cantate Youth Choir Trustees’ report for 2014\\...</td>\n",
       "      <td>9898</td>\n",
       "    </tr>\n",
       "  </tbody>\n",
       "</table>\n",
       "</div>"
      ],
      "text/plain": [
       "0                              filename  \\\n",
       "0  1ada336f29e8247f9f55a8d7e1b1c0da.pdf   \n",
       "1  87ff1046fb88668ed4e0476d66abd733.pdf   \n",
       "2  365a65c22610022110ca8610ecfe4034.pdf   \n",
       "3  d07c46323bb61186b6175bad9a274225.pdf   \n",
       "4  a84c1c7a3e570a716f6c61de557b5ff1.pdf   \n",
       "\n",
       "0                                               keys  \\\n",
       "0  address__post_town address__postcode address__...   \n",
       "1  address__post_town address__postcode address__...   \n",
       "2  address__post_town address__postcode address__...   \n",
       "3  address__post_town address__postcode address__...   \n",
       "4  address__post_town address__postcode address__...   \n",
       "\n",
       "0                                          text_best  \\\n",
       "0  Trustees’ annual report (including Directors’ ...   \n",
       "1  Havens\\nHospices\\nCompany number: 2805007\\nCha...   \n",
       "2  ANNUAL REPORT AND\\nFINANCIAL STATEMENTS\\nFOR T...   \n",
       "3  THE SANATA CHARITABLE TRUST\\nCompany Registrat...   \n",
       "4  Cantate Youth Choir Trustees’ report for 2014\\...   \n",
       "\n",
       "0  text_best_number_of_tokens  \n",
       "0                        1728  \n",
       "1                       32898  \n",
       "2                       32864  \n",
       "3                        4799  \n",
       "4                        9898  "
      ]
     },
     "execution_count": 8,
     "metadata": {},
     "output_type": "execute_result"
    }
   ],
   "source": [
    "data.head()"
   ]
  },
  {
   "cell_type": "code",
   "execution_count": 9,
   "metadata": {},
   "outputs": [
    {
     "data": {
      "text/plain": [
       "count       440.000000\n",
       "mean      12633.245455\n",
       "std       13253.844814\n",
       "min         288.000000\n",
       "25%        4531.250000\n",
       "50%        7468.000000\n",
       "75%       17580.250000\n",
       "max      109440.000000\n",
       "Name: text_best_number_of_tokens, dtype: float64"
      ]
     },
     "execution_count": 9,
     "metadata": {},
     "output_type": "execute_result"
    }
   ],
   "source": [
    "data[\"text_best_number_of_tokens\"].describe()"
   ]
  },
  {
   "cell_type": "markdown",
   "metadata": {},
   "source": [
    "Let's look closer at the distribution of the number of tokens."
   ]
  },
  {
   "cell_type": "code",
   "execution_count": 10,
   "metadata": {},
   "outputs": [
    {
     "data": {
      "image/png": "[encoded data removed]",
      "text/plain": [
       "<Figure size 1000x600 with 1 Axes>"
      ]
     },
     "metadata": {},
     "output_type": "display_data"
    }
   ],
   "source": [
    "sns.set_style(\"whitegrid\")\n",
    "sns.set_context(\"paper\", font_scale=1.5)\n",
    "sns.set_palette(\"colorblind\")\n",
    "\n",
    "fig, ax = plt.subplots(figsize=(10, 6))\n",
    "sns.histplot(data=data, x=data[\"text_best_number_of_tokens\"], kde=True, ax=ax, bins=200)\n",
    "ax.set_title(\"Distribution of number of tokens (dev set)\")\n",
    "ax.set_xlabel(\"Number of tokens\")\n",
    "ax.set_ylabel(\"Number of documents\")\n",
    "ax.axvline(data[\"text_best_number_of_tokens\"].mean(), color=\"red\", linestyle=\"--\", label=\"Mean\")\n",
    "ax.axvline(data[\"text_best_number_of_tokens\"].median(), color=\"green\", linestyle=\"--\", label=\"Median\")\n",
    "\n",
    "ax.legend()\n",
    "ax.set_xlim(0, 65000)\n",
    "\n",
    "plt.show()\n",
    "fig.savefig(\"plots/token_distribution_zoom_dev-0.png\", dpi=300)"
   ]
  },
  {
   "cell_type": "markdown",
   "metadata": {},
   "source": [
    "Let's look at the shortest document to get a better idea of what the input text looks like."
   ]
  },
  {
   "cell_type": "code",
   "execution_count": 11,
   "metadata": {},
   "outputs": [
    {
     "data": {
      "text/plain": [
       "'LIGHTHOUSE GLOBAL NETWORK\\\\nCHARITY NO 1163804\\\\nTRUSTEES REPORT AND FINANCIAL STATEMENT\\\\nFOR THE PERIOD ENDED\\\\n31 MAY 2016\\\\nLIGHTHOUSE GLOBAL NETWORK\\\\nLEGAL AND ADMINISTRATIVE DETAILS\\\\nFOR THE PERIOD ENDED 31 MAY 2016\\\\nTrustees:\\\\nMr Oluwasegun Julius Eniolu\\\\nMrs Mary Eniolu\\\\nMr Samuel Tsaurai Katanda\\\\nCorrespondence Address:\\\\n5A Tonbridge Road\\\\nMaidstone\\\\nKent\\\\nME16 8RL\\\\nCharity Registration No:\\\\n1163804\\\\nFor the Period ending 31 May 2016, the Charity was not trading. The Charity started trading on 7\\\\nSeptember 2016.\\\\nThe trustees are responsible for keeping proper accounting records which disclose with reasonable accuracy at\\\\nany time the financial position of the charity at that time and to enable the trustees to ensure that any statement of\\\\naccount prepared by them. The Trustees will submit Annual Return and Accounts covering the period\\\\nfrom the trading date of 07 September 2016 to the following accounting date as and when it falls due.\\\\nSigned on behalf of th\\\\nes of Lighthouse Global Network\\\\nMary Eniolu\\\\nDate: 30 April 2018'"
      ]
     },
     "execution_count": 11,
     "metadata": {},
     "output_type": "execute_result"
    }
   ],
   "source": [
    "shortest = data[data[\"text_best\"].apply(lambda x: len(tokenizer(x)[\"input_ids\"])) == data[\"text_best_number_of_tokens\"].min()][\"text_best\"].values[0]\n",
    "shortest"
   ]
  },
  {
   "cell_type": "markdown",
   "metadata": {},
   "source": [
    "We can see that the text contains double escapes for the newline character, i.e. `\\\\n` instead of `\\n`. This also leads to the fact that the string is not represented correctly when printing it."
   ]
  },
  {
   "cell_type": "code",
   "execution_count": 12,
   "metadata": {},
   "outputs": [
    {
     "name": "stdout",
     "output_type": "stream",
     "text": [
      "LIGHTHOUSE GLOBAL NETWORK\n",
      "CHARITY NO 1163804\n",
      "TRUSTEES REPORT AND FINANCIAL STATEMENT\n",
      "FOR THE PERIOD ENDED\n",
      "31 MAY 2016\n",
      "LIGHTHOUSE GLOBAL NETWORK\n",
      "LEGAL AND ADMINISTRATIVE DETAILS\n",
      "FOR THE PERIOD ENDED 31 MAY 2016\n",
      "Trustees:\n",
      "Mr Oluwasegun Julius Eniolu\n",
      "Mrs Mary Eniolu\n",
      "Mr Samuel Tsaurai Katanda\n",
      "Correspondence Address:\n",
      "5A Tonbridge Road\n",
      "Maidstone\n",
      "Kent\n",
      "ME16 8RL\n",
      "Charity Registration No:\n",
      "1163804\n",
      "For the Period ending 31 May 2016, the Charity was not trading. The Charity started trading on 7\n",
      "September 2016.\n",
      "The trustees are responsible for keeping proper accounting records which disclose with reasonable accuracy at\n",
      "any time the financial position of the charity at that time and to enable the trustees to ensure that any statement of\n",
      "account prepared by them. The Trustees will submit Annual Return and Accounts covering the period\n",
      "from the trading date of 07 September 2016 to the following accounting date as and when it falls due.\n",
      "Signed on behalf of th\n",
      "es of Lighthouse Global Network\n",
      "Mary Eniolu\n",
      "Date: 30 April 2018\n"
     ]
    }
   ],
   "source": [
    "shortest = shortest.replace(\"\\\\n\", \"\\n\")\n",
    "print(shortest)"
   ]
  },
  {
   "cell_type": "markdown",
   "metadata": {},
   "source": [
    "This looks much better. Let's do it for all rows and also for other control characters. Let's also remove redundant spaces."
   ]
  },
  {
   "cell_type": "code",
   "execution_count": 13,
   "metadata": {},
   "outputs": [],
   "source": [
    "data[\"text_best_cleaned\"] = data[\"text_best\"].apply(lambda x: x.replace(\"\\\\n\", \"\\n\").replace(\"\\\\t\", \"\\t\").replace(\"\\\\r\", \"\\r\").replace(\"\\\\\", \"\").replace(\"  \", \" \"))"
   ]
  },
  {
   "cell_type": "markdown",
   "metadata": {},
   "source": [
    "Let's also save the number of tokens of the cleaned text."
   ]
  },
  {
   "cell_type": "code",
   "execution_count": 14,
   "metadata": {},
   "outputs": [],
   "source": [
    "data[\"text_best_cleaned_number_of_tokens\"] = data[\"text_best_cleaned\"].apply(lambda x: len(tokenizer(x)[\"input_ids\"]))"
   ]
  },
  {
   "cell_type": "code",
   "execution_count": 15,
   "metadata": {},
   "outputs": [
    {
     "data": {
      "text/html": [
       "<div>\n",
       "<style scoped>\n",
       "    .dataframe tbody tr th:only-of-type {\n",
       "        vertical-align: middle;\n",
       "    }\n",
       "\n",
       "    .dataframe tbody tr th {\n",
       "        vertical-align: top;\n",
       "    }\n",
       "\n",
       "    .dataframe thead th {\n",
       "        text-align: right;\n",
       "    }\n",
       "</style>\n",
       "<table border=\"1\" class=\"dataframe\">\n",
       "  <thead>\n",
       "    <tr style=\"text-align: right;\">\n",
       "      <th></th>\n",
       "      <th>filename</th>\n",
       "      <th>keys</th>\n",
       "      <th>text_best</th>\n",
       "      <th>text_best_number_of_tokens</th>\n",
       "      <th>text_best_cleaned</th>\n",
       "      <th>text_best_cleaned_number_of_tokens</th>\n",
       "    </tr>\n",
       "  </thead>\n",
       "  <tbody>\n",
       "    <tr>\n",
       "      <th>0</th>\n",
       "      <td>1ada336f29e8247f9f55a8d7e1b1c0da.pdf</td>\n",
       "      <td>address__post_town address__postcode address__...</td>\n",
       "      <td>Trustees’ annual report (including Directors’ ...</td>\n",
       "      <td>1728</td>\n",
       "      <td>Trustees’ annual report (including Directors’ ...</td>\n",
       "      <td>1497</td>\n",
       "    </tr>\n",
       "    <tr>\n",
       "      <th>1</th>\n",
       "      <td>87ff1046fb88668ed4e0476d66abd733.pdf</td>\n",
       "      <td>address__post_town address__postcode address__...</td>\n",
       "      <td>Havens\\nHospices\\nCompany number: 2805007\\nCha...</td>\n",
       "      <td>32898</td>\n",
       "      <td>Havens\\nHospices\\nCompany number: 2805007\\nCha...</td>\n",
       "      <td>29818</td>\n",
       "    </tr>\n",
       "    <tr>\n",
       "      <th>2</th>\n",
       "      <td>365a65c22610022110ca8610ecfe4034.pdf</td>\n",
       "      <td>address__post_town address__postcode address__...</td>\n",
       "      <td>ANNUAL REPORT AND\\nFINANCIAL STATEMENTS\\nFOR T...</td>\n",
       "      <td>32864</td>\n",
       "      <td>ANNUAL REPORT AND\\nFINANCIAL STATEMENTS\\nFOR T...</td>\n",
       "      <td>29149</td>\n",
       "    </tr>\n",
       "    <tr>\n",
       "      <th>3</th>\n",
       "      <td>d07c46323bb61186b6175bad9a274225.pdf</td>\n",
       "      <td>address__post_town address__postcode address__...</td>\n",
       "      <td>THE SANATA CHARITABLE TRUST\\nCompany Registrat...</td>\n",
       "      <td>4799</td>\n",
       "      <td>THE SANATA CHARITABLE TRUST\\nCompany Registrat...</td>\n",
       "      <td>4311</td>\n",
       "    </tr>\n",
       "    <tr>\n",
       "      <th>4</th>\n",
       "      <td>a84c1c7a3e570a716f6c61de557b5ff1.pdf</td>\n",
       "      <td>address__post_town address__postcode address__...</td>\n",
       "      <td>Cantate Youth Choir Trustees’ report for 2014\\...</td>\n",
       "      <td>9898</td>\n",
       "      <td>Cantate Youth Choir Trustees’ report for 2014\\...</td>\n",
       "      <td>9040</td>\n",
       "    </tr>\n",
       "  </tbody>\n",
       "</table>\n",
       "</div>"
      ],
      "text/plain": [
       "0                              filename  \\\n",
       "0  1ada336f29e8247f9f55a8d7e1b1c0da.pdf   \n",
       "1  87ff1046fb88668ed4e0476d66abd733.pdf   \n",
       "2  365a65c22610022110ca8610ecfe4034.pdf   \n",
       "3  d07c46323bb61186b6175bad9a274225.pdf   \n",
       "4  a84c1c7a3e570a716f6c61de557b5ff1.pdf   \n",
       "\n",
       "0                                               keys  \\\n",
       "0  address__post_town address__postcode address__...   \n",
       "1  address__post_town address__postcode address__...   \n",
       "2  address__post_town address__postcode address__...   \n",
       "3  address__post_town address__postcode address__...   \n",
       "4  address__post_town address__postcode address__...   \n",
       "\n",
       "0                                          text_best  \\\n",
       "0  Trustees’ annual report (including Directors’ ...   \n",
       "1  Havens\\nHospices\\nCompany number: 2805007\\nCha...   \n",
       "2  ANNUAL REPORT AND\\nFINANCIAL STATEMENTS\\nFOR T...   \n",
       "3  THE SANATA CHARITABLE TRUST\\nCompany Registrat...   \n",
       "4  Cantate Youth Choir Trustees’ report for 2014\\...   \n",
       "\n",
       "0  text_best_number_of_tokens  \\\n",
       "0                        1728   \n",
       "1                       32898   \n",
       "2                       32864   \n",
       "3                        4799   \n",
       "4                        9898   \n",
       "\n",
       "0                                  text_best_cleaned  \\\n",
       "0  Trustees’ annual report (including Directors’ ...   \n",
       "1  Havens\\nHospices\\nCompany number: 2805007\\nCha...   \n",
       "2  ANNUAL REPORT AND\\nFINANCIAL STATEMENTS\\nFOR T...   \n",
       "3  THE SANATA CHARITABLE TRUST\\nCompany Registrat...   \n",
       "4  Cantate Youth Choir Trustees’ report for 2014\\...   \n",
       "\n",
       "0  text_best_cleaned_number_of_tokens  \n",
       "0                                1497  \n",
       "1                               29818  \n",
       "2                               29149  \n",
       "3                                4311  \n",
       "4                                9040  "
      ]
     },
     "execution_count": 15,
     "metadata": {},
     "output_type": "execute_result"
    }
   ],
   "source": [
    "data.head()"
   ]
  },
  {
   "cell_type": "code",
   "execution_count": 16,
   "metadata": {},
   "outputs": [
    {
     "name": "stdout",
     "output_type": "stream",
     "text": [
      "Total number of tokens before cleaning: 5558628\n",
      "Total number of tokens after cleaning: 4963088\n",
      "Percent of tokens that were removed: 10.713794842900086\n"
     ]
    }
   ],
   "source": [
    "print(f\"Total number of tokens before cleaning: {data['text_best_number_of_tokens'].sum()}\")\n",
    "print(f\"Total number of tokens after cleaning: {data['text_best_cleaned_number_of_tokens'].sum()}\")\n",
    "\n",
    "print(f\"Percent of tokens that were removed: {100 - (data['text_best_cleaned_number_of_tokens'].sum() / data['text_best_number_of_tokens'].sum()) * 100}\")"
   ]
  },
  {
   "cell_type": "markdown",
   "metadata": {},
   "source": [
    "Let's see how many documents still have a length longer than 4000 tokens after cleaning, which is the maximum number of tokens that the Davinci model from OpenAI can handle as input. Note that there are 609 documents in total."
   ]
  },
  {
   "cell_type": "code",
   "execution_count": 17,
   "metadata": {},
   "outputs": [
    {
     "data": {
      "text/plain": [
       "333"
      ]
     },
     "execution_count": 17,
     "metadata": {},
     "output_type": "execute_result"
    }
   ],
   "source": [
    "len(data[data[\"text_best_cleaned_number_of_tokens\"] > 4000])"
   ]
  },
  {
   "cell_type": "markdown",
   "metadata": {},
   "source": [
    "The situation looks even more dire when considering the limitation of GPT-NeoX which has a context length of 2048, meaning the total number of tokens (prompt + generated text) cannot exceed 2048. Assuming we keep about 148 tokens for the output, let's find how many documents are longer than 1900 tokens."
   ]
  },
  {
   "cell_type": "code",
   "execution_count": 18,
   "metadata": {},
   "outputs": [
    {
     "data": {
      "text/plain": [
       "416"
      ]
     },
     "execution_count": 18,
     "metadata": {},
     "output_type": "execute_result"
    }
   ],
   "source": [
    "len(data[data[\"text_best_cleaned_number_of_tokens\"] > 1900])"
   ]
  },
  {
   "cell_type": "code",
   "execution_count": 19,
   "metadata": {},
   "outputs": [
    {
     "data": {
      "text/html": [
       "<div>\n",
       "<style scoped>\n",
       "    .dataframe tbody tr th:only-of-type {\n",
       "        vertical-align: middle;\n",
       "    }\n",
       "\n",
       "    .dataframe tbody tr th {\n",
       "        vertical-align: top;\n",
       "    }\n",
       "\n",
       "    .dataframe thead th {\n",
       "        text-align: right;\n",
       "    }\n",
       "</style>\n",
       "<table border=\"1\" class=\"dataframe\">\n",
       "  <thead>\n",
       "    <tr style=\"text-align: right;\">\n",
       "      <th></th>\n",
       "      <th>filename</th>\n",
       "      <th>keys</th>\n",
       "      <th>text_best</th>\n",
       "      <th>text_best_number_of_tokens</th>\n",
       "      <th>text_best_cleaned</th>\n",
       "      <th>text_best_cleaned_number_of_tokens</th>\n",
       "    </tr>\n",
       "  </thead>\n",
       "  <tbody>\n",
       "    <tr>\n",
       "      <th>0</th>\n",
       "      <td>1ada336f29e8247f9f55a8d7e1b1c0da.pdf</td>\n",
       "      <td>address__post_town address__postcode address__...</td>\n",
       "      <td>Trustees’ annual report (including Directors’ ...</td>\n",
       "      <td>1728</td>\n",
       "      <td>Trustees’ annual report (including Directors’ ...</td>\n",
       "      <td>1497</td>\n",
       "    </tr>\n",
       "    <tr>\n",
       "      <th>1</th>\n",
       "      <td>87ff1046fb88668ed4e0476d66abd733.pdf</td>\n",
       "      <td>address__post_town address__postcode address__...</td>\n",
       "      <td>Havens\\nHospices\\nCompany number: 2805007\\nCha...</td>\n",
       "      <td>32898</td>\n",
       "      <td>Havens\\nHospices\\nCompany number: 2805007\\nCha...</td>\n",
       "      <td>29818</td>\n",
       "    </tr>\n",
       "    <tr>\n",
       "      <th>2</th>\n",
       "      <td>365a65c22610022110ca8610ecfe4034.pdf</td>\n",
       "      <td>address__post_town address__postcode address__...</td>\n",
       "      <td>ANNUAL REPORT AND\\nFINANCIAL STATEMENTS\\nFOR T...</td>\n",
       "      <td>32864</td>\n",
       "      <td>ANNUAL REPORT AND\\nFINANCIAL STATEMENTS\\nFOR T...</td>\n",
       "      <td>29149</td>\n",
       "    </tr>\n",
       "    <tr>\n",
       "      <th>3</th>\n",
       "      <td>d07c46323bb61186b6175bad9a274225.pdf</td>\n",
       "      <td>address__post_town address__postcode address__...</td>\n",
       "      <td>THE SANATA CHARITABLE TRUST\\nCompany Registrat...</td>\n",
       "      <td>4799</td>\n",
       "      <td>THE SANATA CHARITABLE TRUST\\nCompany Registrat...</td>\n",
       "      <td>4311</td>\n",
       "    </tr>\n",
       "    <tr>\n",
       "      <th>4</th>\n",
       "      <td>a84c1c7a3e570a716f6c61de557b5ff1.pdf</td>\n",
       "      <td>address__post_town address__postcode address__...</td>\n",
       "      <td>Cantate Youth Choir Trustees’ report for 2014\\...</td>\n",
       "      <td>9898</td>\n",
       "      <td>Cantate Youth Choir Trustees’ report for 2014\\...</td>\n",
       "      <td>9040</td>\n",
       "    </tr>\n",
       "  </tbody>\n",
       "</table>\n",
       "</div>"
      ],
      "text/plain": [
       "0                              filename  \\\n",
       "0  1ada336f29e8247f9f55a8d7e1b1c0da.pdf   \n",
       "1  87ff1046fb88668ed4e0476d66abd733.pdf   \n",
       "2  365a65c22610022110ca8610ecfe4034.pdf   \n",
       "3  d07c46323bb61186b6175bad9a274225.pdf   \n",
       "4  a84c1c7a3e570a716f6c61de557b5ff1.pdf   \n",
       "\n",
       "0                                               keys  \\\n",
       "0  address__post_town address__postcode address__...   \n",
       "1  address__post_town address__postcode address__...   \n",
       "2  address__post_town address__postcode address__...   \n",
       "3  address__post_town address__postcode address__...   \n",
       "4  address__post_town address__postcode address__...   \n",
       "\n",
       "0                                          text_best  \\\n",
       "0  Trustees’ annual report (including Directors’ ...   \n",
       "1  Havens\\nHospices\\nCompany number: 2805007\\nCha...   \n",
       "2  ANNUAL REPORT AND\\nFINANCIAL STATEMENTS\\nFOR T...   \n",
       "3  THE SANATA CHARITABLE TRUST\\nCompany Registrat...   \n",
       "4  Cantate Youth Choir Trustees’ report for 2014\\...   \n",
       "\n",
       "0  text_best_number_of_tokens  \\\n",
       "0                        1728   \n",
       "1                       32898   \n",
       "2                       32864   \n",
       "3                        4799   \n",
       "4                        9898   \n",
       "\n",
       "0                                  text_best_cleaned  \\\n",
       "0  Trustees’ annual report (including Directors’ ...   \n",
       "1  Havens\\nHospices\\nCompany number: 2805007\\nCha...   \n",
       "2  ANNUAL REPORT AND\\nFINANCIAL STATEMENTS\\nFOR T...   \n",
       "3  THE SANATA CHARITABLE TRUST\\nCompany Registrat...   \n",
       "4  Cantate Youth Choir Trustees’ report for 2014\\...   \n",
       "\n",
       "0  text_best_cleaned_number_of_tokens  \n",
       "0                                1497  \n",
       "1                               29818  \n",
       "2                               29149  \n",
       "3                                4311  \n",
       "4                                9040  "
      ]
     },
     "execution_count": 19,
     "metadata": {},
     "output_type": "execute_result"
    }
   ],
   "source": [
    "data.head()"
   ]
  },
  {
   "cell_type": "code",
   "execution_count": 20,
   "metadata": {},
   "outputs": [],
   "source": [
    "data.to_csv(\"./datasets/kleister_charity/dev-0/in_extended.tsv\", sep=\"\\t\", index=False)"
   ]
  },
  {
   "cell_type": "code",
   "execution_count": 21,
   "metadata": {},
   "outputs": [
    {
     "data": {
      "text/html": [
       "<div>\n",
       "<style scoped>\n",
       "    .dataframe tbody tr th:only-of-type {\n",
       "        vertical-align: middle;\n",
       "    }\n",
       "\n",
       "    .dataframe tbody tr th {\n",
       "        vertical-align: top;\n",
       "    }\n",
       "\n",
       "    .dataframe thead th {\n",
       "        text-align: right;\n",
       "    }\n",
       "</style>\n",
       "<table border=\"1\" class=\"dataframe\">\n",
       "  <thead>\n",
       "    <tr style=\"text-align: right;\">\n",
       "      <th></th>\n",
       "      <th>filename</th>\n",
       "      <th>keys</th>\n",
       "      <th>text_best</th>\n",
       "      <th>text_best_number_of_tokens</th>\n",
       "      <th>text_best_cleaned</th>\n",
       "      <th>text_best_cleaned_number_of_tokens</th>\n",
       "    </tr>\n",
       "  </thead>\n",
       "  <tbody>\n",
       "    <tr>\n",
       "      <th>100</th>\n",
       "      <td>f348cae2e6348821995eeece5f8e9e78.pdf</td>\n",
       "      <td>address__post_town address__postcode address__...</td>\n",
       "      <td>LIGHTHOUSE GLOBAL NETWORK\\nCHARITY NO 1163804\\...</td>\n",
       "      <td>288</td>\n",
       "      <td>LIGHTHOUSE GLOBAL NETWORK\\nCHARITY NO 1163804\\...</td>\n",
       "      <td>264</td>\n",
       "    </tr>\n",
       "    <tr>\n",
       "      <th>204</th>\n",
       "      <td>739a949f270ce086a67caf4b883f7128.pdf</td>\n",
       "      <td>address__post_town address__postcode address__...</td>\n",
       "      <td>~\\nComposition and Structure of the Management...</td>\n",
       "      <td>1112</td>\n",
       "      <td>~\\nComposition and Structure of the Management...</td>\n",
       "      <td>954</td>\n",
       "    </tr>\n",
       "    <tr>\n",
       "      <th>232</th>\n",
       "      <td>bcd1190e3466f2c2b3d6353e1577ce11.pdf</td>\n",
       "      <td>address__post_town address__postcode address__...</td>\n",
       "      <td>INCOME\\nDonations\\n615.35\\nTop ups\\n2651.12\\nG...</td>\n",
       "      <td>1131</td>\n",
       "      <td>INCOME\\nDonations\\n615.35\\nTop ups\\n2651.12\\nG...</td>\n",
       "      <td>1026</td>\n",
       "    </tr>\n",
       "    <tr>\n",
       "      <th>323</th>\n",
       "      <td>f9db3a1216d00fa9c594c33ddcaf9bfc.pdf</td>\n",
       "      <td>address__post_town address__postcode address__...</td>\n",
       "      <td>LIGHTHOUSE GLOBAL NETWORK\\nCHARITY NO 1163804\\...</td>\n",
       "      <td>1135</td>\n",
       "      <td>LIGHTHOUSE GLOBAL NETWORK\\nCHARITY NO 1163804\\...</td>\n",
       "      <td>1034</td>\n",
       "    </tr>\n",
       "    <tr>\n",
       "      <th>358</th>\n",
       "      <td>1989c371886aea0f19b02d4eba507e25.pdf</td>\n",
       "      <td>address__post_town address__postcode address__...</td>\n",
       "      <td>UNAUDITED FINANCIAL STATEMENTS\\nFOR THE YEAR E...</td>\n",
       "      <td>1375</td>\n",
       "      <td>UNAUDITED FINANCIAL STATEMENTS\\nFOR THE YEAR E...</td>\n",
       "      <td>1147</td>\n",
       "    </tr>\n",
       "  </tbody>\n",
       "</table>\n",
       "</div>"
      ],
      "text/plain": [
       "0                                filename  \\\n",
       "100  f348cae2e6348821995eeece5f8e9e78.pdf   \n",
       "204  739a949f270ce086a67caf4b883f7128.pdf   \n",
       "232  bcd1190e3466f2c2b3d6353e1577ce11.pdf   \n",
       "323  f9db3a1216d00fa9c594c33ddcaf9bfc.pdf   \n",
       "358  1989c371886aea0f19b02d4eba507e25.pdf   \n",
       "\n",
       "0                                                 keys  \\\n",
       "100  address__post_town address__postcode address__...   \n",
       "204  address__post_town address__postcode address__...   \n",
       "232  address__post_town address__postcode address__...   \n",
       "323  address__post_town address__postcode address__...   \n",
       "358  address__post_town address__postcode address__...   \n",
       "\n",
       "0                                            text_best  \\\n",
       "100  LIGHTHOUSE GLOBAL NETWORK\\nCHARITY NO 1163804\\...   \n",
       "204  ~\\nComposition and Structure of the Management...   \n",
       "232  INCOME\\nDonations\\n615.35\\nTop ups\\n2651.12\\nG...   \n",
       "323  LIGHTHOUSE GLOBAL NETWORK\\nCHARITY NO 1163804\\...   \n",
       "358  UNAUDITED FINANCIAL STATEMENTS\\nFOR THE YEAR E...   \n",
       "\n",
       "0    text_best_number_of_tokens  \\\n",
       "100                         288   \n",
       "204                        1112   \n",
       "232                        1131   \n",
       "323                        1135   \n",
       "358                        1375   \n",
       "\n",
       "0                                    text_best_cleaned  \\\n",
       "100  LIGHTHOUSE GLOBAL NETWORK\\nCHARITY NO 1163804\\...   \n",
       "204  ~\\nComposition and Structure of the Management...   \n",
       "232  INCOME\\nDonations\\n615.35\\nTop ups\\n2651.12\\nG...   \n",
       "323  LIGHTHOUSE GLOBAL NETWORK\\nCHARITY NO 1163804\\...   \n",
       "358  UNAUDITED FINANCIAL STATEMENTS\\nFOR THE YEAR E...   \n",
       "\n",
       "0    text_best_cleaned_number_of_tokens  \n",
       "100                                 264  \n",
       "204                                 954  \n",
       "232                                1026  \n",
       "323                                1034  \n",
       "358                                1147  "
      ]
     },
     "execution_count": 21,
     "metadata": {},
     "output_type": "execute_result"
    }
   ],
   "source": [
    "# sort data by text_best_cleaned_number_of_tokens (ascending)\n",
    "data = data.sort_values(by=\"text_best_cleaned_number_of_tokens\", ascending=True)\n",
    "data.head()"
   ]
  },
  {
   "cell_type": "code",
   "execution_count": 22,
   "metadata": {},
   "outputs": [
    {
     "name": "stdout",
     "output_type": "stream",
     "text": [
      "LIGHTHOUSE GLOBAL NETWORK\n",
      "CHARITY NO 1163804\n",
      "TRUSTEES REPORT AND FINANCIAL STATEMENT\n",
      "FOR THE PERIOD ENDED\n",
      "31 MAY 2016\n",
      "LIGHTHOUSE GLOBAL NETWORK\n",
      "LEGAL AND ADMINISTRATIVE DETAILS\n",
      "FOR THE PERIOD ENDED 31 MAY 2016\n",
      "Trustees:\n",
      "Mr Oluwasegun Julius Eniolu\n",
      "Mrs Mary Eniolu\n",
      "Mr Samuel Tsaurai Katanda\n",
      "Correspondence Address:\n",
      "5A Tonbridge Road\n",
      "Maidstone\n",
      "Kent\n",
      "ME16 8RL\n",
      "Charity Registration No:\n",
      "1163804\n",
      "For the Period ending 31 May 2016, the Charity was not trading. The Charity started trading on 7\n",
      "September 2016.\n",
      "The trustees are responsible for keeping proper accounting records which disclose with reasonable accuracy at\n",
      "any time the financial position of the charity at that time and to enable the trustees to ensure that any statement of\n",
      "account prepared by them. The Trustees will submit Annual Return and Accounts covering the period\n",
      "from the trading date of 07 September 2016 to the following accounting date as and when it falls due.\n",
      "Signed on behalf of th\n",
      "es of Lighthouse Global Network\n",
      "Mary Eniolu\n",
      "Date: 30 April 2018\n"
     ]
    }
   ],
   "source": [
    "# get text_best_cleaned of the shortest document\n",
    "shortest = data.iloc[0][\"text_best_cleaned\"]\n",
    "print(shortest)"
   ]
  }
 ],
 "metadata": {
  "kernelspec": {
   "display_name": "Python 3.8.5 ('uni-kie-JrmAaldC-py3.8')",
   "language": "python",
   "name": "python3"
  },
  "language_info": {
   "codemirror_mode": {
    "name": "ipython",
    "version": 3
   },
   "file_extension": ".py",
   "mimetype": "text/x-python",
   "name": "python",
   "nbconvert_exporter": "python",
   "pygments_lexer": "ipython3",
   "version": "3.8.5"
  },
  "vscode": {
   "interpreter": {
    "hash": "cec8707b55c29234c829cd46c92f0adfa2b741d49905cfffb1cd22fea1c1c224"
   }
  }
 },
 "nbformat": 4,
 "nbformat_minor": 0
}
