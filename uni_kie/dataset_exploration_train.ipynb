{
 "cells": [
  {
   "cell_type": "code",
   "execution_count": 1,
   "metadata": {
    "collapsed": false
   },
   "outputs": [],
   "source": [
    "import pandas as pd\n",
    "import numpy as np\n",
    "import matplotlib.pyplot as plt\n",
    "from transformers import GPT2TokenizerFast\n",
    "import seaborn as sns"
   ]
  },
  {
   "cell_type": "code",
   "execution_count": 2,
   "metadata": {},
   "outputs": [],
   "source": [
    "tokenizer = GPT2TokenizerFast.from_pretrained(\"gpt2\") # this is the same tokenizer that openai uses for their instructGPT model family"
   ]
  },
  {
   "cell_type": "code",
   "execution_count": 3,
   "metadata": {
    "collapsed": true
   },
   "outputs": [
    {
     "data": {
      "text/plain": [
       "\"TAR\\\\n1\\\\nAugust 2016\\\\nTrustees' Annual Report for the period\\\\nFrom\\\\nPeriod start date\\\\nTo\\\\nPeriod end date\\\\n30\\\\n04\\\\n2015\\\\n29\\\\n04\\\\n2016\\\\nSection A\\\\nReference and administration details\\\\nCharity name\\\\nPC Nicola Hughes Memorial Fund\\\\nOther names charity is known by\\\\nRegistered charity number (if any) 1156398\\\\nCharity's principal address Unit 1, Block B, Gatehead business Park\\\\nDelph New Road\\\\nOldham\\\\nPostcode\\\\nOL3 5DE\\\\nNames of the charity trustees who manage the charity\\\\nTrustee name\\\\nOffice (if any)\\\\nDates acted if not for whole\\\\nyear\\\\nName of person (or body) entitled\\\\nto appoint trustee (if any)\\\\n1 Bryndon Hughes Chair\\\\n2\\\\n3\\\\n4\\\\n5\\\\n6\\\\n7\\\\n8\\\\n9\\\\n10\\\\n11\\\\n12\\\\n13\\\\n14\\\\n15\\\\n16\\\\n17\\\\nNames of the trustees for the charity, if any, (for example, any custodian trustees)\\\\nName\\\\nDates acted if not for whole year\\\\nRichard Bartlett\\\\nMark Brook\\\\nTAR\\\\n2\\\\nAugust 2016\\\\nNames and addresses of advisers (Optional information)\\\\nType of adviser\\\\nName\\\\nAddress\\\\nLegal Advisor\\\\nJohn Ainley\\\\nNorth Ainley Halliwell Solicitors, Clegg St, Oldham, OL1 1PS\\\\nAccountant\\\\nDavid Richardson\\\\nRichardson Accountancy\\\\nName of chief executive or names of senior staff members (Optional information)\\\\nBryndon Hughes\\\\nSection B\\\\nStructure, governance and management\\\\nDescription of the charity’s trusts\\\\nType of governing document\\\\n(eg. trust deed, constitution)\\\\nConstitution.\\\\nHow the charity is constituted\\\\n(eg. trust, association, company)\\\\nCharitable Incorporated organisation.\\\\nTrustee selection methods\\\\n(eg. appointed by, elected by)\\\\nNominated and elected by vote from advisory body.\\\\nAdditional governance issues (Optional information)\\\\nYou may choose to include\\\\nadditional information, where\\\\nrelevant, about:\\\\n• policies and procedures\\\\nadopted for the induction and\\\\ntraining of trustees;\\\\n• the charity’s organisational\\\\nstructure and any wider\\\\nnetwork with which the charity\\\\nworks;\\\\n• relationship with any related\\\\nparties;\\\\n• trustees’ consideration of\\\\nmajor risks and the system\\\\nand procedures to manage\\\\nthem.\\\\nPolicies:\\\\n➢ Sustainability policy (In progress)\\\\n➢ Data protection policy. (In progress)\\\\n➢ Fundraising strategy policy. (In progress)\\\\n➢ Safeguarding policy\\\\nGuidance:\\\\n➢ CC guidance issued to all trustees upon appointment.\\\\nOrganisational Structure:\\\\n➢ Three Trustees (one of which is Charity Manager).\\\\n➢ Charity Advisory panel.\\\\n➢ Admin Officer (Part Time)\\\\n➢ Accountant\\\\nRelated parties:\\\\n➢ Ongoing joint venture with the National Homicide Service funding a\\\\nmajor project for approximately £40,000\\\\nSection C\\\\nObjectives and activities\\\\nTAR\\\\n3\\\\nAugust 2016\\\\nSummary of the objects of the\\\\ncharity set out in its\\\\ngoverning document\\\\nThe aims & objectives of the PC Nicola Hughes Memorial Fund are to\\\\nalleviate poverty or hardship experienced by children and young people\\\\nwho have suffered the effects of losing a close family member (Parent or\\\\nSibling) through a violent act such as murder or manslaughter.\\\\nPractical assistance will be given through the provision of goods or\\\\nservices that would help in the continuance of education, the\\\\nenhancement of further education or increasing the possibilities of\\\\nsecuring employment.\\\\nSummary of the main\\\\nactivities undertaken for the\\\\npublic benefit in relation to\\\\nthese objects (include within\\\\nthis section the statutory\\\\ndeclaration that trustees have\\\\nhad regard to the guidance\\\\nissued by the Charity\\\\nCommission on public\\\\nbenefit)\\\\nSupport Given\\\\n➢ Funded an extensive course of equine therapy for a number of\\\\nchildren in Devon.\\\\n➢ Provided four years funding for martial arts lessons for a referral.\\\\n➢ Funded 12 months school uniform from a referral.\\\\nOngoing Projects\\\\n➢ Funding of a joint venture with the National Homicide Service to\\\\nprovide a pilot project for the treatment of children suffering the\\\\neffects of PTSD following the murder of a parent. Approximately\\\\n£40,000.00\\\\n➢ Run to Remember to establish a network of EMDR therapy\\\\nproviders, approx. £36,000.00\\\\nWe confirm that trustees have had regard to the Charity Commission’s\\\\nguidance on public benefit.\\\\nAdditional details of objectives and activities (Optional information)\\\\nTAR\\\\n4\\\\nAugust 2016\\\\nYou may choose to include\\\\nfurther statements, where\\\\nrelevant, about:\\\\n• policy on grantmaking;\\\\n• policy programme related\\\\ninvestment;\\\\n• contribution made by\\\\nvolunteers.\\\\nAssistance is provided in the form of securing goods and or services\\\\nrather than issuing grants to individuals.\\\\nNo investments have been made by the Fund.\\\\nGrant making criteria remains the same.\\\\nLarge number of volunteers still remain active in their fundraising efforts.\\\\n36 Volunteers fundraised during their recent New York marathon to\\\\nsupport the PTSD project with the National Homicide Service.\\\\nOur fundraising targets this financial year are focused on providing major\\\\nfunding for two projects at an estimated cost of £76,000.00\\\\nThis remains on target and will see joint partnerships for future projects.\\\\nSection D\\\\nAchievements and performance\\\\nTAR\\\\n5\\\\nAugust 2016\\\\nSection D\\\\nAchievements and performance\\\\nSummary of the main\\\\nachievements of the charity\\\\nduring the year\\\\nDuring the financial year for which this report refers to the charity has\\\\ngained National publicity through the Chair , Bryn Hughes, entering the\\\\nNew York Marathon, this engaged audiences nationwide with\\\\nappearances on BBC & ITV news channels.\\\\nThe publication of the book entitled ‘Extraordinary Sacrifice’ will see\\\\nprofits being donated to the fund.\\\\nAnnual Run to Remember challenge will fund a network of therapy\\\\nproviders for children suffering from PTSD.\\\\nIncreased number of referrals due to more awareness through FLO\\\\nconferences.\\\\nCCXX R1 accounts (SS)\\\\n1\\\\n26/06/17\\\\nSection A Receipts and payments\\\\nUnrestricted\\\\nfunds\\\\nRestricted funds\\\\nEndowment\\\\nfunds\\\\nTotal funds\\\\nLast year\\\\nto the nearest £\\\\nto the nearest £\\\\nto the nearest £\\\\nto the nearest £\\\\nto the nearest £\\\\nA1 Receipts\\\\nDonations\\\\n103,373\\\\n-\\\\n-\\\\n103,373\\\\n-\\\\n-\\\\n-\\\\n-\\\\n-\\\\n-\\\\n-\\\\n-\\\\n-\\\\n-\\\\n-\\\\n-\\\\n-\\\\n-\\\\n-\\\\n-\\\\n-\\\\n-\\\\n-\\\\n-\\\\n-\\\\n-\\\\n-\\\\n-\\\\n-\\\\n-\\\\n-\\\\n-\\\\n-\\\\n-\\\\n-\\\\n-\\\\n-\\\\n-\\\\n-\\\\n-\\\\nSub total(Gross income for AR)\\\\n103,373\\\\n-\\\\n-\\\\n103,373\\\\n-\\\\nA2 Asset and investment sales,\\\\n(see table).\\\\n-\\\\n-\\\\n-\\\\n-\\\\n-\\\\n-\\\\n-\\\\n-\\\\n-\\\\nSub total\\\\n-\\\\n-\\\\n-\\\\n-\\\\n-\\\\nTotal receipts\\\\n103,373\\\\n-\\\\n-\\\\n103,373\\\\n-\\\\nA3 Payments\\\\nBank Charges\\\\n216\\\\n-\\\\n-\\\\n216\\\\n-\\\\nSalary\\\\n5,650\\\\n-\\\\n-\\\\n5,650\\\\n-\\\\nTravel Expenses\\\\n2,490\\\\n-\\\\n-\\\\n2,490\\\\n-\\\\nAdvertising/Publishing\\\\n6,222\\\\n-\\\\n-\\\\n6,222\\\\n-\\\\nRent\\\\n3,869\\\\n-\\\\n-\\\\n3,869\\\\n-\\\\nDonations Paid\\\\n849\\\\n-\\\\n-\\\\n849\\\\n-\\\\nEvents\\\\n22,130\\\\n-\\\\n-\\\\n22,130\\\\n-\\\\nSundry\\\\n771\\\\n-\\\\n-\\\\n771\\\\n-\\\\nDonation Refunds\\\\n1,300\\\\n-\\\\n-\\\\n1,300\\\\n-\\\\nSub total\\\\n43,497\\\\n-\\\\n-\\\\n43,497\\\\n-\\\\nA4 Asset and investment\\\\npurchases, (see table)\\\\n-\\\\n-\\\\n-\\\\n-\\\\n-\\\\n-\\\\n-\\\\n-\\\\nSub total\\\\n-\\\\n-\\\\n-\\\\n-\\\\n-\\\\nTotal payments\\\\n43,497\\\\n-\\\\n-\\\\n43,497\\\\n-\\\\nNet of receipts/(payments)\\\\n59,876\\\\n-\\\\n-\\\\n59,876\\\\n-\\\\nA5 Transfers between funds\\\\n-\\\\n-\\\\n-\\\\n-\\\\n-\\\\nA6 Cash funds last year end\\\\n179,418\\\\n-\\\\n-\\\\n179,418\\\\n-\\\\nCash funds this year end\\\\n239,294\\\\n-\\\\n-\\\\n239,294\\\\n-\\\\nCC16a\\\\n1156398\\\\nPC Nicola Hughes Memorial Fund\\\\nReceipts and payments accounts\\\\n30-Apr-15\\\\n29-Apr-16\\\\nTo\\\\nFor the period\\\\nfrom\\\\nCCXX R2 accounts (SS)\\\\n2\\\\n26/06/17\\\\nSection B Statement of assets and liabilities at the end of the period\\\\nCategories\\\\nUnrestricted\\\\nfunds\\\\nRestricted funds\\\\nEndowment\\\\nfunds\\\\nto nearest £\\\\nto nearest £\\\\nto nearest £\\\\n229,386\\\\n-\\\\n-\\\\n9\\\\n-\\\\n-\\\\n9,900\\\\n-\\\\n-\\\\n239,294\\\\n-\\\\n-\\\\nOK\\\\nOK\\\\nOK\\\\nUnrestricted\\\\nfunds\\\\nRestricted funds\\\\nEndowment\\\\nfunds\\\\nto nearest £\\\\nto nearest £\\\\nto nearest £\\\\n-\\\\n-\\\\n-\\\\n-\\\\n-\\\\n-\\\\n-\\\\n-\\\\n-\\\\n-\\\\n-\\\\n-\\\\n-\\\\n-\\\\n-\\\\n-\\\\n-\\\\n-\\\\nFund to which asset\\\\nbelongs\\\\nCost (optional)\\\\nCurrent value\\\\n(optional)\\\\n-\\\\n-\\\\n-\\\\n-\\\\n-\\\\n-\\\\n-\\\\n-\\\\n-\\\\n-\\\\nFund to which asset\\\\nbelongs\\\\nCost (optional)\\\\nCurrent value\\\\n(optional)\\\\n-\\\\n-\\\\n-\\\\n-\\\\n-\\\\n-\\\\n-\\\\n-\\\\n-\\\\n-\\\\n-\\\\n-\\\\n-\\\\n-\\\\n-\\\\n-\\\\n-\\\\n-\\\\nFund to which\\\\nliability relates\\\\nAmount due\\\\n(optional)\\\\nWhen due\\\\n(optional)\\\\n-\\\\n-\\\\n-\\\\n-\\\\n-\\\\nSigned by one or two trustees on behalf\\\\nof all the trustees\\\\nDate of approval\\\\nPrint Name\\\\nBryndon Hughes\\\\nRichard Bartlett\\\\nSignature\\\\nDetails\\\\nDetails\\\\nLloyds Bank Current Account\\\\nSantander Current Account\\\\nBarclays Current Account\\\\nB1 Cash funds\\\\nDetails\\\\nB2 Other monetary assets\\\\nDetails\\\\nTotal cash funds\\\\n(agree balances with receipts and payments\\\\naccount(s))\\\\nB4 Assets retained for the\\\\ncharity’s own use\\\\nB5 Liabilities\\\\nB3 Investment assets\\\\nDetails\\\\nIER\\\\nMarch 2012\\\\n1\\\\nIndependent examiner's report on the\\\\naccounts\\\\nSection A\\\\nIndependent Examiner’s Report\\\\nReport to the trustees/\\\\nmembers of\\\\nCharity Name\\\\nPC NICOLA HUGHES MEMORIAL FUND\\\\nOn accounts for the\\\\nyear ended\\\\n29 Apr 2016\\\\nCharity\\\\nno (if any)\\\\n1156398\\\\nSet out on pages 01-02\\\\n(remember to include the page numbers of additional sheets)\\\\nRespective\\\\nresponsibilities of\\\\ntrustees and examiner\\\\nThe charity's trustees are responsible for the preparation of the accounts.\\\\nThe charity’s trustees consider that an audit is not required for this year\\\\nunder section 144 of the Charities Act 2011 (the Charities Act) and that\\\\nan independent examination is needed.\\\\nIt is my responsibility to:\\\\n•\\\\nexamine the accounts under section 145 of the Charities Act,\\\\n•\\\\nto follow the procedures laid down in the general Directions given by\\\\nthe Charity Commission (under section 145(5)(b) of the Charities Act,\\\\nand\\\\n•\\\\nto state whether particular matters have come to my attention.\\\\nBasis of independent\\\\nexaminer’s statement\\\\nMy examination was carried out in accordance with general Directions\\\\ngiven by the Charity Commission. An examination includes a review of\\\\nthe accounting records kept by the charity and a comparison of the\\\\naccounts presented with those records. It also includes consideration of\\\\nany unusual items or disclosures in the accounts, and seeking\\\\nexplanations from the trustees concerning any such matters. The\\\\nprocedures undertaken do not provide all the evidence that would be\\\\nrequired in an audit, and consequently no opinion is given as to whether\\\\nthe accounts present a ‘true and fair’ view and the report is limited to\\\\nthose matters set out in the statement below.\\\\nIndependent\\\\nexaminer's statement\\\\nIn connection with my examination, no matter has come to my attention\\\\n(other than that disclosed below *)\\\\n1. which gives me reasonable cause to believe that in, any material\\\\nrespect, the requirements:\\\\n•\\\\nto keep accounting records in accordance with section 130 of the\\\\nCharities Act; and\\\\n•\\\\nto prepare accounts which accord with the accounting records and\\\\ncomply with the accounting requirements of the Charities Act\\\\nhave not been met; or\\\\n2. to which, in my opinion, attention should be drawn in order to enable a\\\\nproper understanding of the accounts to be reached.\\\\n* Please delete the words in the brackets if they do not apply.\\\\nSigned:\\\\nDate: 24/08/2016\\\\nName: David Richardson\\\\nRelevant professional\\\\nqualification(s) or body\\\\n(if any):\\\\nICAEW\\\\nIER\\\\nMarch 2012\\\\n2\\\\nAddress: 22 The Paddocks,\\\\nHigh Roding, Dunmow, Essex\\\\nCM6 1NZ\\\\nSection B\\\\nDisclosure\\\\nOnly complete if the examiner needs to highlight material problems.\\\\nGive here brief details of\\\\nany items that the\\\\nexaminer wishes to\\\\ndisclose.\""
      ]
     },
     "execution_count": 3,
     "metadata": {},
     "output_type": "execute_result"
    }
   ],
   "source": [
    "path_to_data = \"./datasets/kleister_charity/train/in.tsv\"\n",
    "path_to_headers = \"./datasets/kleister_charity/in-header.tsv\"\n",
    "\n",
    "data = pd.read_csv(path_to_data, sep=\"\\t\", header=None)\n",
    "headers = pd.read_csv(path_to_headers, sep=\"\\t\", header=None)\n",
    "data.columns = headers.iloc[0]\n",
    "data = data.drop(columns=[\"text_djvu\", \"text_tesseract\", \"text_textract\"])\n",
    "data.iloc[0][\"text_best\"]"
   ]
  },
  {
   "cell_type": "code",
   "execution_count": 4,
   "metadata": {
    "collapsed": false
   },
   "outputs": [
    {
     "data": {
      "text/html": [
       "<div>\n",
       "<style scoped>\n",
       "    .dataframe tbody tr th:only-of-type {\n",
       "        vertical-align: middle;\n",
       "    }\n",
       "\n",
       "    .dataframe tbody tr th {\n",
       "        vertical-align: top;\n",
       "    }\n",
       "\n",
       "    .dataframe thead th {\n",
       "        text-align: right;\n",
       "    }\n",
       "</style>\n",
       "<table border=\"1\" class=\"dataframe\">\n",
       "  <thead>\n",
       "    <tr style=\"text-align: right;\">\n",
       "      <th></th>\n",
       "      <th>filename</th>\n",
       "      <th>keys</th>\n",
       "      <th>text_best</th>\n",
       "    </tr>\n",
       "  </thead>\n",
       "  <tbody>\n",
       "    <tr>\n",
       "      <th>0</th>\n",
       "      <td>008482cf51383c158b54e593cfa5fbf7.pdf</td>\n",
       "      <td>address__post_town address__postcode address__...</td>\n",
       "      <td>TAR\\n1\\nAugust 2016\\nTrustees' Annual Report f...</td>\n",
       "    </tr>\n",
       "    <tr>\n",
       "      <th>1</th>\n",
       "      <td>009fab39d746267b6de8428366fe4b02.pdf</td>\n",
       "      <td>address__post_town address__postcode address__...</td>\n",
       "      <td>\\n; Na {if anv)\\n{\\noA el\\nC 3 QIC [1€d C\\nf (...</td>\n",
       "    </tr>\n",
       "    <tr>\n",
       "      <th>2</th>\n",
       "      <td>01c7fd563327947c68abdd9717ef228d.pdf</td>\n",
       "      <td>address__post_town address__postcode address__...</td>\n",
       "      <td>54 S ke *\\nB\\n \\nWelcome to our Annual\\nReport...</td>\n",
       "    </tr>\n",
       "    <tr>\n",
       "      <th>3</th>\n",
       "      <td>01d804edf76bec4912d2466908a60889.pdf</td>\n",
       "      <td>address__post_town address__postcode address__...</td>\n",
       "      <td>Annual Repor t 8\\nAccounts 2017/18\\nYear ended...</td>\n",
       "    </tr>\n",
       "    <tr>\n",
       "      <th>4</th>\n",
       "      <td>01e4461b059e707b7d8276b3d2b80b71.pdf</td>\n",
       "      <td>address__post_town address__postcode address__...</td>\n",
       "      <td>The Greenway Centre\\n(Registered charity, numb...</td>\n",
       "    </tr>\n",
       "  </tbody>\n",
       "</table>\n",
       "</div>"
      ],
      "text/plain": [
       "0                              filename  \\\n",
       "0  008482cf51383c158b54e593cfa5fbf7.pdf   \n",
       "1  009fab39d746267b6de8428366fe4b02.pdf   \n",
       "2  01c7fd563327947c68abdd9717ef228d.pdf   \n",
       "3  01d804edf76bec4912d2466908a60889.pdf   \n",
       "4  01e4461b059e707b7d8276b3d2b80b71.pdf   \n",
       "\n",
       "0                                               keys  \\\n",
       "0  address__post_town address__postcode address__...   \n",
       "1  address__post_town address__postcode address__...   \n",
       "2  address__post_town address__postcode address__...   \n",
       "3  address__post_town address__postcode address__...   \n",
       "4  address__post_town address__postcode address__...   \n",
       "\n",
       "0                                          text_best  \n",
       "0  TAR\\n1\\nAugust 2016\\nTrustees' Annual Report f...  \n",
       "1  \\n; Na {if anv)\\n{\\noA el\\nC 3 QIC [1€d C\\nf (...  \n",
       "2  54 S ke *\\nB\\n \\nWelcome to our Annual\\nReport...  \n",
       "3  Annual Repor t 8\\nAccounts 2017/18\\nYear ended...  \n",
       "4  The Greenway Centre\\n(Registered charity, numb...  "
      ]
     },
     "execution_count": 4,
     "metadata": {},
     "output_type": "execute_result"
    }
   ],
   "source": [
    "data.head()"
   ]
  },
  {
   "cell_type": "code",
   "execution_count": 5,
   "metadata": {
    "collapsed": false
   },
   "outputs": [
    {
     "data": {
      "text/plain": [
       "1729"
      ]
     },
     "execution_count": 5,
     "metadata": {},
     "output_type": "execute_result"
    }
   ],
   "source": [
    "len(data)"
   ]
  },
  {
   "cell_type": "markdown",
   "metadata": {},
   "source": [
    "Let's look at the gold keys that we should find in any given document. Although note that some documents don't contain answers to all of the keys, in which case it's correct to simply leave them out."
   ]
  },
  {
   "cell_type": "code",
   "execution_count": 6,
   "metadata": {},
   "outputs": [
    {
     "data": {
      "text/plain": [
       "'address__post_town address__postcode address__street_line charity_name charity_number income_annually_in_british_pounds report_date spending_annually_in_british_pounds'"
      ]
     },
     "execution_count": 6,
     "metadata": {},
     "output_type": "execute_result"
    }
   ],
   "source": [
    "data.iloc[0][\"keys\"]"
   ]
  },
  {
   "cell_type": "markdown",
   "metadata": {},
   "source": [
    "Let's look at how many tokens are in a given document and save it in the dataframe."
   ]
  },
  {
   "cell_type": "code",
   "execution_count": 7,
   "metadata": {},
   "outputs": [
    {
     "name": "stderr",
     "output_type": "stream",
     "text": [
      "Token indices sequence length is longer than the specified maximum sequence length for this model (3545 > 1024). Running this sequence through the model will result in indexing errors\n"
     ]
    }
   ],
   "source": [
    "data[\"text_best_number_of_tokens\"] = data[\"text_best\"].apply(lambda x: len(tokenizer(x)[\"input_ids\"]))"
   ]
  },
  {
   "cell_type": "code",
   "execution_count": 8,
   "metadata": {},
   "outputs": [
    {
     "data": {
      "text/html": [
       "<div>\n",
       "<style scoped>\n",
       "    .dataframe tbody tr th:only-of-type {\n",
       "        vertical-align: middle;\n",
       "    }\n",
       "\n",
       "    .dataframe tbody tr th {\n",
       "        vertical-align: top;\n",
       "    }\n",
       "\n",
       "    .dataframe thead th {\n",
       "        text-align: right;\n",
       "    }\n",
       "</style>\n",
       "<table border=\"1\" class=\"dataframe\">\n",
       "  <thead>\n",
       "    <tr style=\"text-align: right;\">\n",
       "      <th></th>\n",
       "      <th>filename</th>\n",
       "      <th>keys</th>\n",
       "      <th>text_best</th>\n",
       "      <th>text_best_number_of_tokens</th>\n",
       "    </tr>\n",
       "  </thead>\n",
       "  <tbody>\n",
       "    <tr>\n",
       "      <th>0</th>\n",
       "      <td>008482cf51383c158b54e593cfa5fbf7.pdf</td>\n",
       "      <td>address__post_town address__postcode address__...</td>\n",
       "      <td>TAR\\n1\\nAugust 2016\\nTrustees' Annual Report f...</td>\n",
       "      <td>3545</td>\n",
       "    </tr>\n",
       "    <tr>\n",
       "      <th>1</th>\n",
       "      <td>009fab39d746267b6de8428366fe4b02.pdf</td>\n",
       "      <td>address__post_town address__postcode address__...</td>\n",
       "      <td>\\n; Na {if anv)\\n{\\noA el\\nC 3 QIC [1€d C\\nf (...</td>\n",
       "      <td>1799</td>\n",
       "    </tr>\n",
       "    <tr>\n",
       "      <th>2</th>\n",
       "      <td>01c7fd563327947c68abdd9717ef228d.pdf</td>\n",
       "      <td>address__post_town address__postcode address__...</td>\n",
       "      <td>54 S ke *\\nB\\n \\nWelcome to our Annual\\nReport...</td>\n",
       "      <td>31931</td>\n",
       "    </tr>\n",
       "    <tr>\n",
       "      <th>3</th>\n",
       "      <td>01d804edf76bec4912d2466908a60889.pdf</td>\n",
       "      <td>address__post_town address__postcode address__...</td>\n",
       "      <td>Annual Repor t 8\\nAccounts 2017/18\\nYear ended...</td>\n",
       "      <td>45313</td>\n",
       "    </tr>\n",
       "    <tr>\n",
       "      <th>4</th>\n",
       "      <td>01e4461b059e707b7d8276b3d2b80b71.pdf</td>\n",
       "      <td>address__post_town address__postcode address__...</td>\n",
       "      <td>The Greenway Centre\\n(Registered charity, numb...</td>\n",
       "      <td>2896</td>\n",
       "    </tr>\n",
       "  </tbody>\n",
       "</table>\n",
       "</div>"
      ],
      "text/plain": [
       "0                              filename  \\\n",
       "0  008482cf51383c158b54e593cfa5fbf7.pdf   \n",
       "1  009fab39d746267b6de8428366fe4b02.pdf   \n",
       "2  01c7fd563327947c68abdd9717ef228d.pdf   \n",
       "3  01d804edf76bec4912d2466908a60889.pdf   \n",
       "4  01e4461b059e707b7d8276b3d2b80b71.pdf   \n",
       "\n",
       "0                                               keys  \\\n",
       "0  address__post_town address__postcode address__...   \n",
       "1  address__post_town address__postcode address__...   \n",
       "2  address__post_town address__postcode address__...   \n",
       "3  address__post_town address__postcode address__...   \n",
       "4  address__post_town address__postcode address__...   \n",
       "\n",
       "0                                          text_best  \\\n",
       "0  TAR\\n1\\nAugust 2016\\nTrustees' Annual Report f...   \n",
       "1  \\n; Na {if anv)\\n{\\noA el\\nC 3 QIC [1€d C\\nf (...   \n",
       "2  54 S ke *\\nB\\n \\nWelcome to our Annual\\nReport...   \n",
       "3  Annual Repor t 8\\nAccounts 2017/18\\nYear ended...   \n",
       "4  The Greenway Centre\\n(Registered charity, numb...   \n",
       "\n",
       "0  text_best_number_of_tokens  \n",
       "0                        3545  \n",
       "1                        1799  \n",
       "2                       31931  \n",
       "3                       45313  \n",
       "4                        2896  "
      ]
     },
     "execution_count": 8,
     "metadata": {},
     "output_type": "execute_result"
    }
   ],
   "source": [
    "data.head()"
   ]
  },
  {
   "cell_type": "code",
   "execution_count": 9,
   "metadata": {},
   "outputs": [
    {
     "data": {
      "text/plain": [
       "count     1729.000000\n",
       "mean     11057.423366\n",
       "std      10641.796009\n",
       "min        414.000000\n",
       "25%       3939.000000\n",
       "50%       6765.000000\n",
       "75%      14479.000000\n",
       "max      87904.000000\n",
       "Name: text_best_number_of_tokens, dtype: float64"
      ]
     },
     "execution_count": 9,
     "metadata": {},
     "output_type": "execute_result"
    }
   ],
   "source": [
    "data[\"text_best_number_of_tokens\"].describe()"
   ]
  },
  {
   "cell_type": "markdown",
   "metadata": {},
   "source": [
    "Let's look closer at the distribution of the number of tokens."
   ]
  },
  {
   "cell_type": "code",
   "execution_count": 25,
   "metadata": {},
   "outputs": [
    {
     "data": {
      "image/png": "[encoded data removed]",
      "text/plain": [
       "<Figure size 1000x600 with 1 Axes>"
      ]
     },
     "metadata": {},
     "output_type": "display_data"
    }
   ],
   "source": [
    "sns.set_style(\"whitegrid\")\n",
    "sns.set_context(\"paper\", font_scale=1.5)\n",
    "sns.set_palette(\"colorblind\")\n",
    "\n",
    "fig, ax = plt.subplots(figsize=(10, 6))\n",
    "sns.histplot(data=data, x=data[\"text_best_number_of_tokens\"], kde=True, ax=ax, bins=200)\n",
    "ax.set_title(\"Distribution of number of tokens (train set)\")\n",
    "ax.set_xlabel(\"Number of tokens\")\n",
    "ax.set_ylabel(\"Number of documents\")\n",
    "ax.axvline(data[\"text_best_number_of_tokens\"].mean(), color=\"red\", linestyle=\"--\", label=\"Mean\")\n",
    "ax.axvline(data[\"text_best_number_of_tokens\"].median(), color=\"green\", linestyle=\"--\", label=\"Median\")\n",
    "\n",
    "ax.legend()\n",
    "ax.set_xlim(0, 65000)\n",
    "\n",
    "plt.show()\n",
    "fig.savefig(\"plots/token_distribution_zoom_train.png\", dpi=300)"
   ]
  },
  {
   "cell_type": "markdown",
   "metadata": {},
   "source": [
    "Let's look at the shortest document to get a better idea of what the input text looks like."
   ]
  },
  {
   "cell_type": "code",
   "execution_count": 12,
   "metadata": {},
   "outputs": [
    {
     "data": {
      "text/plain": [
       "\"Ushaw Moor Pre-school/Childcare\\\\nDurham Road\\\\nUshaw Moor\\\\nDurham\\\\nDH7 7LF\\\\nTelephone 01913737536\\\\nAnnual General Meeting\\\\nOctober\\\\nAttending meeting: Catherine Winn, Julie Davison, Lindsley Davison, Deborah\\\\nMellis, Megan Bowery, Nikki Lowerson, Karen Smith, Janice Laight,\\\\nKayleigh Hughes, Abbie Syers\\\\nApologies from Lynsey Everett.\\\\nUp date on school situation:\\\\nMr Truman has left the school after a along absent, and a new head is now in\\\\nposition, Mrs Maughan has had a chat with Julie, and the girls from the pre-\\\\nschool are more optimistic with the future links between us. As the school have\\\\na new head they will be due an ofsted and Mrs Maughan has put this as her\\\\npriority but has already invited our children to attend their Christmas\\\\nactivities.\\\\nOther ideas included: Stay and play days, with parents and shared outdoor\\\\nactivities.\\\\nPre-School:\\\\nKaren reported the pre-school had now used up all their childcare spaces and\\\\nwould not be taking any September starters from the childcare setting. As the\\\\npre-school taking children doing 3o hours per week number of spaces were less.\\\\nJulie is concerned about turning these younger away may have a impact on next\\\\nyear's intake.\\\\nChildcare:\\\\nLindsley has concerns about the number of children using the childcare during\\\\nthe school holidays, as some days there are more staff than children. Catherine\\\\nreminded the staff that they should take their due holidays outside of term\\\\ntime when the numbers are low. It was agreed that we would monitor the\\\\nsituation and maybe change opening hours.\\\\nNext staff meeting to be arranged\\\\nAgenda: Christmas activities\""
      ]
     },
     "execution_count": 12,
     "metadata": {},
     "output_type": "execute_result"
    }
   ],
   "source": [
    "shortest = data[data[\"text_best\"].apply(lambda x: len(tokenizer(x)[\"input_ids\"])) == data[\"text_best_number_of_tokens\"].min()][\"text_best\"].values[0]\n",
    "shortest"
   ]
  },
  {
   "cell_type": "markdown",
   "metadata": {},
   "source": [
    "We can see that the text contains double escapes for the newline character, i.e. `\\\\n` instead of `\\n`. This also leads to the fact that the string is not represented correctly when printing it."
   ]
  },
  {
   "cell_type": "code",
   "execution_count": 13,
   "metadata": {},
   "outputs": [
    {
     "name": "stdout",
     "output_type": "stream",
     "text": [
      "Ushaw Moor Pre-school/Childcare\n",
      "Durham Road\n",
      "Ushaw Moor\n",
      "Durham\n",
      "DH7 7LF\n",
      "Telephone 01913737536\n",
      "Annual General Meeting\n",
      "October\n",
      "Attending meeting: Catherine Winn, Julie Davison, Lindsley Davison, Deborah\n",
      "Mellis, Megan Bowery, Nikki Lowerson, Karen Smith, Janice Laight,\n",
      "Kayleigh Hughes, Abbie Syers\n",
      "Apologies from Lynsey Everett.\n",
      "Up date on school situation:\n",
      "Mr Truman has left the school after a along absent, and a new head is now in\n",
      "position, Mrs Maughan has had a chat with Julie, and the girls from the pre-\n",
      "school are more optimistic with the future links between us. As the school have\n",
      "a new head they will be due an ofsted and Mrs Maughan has put this as her\n",
      "priority but has already invited our children to attend their Christmas\n",
      "activities.\n",
      "Other ideas included: Stay and play days, with parents and shared outdoor\n",
      "activities.\n",
      "Pre-School:\n",
      "Karen reported the pre-school had now used up all their childcare spaces and\n",
      "would not be taking any September starters from the childcare setting. As the\n",
      "pre-school taking children doing 3o hours per week number of spaces were less.\n",
      "Julie is concerned about turning these younger away may have a impact on next\n",
      "year's intake.\n",
      "Childcare:\n",
      "Lindsley has concerns about the number of children using the childcare during\n",
      "the school holidays, as some days there are more staff than children. Catherine\n",
      "reminded the staff that they should take their due holidays outside of term\n",
      "time when the numbers are low. It was agreed that we would monitor the\n",
      "situation and maybe change opening hours.\n",
      "Next staff meeting to be arranged\n",
      "Agenda: Christmas activities\n"
     ]
    }
   ],
   "source": [
    "shortest = shortest.replace(\"\\\\n\", \"\\n\")\n",
    "print(shortest)"
   ]
  },
  {
   "cell_type": "markdown",
   "metadata": {},
   "source": [
    "This looks much better. Let's do it for all rows and also for other control characters. Let's also remove redundant spaces."
   ]
  },
  {
   "cell_type": "code",
   "execution_count": 14,
   "metadata": {},
   "outputs": [],
   "source": [
    "data[\"text_best_cleaned\"] = data[\"text_best\"].apply(lambda x: x.replace(\"\\\\n\", \"\\n\").replace(\"\\\\t\", \"\\t\").replace(\"\\\\r\", \"\\r\").replace(\"\\\\\", \"\").replace(\"  \", \" \"))"
   ]
  },
  {
   "cell_type": "markdown",
   "metadata": {},
   "source": [
    "Let's also save the number of tokens of the cleaned text."
   ]
  },
  {
   "cell_type": "code",
   "execution_count": 15,
   "metadata": {},
   "outputs": [],
   "source": [
    "data[\"text_best_cleaned_number_of_tokens\"] = data[\"text_best_cleaned\"].apply(lambda x: len(tokenizer(x)[\"input_ids\"]))"
   ]
  },
  {
   "cell_type": "code",
   "execution_count": 16,
   "metadata": {},
   "outputs": [
    {
     "data": {
      "text/html": [
       "<div>\n",
       "<style scoped>\n",
       "    .dataframe tbody tr th:only-of-type {\n",
       "        vertical-align: middle;\n",
       "    }\n",
       "\n",
       "    .dataframe tbody tr th {\n",
       "        vertical-align: top;\n",
       "    }\n",
       "\n",
       "    .dataframe thead th {\n",
       "        text-align: right;\n",
       "    }\n",
       "</style>\n",
       "<table border=\"1\" class=\"dataframe\">\n",
       "  <thead>\n",
       "    <tr style=\"text-align: right;\">\n",
       "      <th></th>\n",
       "      <th>filename</th>\n",
       "      <th>keys</th>\n",
       "      <th>text_best</th>\n",
       "      <th>text_best_number_of_tokens</th>\n",
       "      <th>text_best_cleaned</th>\n",
       "      <th>text_best_cleaned_number_of_tokens</th>\n",
       "    </tr>\n",
       "  </thead>\n",
       "  <tbody>\n",
       "    <tr>\n",
       "      <th>0</th>\n",
       "      <td>008482cf51383c158b54e593cfa5fbf7.pdf</td>\n",
       "      <td>address__post_town address__postcode address__...</td>\n",
       "      <td>TAR\\n1\\nAugust 2016\\nTrustees' Annual Report f...</td>\n",
       "      <td>3545</td>\n",
       "      <td>TAR\\n1\\nAugust 2016\\nTrustees' Annual Report f...</td>\n",
       "      <td>2981</td>\n",
       "    </tr>\n",
       "    <tr>\n",
       "      <th>1</th>\n",
       "      <td>009fab39d746267b6de8428366fe4b02.pdf</td>\n",
       "      <td>address__post_town address__postcode address__...</td>\n",
       "      <td>\\n; Na {if anv)\\n{\\noA el\\nC 3 QIC [1€d C\\nf (...</td>\n",
       "      <td>1799</td>\n",
       "      <td>\\n; Na {if anv)\\n{\\noA el\\nC 3 QIC [1€d C\\nf (...</td>\n",
       "      <td>1662</td>\n",
       "    </tr>\n",
       "    <tr>\n",
       "      <th>2</th>\n",
       "      <td>01c7fd563327947c68abdd9717ef228d.pdf</td>\n",
       "      <td>address__post_town address__postcode address__...</td>\n",
       "      <td>54 S ke *\\nB\\n \\nWelcome to our Annual\\nReport...</td>\n",
       "      <td>31931</td>\n",
       "      <td>54 S ke *\\nB\\n \\nWelcome to our Annual\\nReport...</td>\n",
       "      <td>29323</td>\n",
       "    </tr>\n",
       "    <tr>\n",
       "      <th>3</th>\n",
       "      <td>01d804edf76bec4912d2466908a60889.pdf</td>\n",
       "      <td>address__post_town address__postcode address__...</td>\n",
       "      <td>Annual Repor t 8\\nAccounts 2017/18\\nYear ended...</td>\n",
       "      <td>45313</td>\n",
       "      <td>Annual Repor t 8\\nAccounts 2017/18\\nYear ended...</td>\n",
       "      <td>40977</td>\n",
       "    </tr>\n",
       "    <tr>\n",
       "      <th>4</th>\n",
       "      <td>01e4461b059e707b7d8276b3d2b80b71.pdf</td>\n",
       "      <td>address__post_town address__postcode address__...</td>\n",
       "      <td>The Greenway Centre\\n(Registered charity, numb...</td>\n",
       "      <td>2896</td>\n",
       "      <td>The Greenway Centre\\n(Registered charity, numb...</td>\n",
       "      <td>2483</td>\n",
       "    </tr>\n",
       "  </tbody>\n",
       "</table>\n",
       "</div>"
      ],
      "text/plain": [
       "0                              filename  \\\n",
       "0  008482cf51383c158b54e593cfa5fbf7.pdf   \n",
       "1  009fab39d746267b6de8428366fe4b02.pdf   \n",
       "2  01c7fd563327947c68abdd9717ef228d.pdf   \n",
       "3  01d804edf76bec4912d2466908a60889.pdf   \n",
       "4  01e4461b059e707b7d8276b3d2b80b71.pdf   \n",
       "\n",
       "0                                               keys  \\\n",
       "0  address__post_town address__postcode address__...   \n",
       "1  address__post_town address__postcode address__...   \n",
       "2  address__post_town address__postcode address__...   \n",
       "3  address__post_town address__postcode address__...   \n",
       "4  address__post_town address__postcode address__...   \n",
       "\n",
       "0                                          text_best  \\\n",
       "0  TAR\\n1\\nAugust 2016\\nTrustees' Annual Report f...   \n",
       "1  \\n; Na {if anv)\\n{\\noA el\\nC 3 QIC [1€d C\\nf (...   \n",
       "2  54 S ke *\\nB\\n \\nWelcome to our Annual\\nReport...   \n",
       "3  Annual Repor t 8\\nAccounts 2017/18\\nYear ended...   \n",
       "4  The Greenway Centre\\n(Registered charity, numb...   \n",
       "\n",
       "0  text_best_number_of_tokens  \\\n",
       "0                        3545   \n",
       "1                        1799   \n",
       "2                       31931   \n",
       "3                       45313   \n",
       "4                        2896   \n",
       "\n",
       "0                                  text_best_cleaned  \\\n",
       "0  TAR\\n1\\nAugust 2016\\nTrustees' Annual Report f...   \n",
       "1  \\n; Na {if anv)\\n{\\noA el\\nC 3 QIC [1€d C\\nf (...   \n",
       "2  54 S ke *\\nB\\n \\nWelcome to our Annual\\nReport...   \n",
       "3  Annual Repor t 8\\nAccounts 2017/18\\nYear ended...   \n",
       "4  The Greenway Centre\\n(Registered charity, numb...   \n",
       "\n",
       "0  text_best_cleaned_number_of_tokens  \n",
       "0                                2981  \n",
       "1                                1662  \n",
       "2                               29323  \n",
       "3                               40977  \n",
       "4                                2483  "
      ]
     },
     "execution_count": 16,
     "metadata": {},
     "output_type": "execute_result"
    }
   ],
   "source": [
    "data.head()"
   ]
  },
  {
   "cell_type": "code",
   "execution_count": 17,
   "metadata": {},
   "outputs": [
    {
     "name": "stdout",
     "output_type": "stream",
     "text": [
      "Total number of tokens before cleaning: 19118285\n",
      "Total number of tokens after cleaning: 17167496\n",
      "Percent of tokens that were removed: 10.20378658441382\n"
     ]
    }
   ],
   "source": [
    "print(f\"Total number of tokens before cleaning: {data['text_best_number_of_tokens'].sum()}\")\n",
    "print(f\"Total number of tokens after cleaning: {data['text_best_cleaned_number_of_tokens'].sum()}\")\n",
    "\n",
    "print(f\"Percent of tokens that were removed: {100 - (data['text_best_cleaned_number_of_tokens'].sum() / data['text_best_number_of_tokens'].sum()) * 100}\")"
   ]
  },
  {
   "cell_type": "markdown",
   "metadata": {},
   "source": [
    "Let's see how many documents still have a length longer than 4000 tokens after cleaning, which is the maximum number of tokens that the Davinci model from OpenAI can handle as input. Note that there are 609 documents in total."
   ]
  },
  {
   "cell_type": "code",
   "execution_count": 18,
   "metadata": {},
   "outputs": [
    {
     "data": {
      "text/plain": [
       "1189"
      ]
     },
     "execution_count": 18,
     "metadata": {},
     "output_type": "execute_result"
    }
   ],
   "source": [
    "len(data[data[\"text_best_cleaned_number_of_tokens\"] > 4000])"
   ]
  },
  {
   "cell_type": "markdown",
   "metadata": {},
   "source": [
    "The situation looks even more dire when considering the limitation of GPT-NeoX which has a context length of 2048, meaning the total number of tokens (prompt + generated text) cannot exceed 2048. Assuming we keep about 148 tokens for the output, let's find how many documents are longer than 1900 tokens."
   ]
  },
  {
   "cell_type": "code",
   "execution_count": 19,
   "metadata": {},
   "outputs": [
    {
     "data": {
      "text/plain": [
       "1621"
      ]
     },
     "execution_count": 19,
     "metadata": {},
     "output_type": "execute_result"
    }
   ],
   "source": [
    "len(data[data[\"text_best_cleaned_number_of_tokens\"] > 1900])"
   ]
  },
  {
   "cell_type": "code",
   "execution_count": 20,
   "metadata": {},
   "outputs": [],
   "source": [
    "# let's do some more cleaning\n",
    "\n",
    "# remove all newlines, tabs, etc\n",
    "data[\"text_best_cleaned_no_newlines\"] = data[\"text_best_cleaned\"].apply(lambda x: x.replace(\"\\n\", \" \").replace(\"\\t\", \" \").replace(\"\\r\", \" \"))"
   ]
  },
  {
   "cell_type": "code",
   "execution_count": 21,
   "metadata": {},
   "outputs": [
    {
     "data": {
      "text/html": [
       "<div>\n",
       "<style scoped>\n",
       "    .dataframe tbody tr th:only-of-type {\n",
       "        vertical-align: middle;\n",
       "    }\n",
       "\n",
       "    .dataframe tbody tr th {\n",
       "        vertical-align: top;\n",
       "    }\n",
       "\n",
       "    .dataframe thead th {\n",
       "        text-align: right;\n",
       "    }\n",
       "</style>\n",
       "<table border=\"1\" class=\"dataframe\">\n",
       "  <thead>\n",
       "    <tr style=\"text-align: right;\">\n",
       "      <th></th>\n",
       "      <th>filename</th>\n",
       "      <th>keys</th>\n",
       "      <th>text_best</th>\n",
       "      <th>text_best_number_of_tokens</th>\n",
       "      <th>text_best_cleaned</th>\n",
       "      <th>text_best_cleaned_number_of_tokens</th>\n",
       "      <th>text_best_cleaned_no_newlines</th>\n",
       "      <th>text_best_cleaned_no_newlines_number_of_tokens</th>\n",
       "    </tr>\n",
       "  </thead>\n",
       "  <tbody>\n",
       "    <tr>\n",
       "      <th>0</th>\n",
       "      <td>008482cf51383c158b54e593cfa5fbf7.pdf</td>\n",
       "      <td>address__post_town address__postcode address__...</td>\n",
       "      <td>TAR\\n1\\nAugust 2016\\nTrustees' Annual Report f...</td>\n",
       "      <td>3545</td>\n",
       "      <td>TAR\\n1\\nAugust 2016\\nTrustees' Annual Report f...</td>\n",
       "      <td>2981</td>\n",
       "      <td>TAR 1 August 2016 Trustees' Annual Report for ...</td>\n",
       "      <td>2285</td>\n",
       "    </tr>\n",
       "    <tr>\n",
       "      <th>1</th>\n",
       "      <td>009fab39d746267b6de8428366fe4b02.pdf</td>\n",
       "      <td>address__post_town address__postcode address__...</td>\n",
       "      <td>\\n; Na {if anv)\\n{\\noA el\\nC 3 QIC [1€d C\\nf (...</td>\n",
       "      <td>1799</td>\n",
       "      <td>\\n; Na {if anv)\\n{\\noA el\\nC 3 QIC [1€d C\\nf (...</td>\n",
       "      <td>1662</td>\n",
       "      <td>; Na {if anv) { oA el C 3 QIC [1€d C f (S ' R...</td>\n",
       "      <td>1491</td>\n",
       "    </tr>\n",
       "    <tr>\n",
       "      <th>2</th>\n",
       "      <td>01c7fd563327947c68abdd9717ef228d.pdf</td>\n",
       "      <td>address__post_town address__postcode address__...</td>\n",
       "      <td>54 S ke *\\nB\\n \\nWelcome to our Annual\\nReport...</td>\n",
       "      <td>31931</td>\n",
       "      <td>54 S ke *\\nB\\n \\nWelcome to our Annual\\nReport...</td>\n",
       "      <td>29323</td>\n",
       "      <td>54 S ke * B   Welcome to our Annual Report for...</td>\n",
       "      <td>25920</td>\n",
       "    </tr>\n",
       "    <tr>\n",
       "      <th>3</th>\n",
       "      <td>01d804edf76bec4912d2466908a60889.pdf</td>\n",
       "      <td>address__post_town address__postcode address__...</td>\n",
       "      <td>Annual Repor t 8\\nAccounts 2017/18\\nYear ended...</td>\n",
       "      <td>45313</td>\n",
       "      <td>Annual Repor t 8\\nAccounts 2017/18\\nYear ended...</td>\n",
       "      <td>40977</td>\n",
       "      <td>Annual Repor t 8 Accounts 2017/18 Year ended 3...</td>\n",
       "      <td>35417</td>\n",
       "    </tr>\n",
       "    <tr>\n",
       "      <th>4</th>\n",
       "      <td>01e4461b059e707b7d8276b3d2b80b71.pdf</td>\n",
       "      <td>address__post_town address__postcode address__...</td>\n",
       "      <td>The Greenway Centre\\n(Registered charity, numb...</td>\n",
       "      <td>2896</td>\n",
       "      <td>The Greenway Centre\\n(Registered charity, numb...</td>\n",
       "      <td>2483</td>\n",
       "      <td>The Greenway Centre (Registered charity, numbe...</td>\n",
       "      <td>2004</td>\n",
       "    </tr>\n",
       "  </tbody>\n",
       "</table>\n",
       "</div>"
      ],
      "text/plain": [
       "0                              filename  \\\n",
       "0  008482cf51383c158b54e593cfa5fbf7.pdf   \n",
       "1  009fab39d746267b6de8428366fe4b02.pdf   \n",
       "2  01c7fd563327947c68abdd9717ef228d.pdf   \n",
       "3  01d804edf76bec4912d2466908a60889.pdf   \n",
       "4  01e4461b059e707b7d8276b3d2b80b71.pdf   \n",
       "\n",
       "0                                               keys  \\\n",
       "0  address__post_town address__postcode address__...   \n",
       "1  address__post_town address__postcode address__...   \n",
       "2  address__post_town address__postcode address__...   \n",
       "3  address__post_town address__postcode address__...   \n",
       "4  address__post_town address__postcode address__...   \n",
       "\n",
       "0                                          text_best  \\\n",
       "0  TAR\\n1\\nAugust 2016\\nTrustees' Annual Report f...   \n",
       "1  \\n; Na {if anv)\\n{\\noA el\\nC 3 QIC [1€d C\\nf (...   \n",
       "2  54 S ke *\\nB\\n \\nWelcome to our Annual\\nReport...   \n",
       "3  Annual Repor t 8\\nAccounts 2017/18\\nYear ended...   \n",
       "4  The Greenway Centre\\n(Registered charity, numb...   \n",
       "\n",
       "0  text_best_number_of_tokens  \\\n",
       "0                        3545   \n",
       "1                        1799   \n",
       "2                       31931   \n",
       "3                       45313   \n",
       "4                        2896   \n",
       "\n",
       "0                                  text_best_cleaned  \\\n",
       "0  TAR\\n1\\nAugust 2016\\nTrustees' Annual Report f...   \n",
       "1  \\n; Na {if anv)\\n{\\noA el\\nC 3 QIC [1€d C\\nf (...   \n",
       "2  54 S ke *\\nB\\n \\nWelcome to our Annual\\nReport...   \n",
       "3  Annual Repor t 8\\nAccounts 2017/18\\nYear ended...   \n",
       "4  The Greenway Centre\\n(Registered charity, numb...   \n",
       "\n",
       "0  text_best_cleaned_number_of_tokens  \\\n",
       "0                                2981   \n",
       "1                                1662   \n",
       "2                               29323   \n",
       "3                               40977   \n",
       "4                                2483   \n",
       "\n",
       "0                      text_best_cleaned_no_newlines  \\\n",
       "0  TAR 1 August 2016 Trustees' Annual Report for ...   \n",
       "1   ; Na {if anv) { oA el C 3 QIC [1€d C f (S ' R...   \n",
       "2  54 S ke * B   Welcome to our Annual Report for...   \n",
       "3  Annual Repor t 8 Accounts 2017/18 Year ended 3...   \n",
       "4  The Greenway Centre (Registered charity, numbe...   \n",
       "\n",
       "0  text_best_cleaned_no_newlines_number_of_tokens  \n",
       "0                                            2285  \n",
       "1                                            1491  \n",
       "2                                           25920  \n",
       "3                                           35417  \n",
       "4                                            2004  "
      ]
     },
     "execution_count": 21,
     "metadata": {},
     "output_type": "execute_result"
    }
   ],
   "source": [
    "# let's compare the number of total tokens bewteen text_best, text_best_cleaned, text_best_cleaned_no_newlines\n",
    "\n",
    "data[\"text_best_cleaned_no_newlines_number_of_tokens\"] = data[\"text_best_cleaned_no_newlines\"].apply(lambda x: len(tokenizer(x)[\"input_ids\"]))\n",
    "data.head()\n"
   ]
  },
  {
   "cell_type": "code",
   "execution_count": 22,
   "metadata": {},
   "outputs": [
    {
     "data": {
      "text/plain": [
       "count     1729.000000\n",
       "mean      8531.829381\n",
       "std       8203.933744\n",
       "min        337.000000\n",
       "25%       2983.000000\n",
       "50%       5200.000000\n",
       "75%      11347.000000\n",
       "max      62214.000000\n",
       "Name: text_best_cleaned_no_newlines_number_of_tokens, dtype: float64"
      ]
     },
     "execution_count": 22,
     "metadata": {},
     "output_type": "execute_result"
    }
   ],
   "source": [
    "data[\"text_best_cleaned_no_newlines_number_of_tokens\"].describe()"
   ]
  },
  {
   "cell_type": "code",
   "execution_count": 23,
   "metadata": {},
   "outputs": [
    {
     "data": {
      "text/html": [
       "<div>\n",
       "<style scoped>\n",
       "    .dataframe tbody tr th:only-of-type {\n",
       "        vertical-align: middle;\n",
       "    }\n",
       "\n",
       "    .dataframe tbody tr th {\n",
       "        vertical-align: top;\n",
       "    }\n",
       "\n",
       "    .dataframe thead th {\n",
       "        text-align: right;\n",
       "    }\n",
       "</style>\n",
       "<table border=\"1\" class=\"dataframe\">\n",
       "  <thead>\n",
       "    <tr style=\"text-align: right;\">\n",
       "      <th></th>\n",
       "      <th>filename</th>\n",
       "      <th>keys</th>\n",
       "      <th>text_best</th>\n",
       "      <th>text_best_number_of_tokens</th>\n",
       "      <th>text_best_cleaned</th>\n",
       "      <th>text_best_cleaned_number_of_tokens</th>\n",
       "      <th>text_best_cleaned_no_newlines</th>\n",
       "      <th>text_best_cleaned_no_newlines_number_of_tokens</th>\n",
       "    </tr>\n",
       "  </thead>\n",
       "  <tbody>\n",
       "    <tr>\n",
       "      <th>0</th>\n",
       "      <td>008482cf51383c158b54e593cfa5fbf7.pdf</td>\n",
       "      <td>address__post_town address__postcode address__...</td>\n",
       "      <td>TAR\\n1\\nAugust 2016\\nTrustees' Annual Report f...</td>\n",
       "      <td>3545</td>\n",
       "      <td>TAR\\n1\\nAugust 2016\\nTrustees' Annual Report f...</td>\n",
       "      <td>2981</td>\n",
       "      <td>TAR 1 August 2016 Trustees' Annual Report for ...</td>\n",
       "      <td>2285</td>\n",
       "    </tr>\n",
       "    <tr>\n",
       "      <th>1</th>\n",
       "      <td>009fab39d746267b6de8428366fe4b02.pdf</td>\n",
       "      <td>address__post_town address__postcode address__...</td>\n",
       "      <td>\\n; Na {if anv)\\n{\\noA el\\nC 3 QIC [1€d C\\nf (...</td>\n",
       "      <td>1799</td>\n",
       "      <td>\\n; Na {if anv)\\n{\\noA el\\nC 3 QIC [1€d C\\nf (...</td>\n",
       "      <td>1662</td>\n",
       "      <td>; Na {if anv) { oA el C 3 QIC [1€d C f (S ' R...</td>\n",
       "      <td>1491</td>\n",
       "    </tr>\n",
       "    <tr>\n",
       "      <th>2</th>\n",
       "      <td>01c7fd563327947c68abdd9717ef228d.pdf</td>\n",
       "      <td>address__post_town address__postcode address__...</td>\n",
       "      <td>54 S ke *\\nB\\n \\nWelcome to our Annual\\nReport...</td>\n",
       "      <td>31931</td>\n",
       "      <td>54 S ke *\\nB\\n \\nWelcome to our Annual\\nReport...</td>\n",
       "      <td>29323</td>\n",
       "      <td>54 S ke * B   Welcome to our Annual Report for...</td>\n",
       "      <td>25920</td>\n",
       "    </tr>\n",
       "    <tr>\n",
       "      <th>3</th>\n",
       "      <td>01d804edf76bec4912d2466908a60889.pdf</td>\n",
       "      <td>address__post_town address__postcode address__...</td>\n",
       "      <td>Annual Repor t 8\\nAccounts 2017/18\\nYear ended...</td>\n",
       "      <td>45313</td>\n",
       "      <td>Annual Repor t 8\\nAccounts 2017/18\\nYear ended...</td>\n",
       "      <td>40977</td>\n",
       "      <td>Annual Repor t 8 Accounts 2017/18 Year ended 3...</td>\n",
       "      <td>35417</td>\n",
       "    </tr>\n",
       "    <tr>\n",
       "      <th>4</th>\n",
       "      <td>01e4461b059e707b7d8276b3d2b80b71.pdf</td>\n",
       "      <td>address__post_town address__postcode address__...</td>\n",
       "      <td>The Greenway Centre\\n(Registered charity, numb...</td>\n",
       "      <td>2896</td>\n",
       "      <td>The Greenway Centre\\n(Registered charity, numb...</td>\n",
       "      <td>2483</td>\n",
       "      <td>The Greenway Centre (Registered charity, numbe...</td>\n",
       "      <td>2004</td>\n",
       "    </tr>\n",
       "  </tbody>\n",
       "</table>\n",
       "</div>"
      ],
      "text/plain": [
       "0                              filename  \\\n",
       "0  008482cf51383c158b54e593cfa5fbf7.pdf   \n",
       "1  009fab39d746267b6de8428366fe4b02.pdf   \n",
       "2  01c7fd563327947c68abdd9717ef228d.pdf   \n",
       "3  01d804edf76bec4912d2466908a60889.pdf   \n",
       "4  01e4461b059e707b7d8276b3d2b80b71.pdf   \n",
       "\n",
       "0                                               keys  \\\n",
       "0  address__post_town address__postcode address__...   \n",
       "1  address__post_town address__postcode address__...   \n",
       "2  address__post_town address__postcode address__...   \n",
       "3  address__post_town address__postcode address__...   \n",
       "4  address__post_town address__postcode address__...   \n",
       "\n",
       "0                                          text_best  \\\n",
       "0  TAR\\n1\\nAugust 2016\\nTrustees' Annual Report f...   \n",
       "1  \\n; Na {if anv)\\n{\\noA el\\nC 3 QIC [1€d C\\nf (...   \n",
       "2  54 S ke *\\nB\\n \\nWelcome to our Annual\\nReport...   \n",
       "3  Annual Repor t 8\\nAccounts 2017/18\\nYear ended...   \n",
       "4  The Greenway Centre\\n(Registered charity, numb...   \n",
       "\n",
       "0  text_best_number_of_tokens  \\\n",
       "0                        3545   \n",
       "1                        1799   \n",
       "2                       31931   \n",
       "3                       45313   \n",
       "4                        2896   \n",
       "\n",
       "0                                  text_best_cleaned  \\\n",
       "0  TAR\\n1\\nAugust 2016\\nTrustees' Annual Report f...   \n",
       "1  \\n; Na {if anv)\\n{\\noA el\\nC 3 QIC [1€d C\\nf (...   \n",
       "2  54 S ke *\\nB\\n \\nWelcome to our Annual\\nReport...   \n",
       "3  Annual Repor t 8\\nAccounts 2017/18\\nYear ended...   \n",
       "4  The Greenway Centre\\n(Registered charity, numb...   \n",
       "\n",
       "0  text_best_cleaned_number_of_tokens  \\\n",
       "0                                2981   \n",
       "1                                1662   \n",
       "2                               29323   \n",
       "3                               40977   \n",
       "4                                2483   \n",
       "\n",
       "0                      text_best_cleaned_no_newlines  \\\n",
       "0  TAR 1 August 2016 Trustees' Annual Report for ...   \n",
       "1   ; Na {if anv) { oA el C 3 QIC [1€d C f (S ' R...   \n",
       "2  54 S ke * B   Welcome to our Annual Report for...   \n",
       "3  Annual Repor t 8 Accounts 2017/18 Year ended 3...   \n",
       "4  The Greenway Centre (Registered charity, numbe...   \n",
       "\n",
       "0  text_best_cleaned_no_newlines_number_of_tokens  \n",
       "0                                            2285  \n",
       "1                                            1491  \n",
       "2                                           25920  \n",
       "3                                           35417  \n",
       "4                                            2004  "
      ]
     },
     "execution_count": 23,
     "metadata": {},
     "output_type": "execute_result"
    }
   ],
   "source": [
    "data.head()"
   ]
  },
  {
   "cell_type": "code",
   "execution_count": 24,
   "metadata": {},
   "outputs": [],
   "source": [
    "data.to_csv(\"./datasets/kleister_charity/train/in_extended.tsv\", sep=\"\\t\", index=False)"
   ]
  },
  {
   "cell_type": "code",
   "execution_count": 27,
   "metadata": {},
   "outputs": [
    {
     "data": {
      "text/html": [
       "<div>\n",
       "<style scoped>\n",
       "    .dataframe tbody tr th:only-of-type {\n",
       "        vertical-align: middle;\n",
       "    }\n",
       "\n",
       "    .dataframe tbody tr th {\n",
       "        vertical-align: top;\n",
       "    }\n",
       "\n",
       "    .dataframe thead th {\n",
       "        text-align: right;\n",
       "    }\n",
       "</style>\n",
       "<table border=\"1\" class=\"dataframe\">\n",
       "  <thead>\n",
       "    <tr style=\"text-align: right;\">\n",
       "      <th></th>\n",
       "      <th>filename</th>\n",
       "      <th>keys</th>\n",
       "      <th>text_best</th>\n",
       "      <th>text_best_number_of_tokens</th>\n",
       "      <th>text_best_cleaned</th>\n",
       "      <th>text_best_cleaned_number_of_tokens</th>\n",
       "      <th>text_best_cleaned_no_newlines</th>\n",
       "      <th>text_best_cleaned_no_newlines_number_of_tokens</th>\n",
       "    </tr>\n",
       "  </thead>\n",
       "  <tbody>\n",
       "    <tr>\n",
       "      <th>125</th>\n",
       "      <td>1089b7db0e777e3df7b3d32d94b473e6.pdf</td>\n",
       "      <td>address__post_town address__postcode address__...</td>\n",
       "      <td>Ushaw Moor Pre-school/Childcare\\nDurham Road\\n...</td>\n",
       "      <td>414</td>\n",
       "      <td>Ushaw Moor Pre-school/Childcare\\nDurham Road\\n...</td>\n",
       "      <td>384</td>\n",
       "      <td>Ushaw Moor Pre-school/Childcare Durham Road Us...</td>\n",
       "      <td>337</td>\n",
       "    </tr>\n",
       "    <tr>\n",
       "      <th>1244</th>\n",
       "      <td>b6583cf1d930e75fa940530e7b122086.pdf</td>\n",
       "      <td>address__post_town address__postcode address__...</td>\n",
       "      <td>Irlam and Cadishead Foodbank\\nRegistered no. 1...</td>\n",
       "      <td>432</td>\n",
       "      <td>Irlam and Cadishead Foodbank\\nRegistered no. 1...</td>\n",
       "      <td>401</td>\n",
       "      <td>Irlam and Cadishead Foodbank Registered no. 11...</td>\n",
       "      <td>364</td>\n",
       "    </tr>\n",
       "    <tr>\n",
       "      <th>738</th>\n",
       "      <td>68a6d7b7b3e68e6bf53ddcf33af76fea.pdf</td>\n",
       "      <td>address__post_town address__postcode address__...</td>\n",
       "      <td>THE LADYBIRD PLAYGROUP\\nBRUTON\\nREPORT AND ACC...</td>\n",
       "      <td>670</td>\n",
       "      <td>THE LADYBIRD PLAYGROUP\\nBRUTON\\nREPORT AND ACC...</td>\n",
       "      <td>565</td>\n",
       "      <td>THE LADYBIRD PLAYGROUP BRUTON REPORT AND ACCOU...</td>\n",
       "      <td>451</td>\n",
       "    </tr>\n",
       "    <tr>\n",
       "      <th>343</th>\n",
       "      <td>306e72c47e76fcc6e1b7764a7b49398d.pdf</td>\n",
       "      <td>address__post_town address__postcode address__...</td>\n",
       "      <td>THE LADYBIRD PLAYGROUP\\nBRUTON\\nREPORT AND ACC...</td>\n",
       "      <td>693</td>\n",
       "      <td>THE LADYBIRD PLAYGROUP\\nBRUTON\\nREPORT AND ACC...</td>\n",
       "      <td>580</td>\n",
       "      <td>THE LADYBIRD PLAYGROUP BRUTON REPORT AND ACCOU...</td>\n",
       "      <td>456</td>\n",
       "    </tr>\n",
       "    <tr>\n",
       "      <th>1381</th>\n",
       "      <td>cac41a40f74b540c4547c59d52497f47.pdf</td>\n",
       "      <td>address__post_town address__postcode address__...</td>\n",
       "      <td>GARTH CELYN TRUST /YMDDIRIEDOLAETH GARTH CELYN...</td>\n",
       "      <td>676</td>\n",
       "      <td>GARTH CELYN TRUST /YMDDIRIEDOLAETH GARTH CELYN...</td>\n",
       "      <td>623</td>\n",
       "      <td>GARTH CELYN TRUST /YMDDIRIEDOLAETH GARTH CELYN...</td>\n",
       "      <td>559</td>\n",
       "    </tr>\n",
       "  </tbody>\n",
       "</table>\n",
       "</div>"
      ],
      "text/plain": [
       "0                                 filename  \\\n",
       "125   1089b7db0e777e3df7b3d32d94b473e6.pdf   \n",
       "1244  b6583cf1d930e75fa940530e7b122086.pdf   \n",
       "738   68a6d7b7b3e68e6bf53ddcf33af76fea.pdf   \n",
       "343   306e72c47e76fcc6e1b7764a7b49398d.pdf   \n",
       "1381  cac41a40f74b540c4547c59d52497f47.pdf   \n",
       "\n",
       "0                                                  keys  \\\n",
       "125   address__post_town address__postcode address__...   \n",
       "1244  address__post_town address__postcode address__...   \n",
       "738   address__post_town address__postcode address__...   \n",
       "343   address__post_town address__postcode address__...   \n",
       "1381  address__post_town address__postcode address__...   \n",
       "\n",
       "0                                             text_best  \\\n",
       "125   Ushaw Moor Pre-school/Childcare\\nDurham Road\\n...   \n",
       "1244  Irlam and Cadishead Foodbank\\nRegistered no. 1...   \n",
       "738   THE LADYBIRD PLAYGROUP\\nBRUTON\\nREPORT AND ACC...   \n",
       "343   THE LADYBIRD PLAYGROUP\\nBRUTON\\nREPORT AND ACC...   \n",
       "1381  GARTH CELYN TRUST /YMDDIRIEDOLAETH GARTH CELYN...   \n",
       "\n",
       "0     text_best_number_of_tokens  \\\n",
       "125                          414   \n",
       "1244                         432   \n",
       "738                          670   \n",
       "343                          693   \n",
       "1381                         676   \n",
       "\n",
       "0                                     text_best_cleaned  \\\n",
       "125   Ushaw Moor Pre-school/Childcare\\nDurham Road\\n...   \n",
       "1244  Irlam and Cadishead Foodbank\\nRegistered no. 1...   \n",
       "738   THE LADYBIRD PLAYGROUP\\nBRUTON\\nREPORT AND ACC...   \n",
       "343   THE LADYBIRD PLAYGROUP\\nBRUTON\\nREPORT AND ACC...   \n",
       "1381  GARTH CELYN TRUST /YMDDIRIEDOLAETH GARTH CELYN...   \n",
       "\n",
       "0     text_best_cleaned_number_of_tokens  \\\n",
       "125                                  384   \n",
       "1244                                 401   \n",
       "738                                  565   \n",
       "343                                  580   \n",
       "1381                                 623   \n",
       "\n",
       "0                         text_best_cleaned_no_newlines  \\\n",
       "125   Ushaw Moor Pre-school/Childcare Durham Road Us...   \n",
       "1244  Irlam and Cadishead Foodbank Registered no. 11...   \n",
       "738   THE LADYBIRD PLAYGROUP BRUTON REPORT AND ACCOU...   \n",
       "343   THE LADYBIRD PLAYGROUP BRUTON REPORT AND ACCOU...   \n",
       "1381  GARTH CELYN TRUST /YMDDIRIEDOLAETH GARTH CELYN...   \n",
       "\n",
       "0     text_best_cleaned_no_newlines_number_of_tokens  \n",
       "125                                              337  \n",
       "1244                                             364  \n",
       "738                                              451  \n",
       "343                                              456  \n",
       "1381                                             559  "
      ]
     },
     "execution_count": 27,
     "metadata": {},
     "output_type": "execute_result"
    }
   ],
   "source": [
    "# sort data by text_best_cleaned_number_of_tokens (ascending)\n",
    "data = data.sort_values(by=\"text_best_cleaned_number_of_tokens\", ascending=True)\n",
    "data.head()"
   ]
  },
  {
   "cell_type": "code",
   "execution_count": 1,
   "metadata": {},
   "outputs": [
    {
     "ename": "NameError",
     "evalue": "name 'data' is not defined",
     "output_type": "error",
     "traceback": [
      "\u001b[0;31m---------------------------------------------------------------------------\u001b[0m",
      "\u001b[0;31mNameError\u001b[0m                                 Traceback (most recent call last)",
      "Cell \u001b[0;32mIn [1], line 2\u001b[0m\n\u001b[1;32m      1\u001b[0m \u001b[39m# get text_best_cleaned of the shortest document\u001b[39;00m\n\u001b[0;32m----> 2\u001b[0m shortest \u001b[39m=\u001b[39m data\u001b[39m.\u001b[39miloc[\u001b[39m0\u001b[39m][\u001b[39m\"\u001b[39m\u001b[39mtext_best_cleaned\u001b[39m\u001b[39m\"\u001b[39m]\n\u001b[1;32m      3\u001b[0m \u001b[39mprint\u001b[39m(shortest)\n",
      "\u001b[0;31mNameError\u001b[0m: name 'data' is not defined"
     ]
    }
   ],
   "source": [
    "# get text_best_cleaned of the shortest document\n",
    "shortest = data.iloc[0][\"text_best_cleaned\"]\n",
    "print(shortest)"
   ]
  },
  {
   "cell_type": "code",
   "execution_count": null,
   "metadata": {},
   "outputs": [],
   "source": []
  }
 ],
 "metadata": {
  "kernelspec": {
   "display_name": "Python 3.8.5 ('uni-kie-JrmAaldC-py3.8')",
   "language": "python",
   "name": "python3"
  },
  "language_info": {
   "codemirror_mode": {
    "name": "ipython",
    "version": 3
   },
   "file_extension": ".py",
   "mimetype": "text/x-python",
   "name": "python",
   "nbconvert_exporter": "python",
   "pygments_lexer": "ipython3",
   "version": "3.8.5"
  },
  "vscode": {
   "interpreter": {
    "hash": "cec8707b55c29234c829cd46c92f0adfa2b741d49905cfffb1cd22fea1c1c224"
   }
  }
 },
 "nbformat": 4,
 "nbformat_minor": 0
}
