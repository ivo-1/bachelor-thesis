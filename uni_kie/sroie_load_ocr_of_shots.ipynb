{
 "cells": [
  {
   "cell_type": "code",
   "execution_count": 10,
   "metadata": {},
   "outputs": [],
   "source": [
    "from transformers import GPT2TokenizerFast\n",
    "tokenizer = GPT2TokenizerFast.from_pretrained(\"gpt2\")"
   ]
  },
  {
   "cell_type": "code",
   "execution_count": 11,
   "metadata": {},
   "outputs": [],
   "source": [
    "path_shot_1 = \"/Users/ivo/PycharmProjects/Levity/unimodal-kie/uni_kie/datasets/sroie/test/shots/X51005676549_ocr.txt\"\n",
    "path_shot_2 = \"/Users/ivo/PycharmProjects/Levity/unimodal-kie/uni_kie/datasets/sroie/test/shots/X51006008089_ocr.txt\""
   ]
  },
  {
   "cell_type": "code",
   "execution_count": 12,
   "metadata": {},
   "outputs": [],
   "source": [
    "def clean_ocr(path):\n",
    "\n",
    "    line_list = []\n",
    "\n",
    "    with open(path, \"r\", errors=\"ignore\") as f:\n",
    "        for line in f.read().splitlines():\n",
    "            if len(line) == 0:\n",
    "                continue\n",
    "\n",
    "            split_lines = line.split(\",\")\n",
    "            text = \",\".join(\n",
    "                split_lines[8:]\n",
    "            )  # text may contain commas so we have to rejoin accordingly\n",
    "            line_list.append(text)\n",
    "\n",
    "    combined_text = \"\\n\".join([line for line in line_list])\n",
    "\n",
    "    return combined_text\n"
   ]
  },
  {
   "cell_type": "code",
   "execution_count": 13,
   "metadata": {},
   "outputs": [
    {
     "data": {
      "text/plain": [
       "\"SYARIKAT PERNIAGAAN GIN KEE\\n(81109-A)\\nNO 290, JALAN AIR PANAS.\\nSETAPAK.\\n53200, KUALA LUMPUR.\\nTEL :03-40210276\\nGST ID : 000750673920\\nSIMPLIFIED TAX INVOICE\\nCASH\\nDOC NO.\\n: CS00012504\\nDATE:\\n02/01/2018\\nCASHIER\\n: USER\\nTIME:\\n14:49:00\\nSALESPERSON :\\nREF.:\\nITEM\\nQTY\\nS/PRICE\\nAMOUNT\\nTAX\\n1762\\n1\\n7.95\\n7.95\\nSR\\n17MM COMB SPANNER\\n1041\\n2\\n15.90\\n31.80\\nSR\\n6' X 35# CORRUGATED ROOFING SHEET\\nTOTAL QTY:\\n3\\n39.75\\nTOTAL SALES (EXCLUDING GST) :\\n37.50\\nDISCOUNT :\\n0.00\\nTOTAL GST :\\n2.25\\nROUNDING :\\n0.00\\nTOTAL SALES (INCLUSIVE OF GST) :\\n39.75\\nCASH :\\n39.75\\nCHANGE :\\n0.00\\nGST SUMMARY\\nTAX CODE\\nSR\\n%\\n6\\nAMT (RM)\\n37.50\\nTAX (RM)\\n2.25\\nTOTAL :\\n37.50\\n2.25\\nGOODS SOLD ARE NOTRETURNABLE. THANK YOU\""
      ]
     },
     "execution_count": 13,
     "metadata": {},
     "output_type": "execute_result"
    }
   ],
   "source": [
    "cleaned_ocr_shot_1 = clean_ocr(path_shot_1)\n",
    "cleaned_ocr_shot_1"
   ]
  },
  {
   "cell_type": "code",
   "execution_count": 14,
   "metadata": {},
   "outputs": [
    {
     "data": {
      "text/plain": [
       "346"
      ]
     },
     "execution_count": 14,
     "metadata": {},
     "output_type": "execute_result"
    }
   ],
   "source": [
    "# count number of tokens\n",
    "len(tokenizer(cleaned_ocr_shot_1)[\"input_ids\"])"
   ]
  },
  {
   "cell_type": "code",
   "execution_count": 15,
   "metadata": {},
   "outputs": [
    {
     "data": {
      "text/plain": [
       "\"POPULAR BOOK\\nCO. (M) SDN BHD\\n(CO. NO. 113825-W)\\n(GST REG NO. 001492992000)\\nNO 8, JALAN 7/118B, DESA TUN RAZAK\\n56000 KUALA LUMPUR, MALAYSIA\\nAEON SHAH ALAM\\nTEL : 03-55235214\\n27/02/18 21:22\\nTASHA\\nSLIP NO. : 8020188757\\nTRANS : 204002\\nMEMBER CARD NO : 1001016668849\\nCARD EXPIRY : 31/05/18\\nDESCRIPTION\\nAMOUNT\\nDOCUMENT HOL A4 1466A-TRA\\n2PC @ 1.15\\nMEMBER DISCOUNT\\nPB PVC A4 L-FLD PBA4L25\\n2PC @ 3.90\\nMEMBER DISCOUNT\\nCANON CAL AS120V GREY\\nMEMBER DISCOUNT\\nNASI'APR16/SEASHORE\\n[BK]\\n2.30 T\\n-0.24\\n7.80 T\\n-0.78\\n29.90 T\\n-2.99\\n5.00 Z\\nTOTAL RM INCL OF GST\\nROUNDING ADJ\\nTOTAL RM\\nCASH\\nCHANGE\\n40.99\\n0.01\\n41.00\\n-51.00\\n10.00\\nITEM COUNT\\nGST SUMMARY\\nT @ 6%\\nZ @ 0%\\nAMOUNT (RM)\\n33.95\\n5.00\\n6\\nTAX (RM)\\n2.04\\n0.00\\nTOTAL SAVINGS\\n-4.01\\nBE A POPULAR CARD MEMBER\\nAND ENJOY SPECIAL DISCOUNTS\\nTHANK YOU. PLEASE COME AGAIN.\\nWWW.POPULAR.COM.MY\\nBUY CHINESE BOOKS ONLINE\\nWWW.POPULARONLINE.COM.MY\""
      ]
     },
     "execution_count": 15,
     "metadata": {},
     "output_type": "execute_result"
    }
   ],
   "source": [
    "cleaned_ocr_shot_2 = clean_ocr(path_shot_2)\n",
    "cleaned_ocr_shot_2"
   ]
  },
  {
   "cell_type": "code",
   "execution_count": 16,
   "metadata": {},
   "outputs": [
    {
     "data": {
      "text/plain": [
       "438"
      ]
     },
     "execution_count": 16,
     "metadata": {},
     "output_type": "execute_result"
    }
   ],
   "source": [
    "# count number of tokens\n",
    "len(tokenizer(cleaned_ocr_shot_2)[\"input_ids\"])"
   ]
  }
 ],
 "metadata": {
  "kernelspec": {
   "display_name": "Python 3.8.5 ('uni-kie-JrmAaldC-py3.8')",
   "language": "python",
   "name": "python3"
  },
  "language_info": {
   "codemirror_mode": {
    "name": "ipython",
    "version": 3
   },
   "file_extension": ".py",
   "mimetype": "text/x-python",
   "name": "python",
   "nbconvert_exporter": "python",
   "pygments_lexer": "ipython3",
   "version": "3.8.5"
  },
  "vscode": {
   "interpreter": {
    "hash": "cec8707b55c29234c829cd46c92f0adfa2b741d49905cfffb1cd22fea1c1c224"
   }
  }
 },
 "nbformat": 4,
 "nbformat_minor": 0
}
