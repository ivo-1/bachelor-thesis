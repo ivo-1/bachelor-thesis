{
 "cells": [
  {
   "cell_type": "code",
   "execution_count": 1,
   "metadata": {
    "collapsed": false
   },
   "outputs": [
    {
     "name": "stderr",
     "output_type": "stream",
     "text": [
      "None of PyTorch, TensorFlow >= 2.0, or Flax have been found. Models won't be available and only tokenizers, configuration and file/data utilities can be used.\n"
     ]
    }
   ],
   "source": [
    "import pandas as pd\n",
    "import numpy as np\n",
    "import matplotlib.pyplot as plt\n",
    "from transformers import GPT2TokenizerFast\n",
    "import seaborn as sns\n",
    "from uni_kie.pdf_to_text.pdf_to_text import SroieWrapperOwnOCR, SroieWrapper"
   ]
  },
  {
   "cell_type": "code",
   "execution_count": 2,
   "metadata": {},
   "outputs": [],
   "source": [
    "tokenizer = GPT2TokenizerFast.from_pretrained(\"gpt2\") # this is the same tokenizer that openai uses for their instructGPT model family"
   ]
  },
  {
   "cell_type": "code",
   "execution_count": 3,
   "metadata": {},
   "outputs": [],
   "source": [
    "data = pd.DataFrame(columns=[\"filename\", \"text_own_ocr\", \"num_tokens_own_ocr\", \"text_sroie_ocr\", \"num_tokens_sroie_ocr\"])"
   ]
  },
  {
   "attachments": {},
   "cell_type": "markdown",
   "metadata": {},
   "source": [
    "## Extracting text with own OCR (PyMuPDF)"
   ]
  },
  {
   "cell_type": "code",
   "execution_count": 4,
   "metadata": {},
   "outputs": [
    {
     "name": "stdout",
     "output_type": "stream",
     "text": [
      ">>>>>>>>>>>>>> LOADING test SET\n"
     ]
    },
    {
     "name": "stderr",
     "output_type": "stream",
     "text": [
      "Error in pixScaleAreaMap: pixd too small\n",
      "Error in pixClone: pixs not defined\n",
      "Error in pixCopyText: pixd not defined\n",
      "Error in pixCopyInputFormat: pixd not defined\n",
      "Scaling pix of size 8, 1596 by factor 0.0225564 made null pix!!\n",
      "Bad pix from ImageData!\n",
      "Line cannot be recognized!!\n",
      "Image too small to scale!! (1x36 vs min width of 3)\n",
      "Line cannot be recognized!!\n",
      "Image too small to scale!! (2x36 vs min width of 3)\n",
      "Line cannot be recognized!!\n",
      "Image too small to scale!! (2x36 vs min width of 3)\n",
      "Line cannot be recognized!!\n",
      "Image too small to scale!! (2x36 vs min width of 3)\n",
      "Line cannot be recognized!!\n",
      "Image too small to scale!! (1x36 vs min width of 3)\n",
      "Line cannot be recognized!!\n",
      "Image too small to scale!! (2x36 vs min width of 3)\n",
      "Line cannot be recognized!!\n",
      "Image too small to scale!! (2x36 vs min width of 3)\n",
      "Line cannot be recognized!!\n",
      "Error in pixScaleAreaMap: pixd too small\n",
      "Error in pixClone: pixs not defined\n",
      "Error in pixCopyText: pixd not defined\n",
      "Error in pixCopyInputFormat: pixd not defined\n",
      "Scaling pix of size 8, 1573 by factor 0.0228862 made null pix!!\n",
      "Bad pix from ImageData!\n",
      "Line cannot be recognized!!\n",
      "Image too small to scale!! (2x36 vs min width of 3)\n",
      "Line cannot be recognized!!\n",
      "Image too small to scale!! (2x36 vs min width of 3)\n",
      "Line cannot be recognized!!\n",
      "Image too small to scale!! (2x36 vs min width of 3)\n",
      "Line cannot be recognized!!\n",
      "Image too small to scale!! (2x36 vs min width of 3)\n",
      "Line cannot be recognized!!\n",
      "Image too small to scale!! (2x36 vs min width of 3)\n",
      "Line cannot be recognized!!\n",
      "Image too small to scale!! (2x36 vs min width of 3)\n",
      "Line cannot be recognized!!\n",
      "Image too small to scale!! (2x36 vs min width of 3)\n",
      "Line cannot be recognized!!\n",
      "Image too small to scale!! (2x36 vs min width of 3)\n",
      "Line cannot be recognized!!\n",
      "Image too small to scale!! (2x36 vs min width of 3)\n",
      "Line cannot be recognized!!\n",
      "Image too small to scale!! (2x36 vs min width of 3)\n",
      "Line cannot be recognized!!\n",
      "Image too small to scale!! (2x36 vs min width of 3)\n",
      "Line cannot be recognized!!\n",
      "Image too small to scale!! (2x36 vs min width of 3)\n",
      "Line cannot be recognized!!\n",
      "Image too small to scale!! (2x36 vs min width of 3)\n",
      "Line cannot be recognized!!\n",
      "Image too small to scale!! (2x36 vs min width of 3)\n",
      "Line cannot be recognized!!\n",
      "Image too small to scale!! (2x36 vs min width of 3)\n",
      "Line cannot be recognized!!\n",
      "Image too small to scale!! (2x36 vs min width of 3)\n",
      "Line cannot be recognized!!\n",
      "Image too small to scale!! (2x36 vs min width of 3)\n",
      "Line cannot be recognized!!\n",
      "Image too small to scale!! (2x36 vs min width of 3)\n",
      "Line cannot be recognized!!\n",
      "Image too small to scale!! (2x36 vs min width of 3)\n",
      "Line cannot be recognized!!\n",
      "Image too small to scale!! (2x36 vs min width of 3)\n",
      "Line cannot be recognized!!\n",
      "Image too small to scale!! (2x36 vs min width of 3)\n",
      "Line cannot be recognized!!\n",
      "Image too small to scale!! (2x36 vs min width of 3)\n",
      "Line cannot be recognized!!\n",
      "Image too small to scale!! (2x36 vs min width of 3)\n",
      "Line cannot be recognized!!\n",
      "Image too small to scale!! (2x36 vs min width of 3)\n",
      "Line cannot be recognized!!\n",
      "Image too small to scale!! (2x36 vs min width of 3)\n",
      "Line cannot be recognized!!\n",
      "Image too small to scale!! (2x36 vs min width of 3)\n",
      "Line cannot be recognized!!\n",
      "Image too small to scale!! (2x36 vs min width of 3)\n",
      "Line cannot be recognized!!\n",
      "Image too small to scale!! (2x36 vs min width of 3)\n",
      "Line cannot be recognized!!\n",
      "Image too small to scale!! (2x36 vs min width of 3)\n",
      "Line cannot be recognized!!\n",
      "Image too small to scale!! (2x36 vs min width of 3)\n",
      "Line cannot be recognized!!\n",
      "Image too small to scale!! (2x36 vs min width of 3)\n",
      "Line cannot be recognized!!\n",
      "Image too small to scale!! (2x36 vs min width of 3)\n",
      "Line cannot be recognized!!\n",
      "Image too small to scale!! (2x36 vs min width of 3)\n",
      "Line cannot be recognized!!\n",
      "Image too small to scale!! (2x36 vs min width of 3)\n",
      "Line cannot be recognized!!\n",
      "Image too small to scale!! (2x36 vs min width of 3)\n",
      "Line cannot be recognized!!\n",
      "Image too small to scale!! (2x36 vs min width of 3)\n",
      "Line cannot be recognized!!\n",
      "Image too small to scale!! (2x36 vs min width of 3)\n",
      "Line cannot be recognized!!\n",
      "Image too small to scale!! (2x36 vs min width of 3)\n",
      "Line cannot be recognized!!\n",
      "Image too small to scale!! (2x36 vs min width of 3)\n",
      "Line cannot be recognized!!\n",
      "Image too small to scale!! (1x36 vs min width of 3)\n",
      "Line cannot be recognized!!\n",
      "Image too small to scale!! (2x36 vs min width of 3)\n",
      "Line cannot be recognized!!\n",
      "Image too small to scale!! (2x36 vs min width of 3)\n",
      "Line cannot be recognized!!\n",
      "Image too small to scale!! (2x36 vs min width of 3)\n",
      "Line cannot be recognized!!\n",
      "Image too small to scale!! (2x36 vs min width of 3)\n",
      "Line cannot be recognized!!\n",
      "Image too small to scale!! (2x36 vs min width of 3)\n",
      "Line cannot be recognized!!\n",
      "Image too small to scale!! (2x36 vs min width of 3)\n",
      "Line cannot be recognized!!\n",
      "Image too small to scale!! (2x36 vs min width of 3)\n",
      "Line cannot be recognized!!\n",
      "Image too small to scale!! (2x36 vs min width of 3)\n",
      "Line cannot be recognized!!\n",
      "Image too small to scale!! (2x36 vs min width of 3)\n",
      "Line cannot be recognized!!\n",
      "Image too small to scale!! (2x36 vs min width of 3)\n",
      "Line cannot be recognized!!\n",
      "Image too small to scale!! (2x36 vs min width of 3)\n",
      "Line cannot be recognized!!\n",
      "Image too small to scale!! (2x36 vs min width of 3)\n",
      "Line cannot be recognized!!\n",
      "Image too small to scale!! (2x36 vs min width of 3)\n",
      "Line cannot be recognized!!\n",
      "Image too small to scale!! (2x36 vs min width of 3)\n",
      "Line cannot be recognized!!\n",
      "Image too small to scale!! (2x36 vs min width of 3)\n",
      "Line cannot be recognized!!\n",
      "Image too small to scale!! (2x36 vs min width of 3)\n",
      "Line cannot be recognized!!\n",
      "Image too small to scale!! (2x36 vs min width of 3)\n",
      "Line cannot be recognized!!\n",
      "Image too small to scale!! (1x36 vs min width of 3)\n",
      "Line cannot be recognized!!\n",
      "Image too small to scale!! (2x36 vs min width of 3)\n",
      "Line cannot be recognized!!\n",
      "Image too small to scale!! (2x36 vs min width of 3)\n",
      "Line cannot be recognized!!\n",
      "Image too small to scale!! (2x36 vs min width of 3)\n",
      "Line cannot be recognized!!\n",
      "Image too small to scale!! (2x36 vs min width of 3)\n",
      "Line cannot be recognized!!\n",
      "Image too small to scale!! (2x36 vs min width of 3)\n",
      "Line cannot be recognized!!\n",
      "Image too small to scale!! (2x36 vs min width of 3)\n",
      "Line cannot be recognized!!\n",
      "Image too small to scale!! (2x36 vs min width of 3)\n",
      "Line cannot be recognized!!\n",
      "Image too small to scale!! (2x36 vs min width of 3)\n",
      "Line cannot be recognized!!\n",
      "Image too small to scale!! (2x36 vs min width of 3)\n",
      "Line cannot be recognized!!\n",
      "Image too small to scale!! (2x36 vs min width of 3)\n",
      "Line cannot be recognized!!\n",
      "Image too small to scale!! (2x36 vs min width of 3)\n",
      "Line cannot be recognized!!\n"
     ]
    }
   ],
   "source": [
    "sroie_wrapper_own_ocr = SroieWrapperOwnOCR()\n",
    "\n",
    "for i in range(len(sroie_wrapper_own_ocr.data)):\n",
    "    filename = sroie_wrapper_own_ocr.data[i]\n",
    "    text_own_ocr = sroie_wrapper_own_ocr.get_text(filename)\n",
    "    num_tokens_own_ocr = len(tokenizer(text_own_ocr)['input_ids'])\n",
    "    data = pd.concat([data, pd.DataFrame({'filename': [filename], 'text_own_ocr': [text_own_ocr], 'num_tokens_own_ocr': [num_tokens_own_ocr]})], ignore_index=True)"
   ]
  },
  {
   "attachments": {},
   "cell_type": "markdown",
   "metadata": {},
   "source": [
    "We can see that there are a lot of warnings which suggest that the OCR'd output may have issues. Let's look at an example:"
   ]
  },
  {
   "cell_type": "code",
   "execution_count": 5,
   "metadata": {},
   "outputs": [
    {
     "data": {
      "text/plain": [
       "PosixPath('/Users/ivo/PycharmProjects/Levity/unimodal-kie/uni_kie/datasets/sroie/test/input/X51006619842.jpg')"
      ]
     },
     "execution_count": 5,
     "metadata": {},
     "output_type": "execute_result"
    }
   ],
   "source": [
    "data.iloc[1][\"filename\"]"
   ]
  },
  {
   "attachments": {},
   "cell_type": "markdown",
   "metadata": {},
   "source": [
    "<img src=\"/Users/ivo/PycharmProjects/Levity/unimodal-kie/uni_kie/datasets/sroie/test/input/X51006619842.jpg\" width=250>"
   ]
  },
  {
   "attachments": {},
   "cell_type": "markdown",
   "metadata": {},
   "source": [
    "The extracted text for this receipt is:"
   ]
  },
  {
   "cell_type": "code",
   "execution_count": 6,
   "metadata": {},
   "outputs": [
    {
     "name": "stdout",
     "output_type": "stream",
     "text": [
      "ae.\n",
      "ee\n",
      "ee\n",
      "Sy\n",
      "i\n",
      "ee te Se i\n",
      "rn\n",
      "pe Ae\n",
      "\n",
      "\n"
     ]
    }
   ],
   "source": [
    "print(data.iloc[1]['text_own_ocr'])"
   ]
  },
  {
   "cell_type": "code",
   "execution_count": 7,
   "metadata": {
    "collapsed": false
   },
   "outputs": [
    {
     "data": {
      "text/html": [
       "<div>\n",
       "<style scoped>\n",
       "    .dataframe tbody tr th:only-of-type {\n",
       "        vertical-align: middle;\n",
       "    }\n",
       "\n",
       "    .dataframe tbody tr th {\n",
       "        vertical-align: top;\n",
       "    }\n",
       "\n",
       "    .dataframe thead th {\n",
       "        text-align: right;\n",
       "    }\n",
       "</style>\n",
       "<table border=\"1\" class=\"dataframe\">\n",
       "  <thead>\n",
       "    <tr style=\"text-align: right;\">\n",
       "      <th></th>\n",
       "      <th>filename</th>\n",
       "      <th>text_own_ocr</th>\n",
       "      <th>num_tokens_own_ocr</th>\n",
       "      <th>text_sroie_ocr</th>\n",
       "      <th>num_tokens_sroie_ocr</th>\n",
       "    </tr>\n",
       "  </thead>\n",
       "  <tbody>\n",
       "    <tr>\n",
       "      <th>0</th>\n",
       "      <td>/Users/ivo/PycharmProjects/Levity/unimodal-kie...</td>\n",
       "      <td>3 \\@ 02\\nO14,\\nLIM SENG THO HARDWARE TRADING\\n...</td>\n",
       "      <td>274</td>\n",
       "      <td>NaN</td>\n",
       "      <td>NaN</td>\n",
       "    </tr>\n",
       "    <tr>\n",
       "      <th>1</th>\n",
       "      <td>/Users/ivo/PycharmProjects/Levity/unimodal-kie...</td>\n",
       "      <td>ae.\\nee\\nee\\nSy\\ni\\nee te Se i\\nrn\\npe Ae\\n\\n</td>\n",
       "      <td>21</td>\n",
       "      <td>NaN</td>\n",
       "      <td>NaN</td>\n",
       "    </tr>\n",
       "    <tr>\n",
       "      <th>2</th>\n",
       "      <td>/Users/ivo/PycharmProjects/Levity/unimodal-kie...</td>\n",
       "      <td>(481500-M)\\nCW KHOO HARDWARE SDN BHD\\nNO.50 , ...</td>\n",
       "      <td>330</td>\n",
       "      <td>NaN</td>\n",
       "      <td>NaN</td>\n",
       "    </tr>\n",
       "    <tr>\n",
       "      <th>3</th>\n",
       "      <td>/Users/ivo/PycharmProjects/Levity/unimodal-kie...</td>\n",
       "      <td>oe\\nAEON CU.\\n(M) BHD (126926-H)\\n+\\n3RD FLR, ...</td>\n",
       "      <td>268</td>\n",
       "      <td>NaN</td>\n",
       "      <td>NaN</td>\n",
       "    </tr>\n",
       "    <tr>\n",
       "      <th>4</th>\n",
       "      <td>/Users/ivo/PycharmProjects/Levity/unimodal-kie...</td>\n",
       "      <td>SANYO STATIONERY SHOP\\nNO. 31G8&amp;33G, JALAN SET...</td>\n",
       "      <td>357</td>\n",
       "      <td>NaN</td>\n",
       "      <td>NaN</td>\n",
       "    </tr>\n",
       "  </tbody>\n",
       "</table>\n",
       "</div>"
      ],
      "text/plain": [
       "                                            filename  \\\n",
       "0  /Users/ivo/PycharmProjects/Levity/unimodal-kie...   \n",
       "1  /Users/ivo/PycharmProjects/Levity/unimodal-kie...   \n",
       "2  /Users/ivo/PycharmProjects/Levity/unimodal-kie...   \n",
       "3  /Users/ivo/PycharmProjects/Levity/unimodal-kie...   \n",
       "4  /Users/ivo/PycharmProjects/Levity/unimodal-kie...   \n",
       "\n",
       "                                        text_own_ocr num_tokens_own_ocr  \\\n",
       "0  3 \\@ 02\\nO14,\\nLIM SENG THO HARDWARE TRADING\\n...                274   \n",
       "1      ae.\\nee\\nee\\nSy\\ni\\nee te Se i\\nrn\\npe Ae\\n\\n                 21   \n",
       "2  (481500-M)\\nCW KHOO HARDWARE SDN BHD\\nNO.50 , ...                330   \n",
       "3  oe\\nAEON CU.\\n(M) BHD (126926-H)\\n+\\n3RD FLR, ...                268   \n",
       "4  SANYO STATIONERY SHOP\\nNO. 31G8&33G, JALAN SET...                357   \n",
       "\n",
       "  text_sroie_ocr num_tokens_sroie_ocr  \n",
       "0            NaN                  NaN  \n",
       "1            NaN                  NaN  \n",
       "2            NaN                  NaN  \n",
       "3            NaN                  NaN  \n",
       "4            NaN                  NaN  "
      ]
     },
     "execution_count": 7,
     "metadata": {},
     "output_type": "execute_result"
    }
   ],
   "source": [
    "data.head()"
   ]
  },
  {
   "cell_type": "code",
   "execution_count": 8,
   "metadata": {},
   "outputs": [
    {
     "name": "stdout",
     "output_type": "stream",
     "text": [
      "mean: 342, median: 335, std: 115, min: 1, max: 785\n",
      "number of documents with less than 100 tokens: 12\n"
     ]
    }
   ],
   "source": [
    "mean = int(np.mean(data['num_tokens_own_ocr']))\n",
    "median = int(np.median(data['num_tokens_own_ocr']))\n",
    "std = int(np.std(data['num_tokens_own_ocr']))\n",
    "min = int(np.min(data['num_tokens_own_ocr']))\n",
    "max = int(np.max(data['num_tokens_own_ocr']))\n",
    "\n",
    "print(f\"mean: {mean}, median: {median}, std: {std}, min: {min}, max: {max}\")\n",
    "\n",
    "print(f\"number of documents with less than 100 tokens: {len(data[data['num_tokens_own_ocr'] < 100])}\")"
   ]
  },
  {
   "cell_type": "markdown",
   "metadata": {},
   "source": [
    "Let's look closer at the distribution of the number of tokens."
   ]
  },
  {
   "cell_type": "code",
   "execution_count": 22,
   "metadata": {},
   "outputs": [
    {
     "data": {
      "image/png": "[encoded data removed]",
      "text/plain": [
       "<Figure size 1000x600 with 1 Axes>"
      ]
     },
     "metadata": {},
     "output_type": "display_data"
    }
   ],
   "source": [
    "sns.set_style(\"whitegrid\")\n",
    "sns.set_context(\"paper\", font_scale=1.5)\n",
    "sns.set_palette(\"colorblind\")\n",
    "\n",
    "fig, ax = plt.subplots(figsize=(10, 6))\n",
    "sns.histplot(data=data, x=data[\"num_tokens_own_ocr\"], ax=ax, bins=50)\n",
    "ax.set_title(\"Distribution of number of tokens in documents (with own OCR)\")\n",
    "ax.set_xlabel(f\"Number of tokens (n_bins={len(ax.patches)})\")\n",
    "ax.set_ylabel(f\"Number of documents (n={len(data)})\")\n",
    "ax.axvline(data[\"num_tokens_own_ocr\"].mean(), color=\"red\", linestyle=\"--\", label=\"Mean\")\n",
    "ax.axvline(data[\"num_tokens_own_ocr\"].median(), color=\"green\", linestyle=\"--\", label=\"Median\")\n",
    "\n",
    "ax.set_xlim(0, 810)\n",
    "ax.set_xticks(np.arange(0, 810, 100))\n",
    "\n",
    "ax.set_ylim(0, 34)\n",
    "ax.set_yticks(np.arange(0, 34, 5))\n",
    "\n",
    "ax.legend()\n",
    "\n",
    "plt.show()\n",
    "fig.savefig(\"plots/sroie/token_distribution_own_ocr.png\", dpi=300, bbox_inches=\"tight\")"
   ]
  },
  {
   "cell_type": "markdown",
   "metadata": {},
   "source": [
    "Let's look at the shortest document to get a better idea of what the input text looks like."
   ]
  },
  {
   "cell_type": "code",
   "execution_count": 10,
   "metadata": {},
   "outputs": [
    {
     "name": "stdout",
     "output_type": "stream",
     "text": [
      "\n",
      "\n"
     ]
    }
   ],
   "source": [
    "# find the shortest document\n",
    "data[data['num_tokens_own_ocr'] == data['num_tokens_own_ocr'].min()]\n",
    "\n",
    "# print the text of the shortest document\n",
    "print(data[data['num_tokens_own_ocr'] == data['num_tokens_own_ocr'].min()]['text_own_ocr'].values[0])"
   ]
  },
  {
   "attachments": {},
   "cell_type": "markdown",
   "metadata": {},
   "source": [
    "We don't even have any text for this particular receipt."
   ]
  },
  {
   "attachments": {},
   "cell_type": "markdown",
   "metadata": {},
   "source": [
    "Let's check if the text of the receipts fits in our models"
   ]
  },
  {
   "cell_type": "code",
   "execution_count": 11,
   "metadata": {},
   "outputs": [
    {
     "name": "stdout",
     "output_type": "stream",
     "text": [
      "The longest document has 785 tokens\n"
     ]
    }
   ],
   "source": [
    "print(f\"The longest document has {data['num_tokens_own_ocr'].max()} tokens\")"
   ]
  },
  {
   "attachments": {},
   "cell_type": "markdown",
   "metadata": {},
   "source": [
    "Great news, even the longest doc will easily fit into our smaller GPT-NeoX and Flan-T5 models (limit 1792)."
   ]
  },
  {
   "attachments": {},
   "cell_type": "markdown",
   "metadata": {},
   "source": [
    "Nonetheless, 12 out of the 347 documents basically don't have any extracted text. Motivated by this and the fact that potential future work should be comparable to ours, we will use the provided OCR by the data set."
   ]
  },
  {
   "attachments": {},
   "cell_type": "markdown",
   "metadata": {},
   "source": [
    "## Using provided OCR"
   ]
  },
  {
   "cell_type": "code",
   "execution_count": 12,
   "metadata": {},
   "outputs": [
    {
     "name": "stdout",
     "output_type": "stream",
     "text": [
      ">>>>>>>>>>>>>> LOADING test SET\n"
     ]
    }
   ],
   "source": [
    "sroie_wrapper = SroieWrapper()\n",
    "\n",
    "for i in range(len(sroie_wrapper.data)):\n",
    "    filename = sroie_wrapper.data.iloc[i]['filename']\n",
    "    text_sroie_ocr = sroie_wrapper.get_text(filename)\n",
    "    num_tokens_sroie_ocr = len(tokenizer(text_sroie_ocr)['input_ids'])\n",
    "\n",
    "    data.loc[data['filename'] == filename, 'text_sroie_ocr'] = text_sroie_ocr\n",
    "    data.loc[data['filename'] == filename, 'num_tokens_sroie_ocr'] = num_tokens_sroie_ocr"
   ]
  },
  {
   "cell_type": "code",
   "execution_count": 13,
   "metadata": {},
   "outputs": [
    {
     "data": {
      "text/html": [
       "<div>\n",
       "<style scoped>\n",
       "    .dataframe tbody tr th:only-of-type {\n",
       "        vertical-align: middle;\n",
       "    }\n",
       "\n",
       "    .dataframe tbody tr th {\n",
       "        vertical-align: top;\n",
       "    }\n",
       "\n",
       "    .dataframe thead th {\n",
       "        text-align: right;\n",
       "    }\n",
       "</style>\n",
       "<table border=\"1\" class=\"dataframe\">\n",
       "  <thead>\n",
       "    <tr style=\"text-align: right;\">\n",
       "      <th></th>\n",
       "      <th>filename</th>\n",
       "      <th>text_own_ocr</th>\n",
       "      <th>num_tokens_own_ocr</th>\n",
       "      <th>text_sroie_ocr</th>\n",
       "      <th>num_tokens_sroie_ocr</th>\n",
       "    </tr>\n",
       "  </thead>\n",
       "  <tbody>\n",
       "    <tr>\n",
       "      <th>0</th>\n",
       "      <td>/Users/ivo/PycharmProjects/Levity/unimodal-kie...</td>\n",
       "      <td>3 \\@ 02\\nO14,\\nLIM SENG THO HARDWARE TRADING\\n...</td>\n",
       "      <td>274</td>\n",
       "      <td>LIM SENG THO HARDWARE TRADING\\nNO 7. SIMPANG O...</td>\n",
       "      <td>267</td>\n",
       "    </tr>\n",
       "    <tr>\n",
       "      <th>1</th>\n",
       "      <td>/Users/ivo/PycharmProjects/Levity/unimodal-kie...</td>\n",
       "      <td>ae.\\nee\\nee\\nSy\\ni\\nee te Se i\\nrn\\npe Ae\\n\\n</td>\n",
       "      <td>21</td>\n",
       "      <td>YIN MA (M) SDN.BHD.(974306-T)\\nNO.2, JALAN UDA...</td>\n",
       "      <td>285</td>\n",
       "    </tr>\n",
       "    <tr>\n",
       "      <th>2</th>\n",
       "      <td>/Users/ivo/PycharmProjects/Levity/unimodal-kie...</td>\n",
       "      <td>(481500-M)\\nCW KHOO HARDWARE SDN BHD\\nNO.50 , ...</td>\n",
       "      <td>330</td>\n",
       "      <td>(481500-M)\\nC W KHOO HARDWARE SDN BHD\\nNO.50 ,...</td>\n",
       "      <td>333</td>\n",
       "    </tr>\n",
       "    <tr>\n",
       "      <th>3</th>\n",
       "      <td>/Users/ivo/PycharmProjects/Levity/unimodal-kie...</td>\n",
       "      <td>oe\\nAEON CU.\\n(M) BHD (126926-H)\\n+\\n3RD FLR, ...</td>\n",
       "      <td>268</td>\n",
       "      <td>AEON CO. (M) BHD (126926-H)\\n3RD FLR, AEON TAM...</td>\n",
       "      <td>272</td>\n",
       "    </tr>\n",
       "    <tr>\n",
       "      <th>4</th>\n",
       "      <td>/Users/ivo/PycharmProjects/Levity/unimodal-kie...</td>\n",
       "      <td>SANYO STATIONERY SHOP\\nNO. 31G8&amp;33G, JALAN SET...</td>\n",
       "      <td>357</td>\n",
       "      <td>SANYU STATIONERY SHOP\\nNO. 31G&amp;33G, JALAN SETI...</td>\n",
       "      <td>365</td>\n",
       "    </tr>\n",
       "  </tbody>\n",
       "</table>\n",
       "</div>"
      ],
      "text/plain": [
       "                                            filename  \\\n",
       "0  /Users/ivo/PycharmProjects/Levity/unimodal-kie...   \n",
       "1  /Users/ivo/PycharmProjects/Levity/unimodal-kie...   \n",
       "2  /Users/ivo/PycharmProjects/Levity/unimodal-kie...   \n",
       "3  /Users/ivo/PycharmProjects/Levity/unimodal-kie...   \n",
       "4  /Users/ivo/PycharmProjects/Levity/unimodal-kie...   \n",
       "\n",
       "                                        text_own_ocr num_tokens_own_ocr  \\\n",
       "0  3 \\@ 02\\nO14,\\nLIM SENG THO HARDWARE TRADING\\n...                274   \n",
       "1      ae.\\nee\\nee\\nSy\\ni\\nee te Se i\\nrn\\npe Ae\\n\\n                 21   \n",
       "2  (481500-M)\\nCW KHOO HARDWARE SDN BHD\\nNO.50 , ...                330   \n",
       "3  oe\\nAEON CU.\\n(M) BHD (126926-H)\\n+\\n3RD FLR, ...                268   \n",
       "4  SANYO STATIONERY SHOP\\nNO. 31G8&33G, JALAN SET...                357   \n",
       "\n",
       "                                      text_sroie_ocr num_tokens_sroie_ocr  \n",
       "0  LIM SENG THO HARDWARE TRADING\\nNO 7. SIMPANG O...                  267  \n",
       "1  YIN MA (M) SDN.BHD.(974306-T)\\nNO.2, JALAN UDA...                  285  \n",
       "2  (481500-M)\\nC W KHOO HARDWARE SDN BHD\\nNO.50 ,...                  333  \n",
       "3  AEON CO. (M) BHD (126926-H)\\n3RD FLR, AEON TAM...                  272  \n",
       "4  SANYU STATIONERY SHOP\\nNO. 31G&33G, JALAN SETI...                  365  "
      ]
     },
     "execution_count": 13,
     "metadata": {},
     "output_type": "execute_result"
    }
   ],
   "source": [
    "data.head()"
   ]
  },
  {
   "cell_type": "code",
   "execution_count": 14,
   "metadata": {},
   "outputs": [
    {
     "name": "stdout",
     "output_type": "stream",
     "text": [
      "mean: 346, median: 324, std: 93, min: 160, max: 675\n",
      "number of documents with less than 100 tokens: 0\n"
     ]
    }
   ],
   "source": [
    "mean = int(np.mean(data['num_tokens_sroie_ocr']))\n",
    "median = int(np.median(data['num_tokens_sroie_ocr']))\n",
    "std = int(np.std(data['num_tokens_sroie_ocr']))\n",
    "min = int(np.min(data['num_tokens_sroie_ocr']))\n",
    "max = int(np.max(data['num_tokens_sroie_ocr']))\n",
    "\n",
    "print(f\"mean: {mean}, median: {median}, std: {std}, min: {min}, max: {max}\")\n",
    "\n",
    "print(f\"number of documents with less than 100 tokens: {len(data[data['num_tokens_sroie_ocr'] < 100])}\")"
   ]
  },
  {
   "cell_type": "code",
   "execution_count": 23,
   "metadata": {},
   "outputs": [
    {
     "data": {
      "image/png": "[encoded data removed]",
      "text/plain": [
       "<Figure size 1000x600 with 1 Axes>"
      ]
     },
     "metadata": {},
     "output_type": "display_data"
    }
   ],
   "source": [
    "sns.set_style(\"whitegrid\")\n",
    "sns.set_context(\"paper\", font_scale=1.5)\n",
    "sns.set_palette(\"colorblind\")\n",
    "\n",
    "fig, ax = plt.subplots(figsize=(10, 6))\n",
    "sns.histplot(data=data, x=data[\"num_tokens_sroie_ocr\"], ax=ax, bins=50)\n",
    "ax.set_title(\"Distribution of number of tokens in documents (with provided OCR)\")\n",
    "ax.set_xlabel(f\"Number of tokens (n_bins={len(ax.patches)})\")\n",
    "ax.set_ylabel(f\"Number of documents (n={len(data)})\")\n",
    "ax.axvline(data[\"num_tokens_sroie_ocr\"].mean(), color=\"red\", linestyle=\"--\", label=\"Mean\")\n",
    "ax.axvline(data[\"num_tokens_sroie_ocr\"].median(), color=\"green\", linestyle=\"--\", label=\"Median\")\n",
    "\n",
    "ax.set_xlim(0, 810)\n",
    "ax.set_xticks(np.arange(0, 810, 100))\n",
    "\n",
    "ax.set_ylim(0, 34)\n",
    "ax.set_yticks(np.arange(0, 34, 5))\n",
    "\n",
    "ax.legend()\n",
    "\n",
    "plt.show()\n",
    "fig.savefig(\"plots/sroie/token_distribution_sroie_ocr.png\", dpi=300, bbox_inches=\"tight\")"
   ]
  },
  {
   "cell_type": "code",
   "execution_count": 16,
   "metadata": {},
   "outputs": [
    {
     "name": "stdout",
     "output_type": "stream",
     "text": [
      "CONTENTO (JM0761170-K)\n",
      "15, JALAN PERMAS 10/7, PERMAS\n",
      "81750 MASAI JOHOR\n",
      "20/03/18 17:19\n",
      "000000#001429\n",
      "2X 5.90\n",
      "RM\n",
      "11.80\n",
      "BUBBLE M T\n",
      "1X 4.90\n",
      "RM\n",
      "4.90\n",
      "YAM M T\n",
      "1X 1.00\n",
      "RM\n",
      "1.00\n",
      "ADD ON\n",
      "1X 3.90\n",
      "RM\n",
      "3.90\n",
      "W.CHO\n",
      "ITEMS 50\n",
      "***TOTAL\n",
      "RM\n",
      "21.60\n",
      "CASH\n",
      "RM\n",
      "30.00\n",
      "CHANGE\n",
      "RM\n",
      "8.40\n",
      "THANK YOU\n",
      "FORWARD TO YOUR NEXT VISIT\n"
     ]
    }
   ],
   "source": [
    "# let's look at the text of the shortest document\n",
    "print(data[data['num_tokens_sroie_ocr'] == data['num_tokens_sroie_ocr'].min()]['text_sroie_ocr'].values[0])"
   ]
  },
  {
   "cell_type": "code",
   "execution_count": 17,
   "metadata": {},
   "outputs": [
    {
     "name": "stdout",
     "output_type": "stream",
     "text": [
      "The longest document has 675 tokens\n"
     ]
    }
   ],
   "source": [
    "print(f\"The longest document has {data['num_tokens_sroie_ocr'].max()} tokens\")"
   ]
  }
 ],
 "metadata": {
  "kernelspec": {
   "display_name": "Python 3.8.5 ('uni-kie-JrmAaldC-py3.8')",
   "language": "python",
   "name": "python3"
  },
  "language_info": {
   "codemirror_mode": {
    "name": "ipython",
    "version": 3
   },
   "file_extension": ".py",
   "mimetype": "text/x-python",
   "name": "python",
   "nbconvert_exporter": "python",
   "pygments_lexer": "ipython3",
   "version": "3.8.5 (default, Sep  4 2020, 02:22:02) \n[Clang 10.0.0 ]"
  },
  "vscode": {
   "interpreter": {
    "hash": "cec8707b55c29234c829cd46c92f0adfa2b741d49905cfffb1cd22fea1c1c224"
   }
  }
 },
 "nbformat": 4,
 "nbformat_minor": 0
}
